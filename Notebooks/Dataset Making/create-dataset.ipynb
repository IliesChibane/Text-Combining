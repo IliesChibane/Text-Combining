{
 "cells": [
  {
   "cell_type": "code",
   "execution_count": 1,
   "metadata": {},
   "outputs": [],
   "source": [
    "from utility.get_data import download_and_load_sts_data\n",
    "sts_dev, sts_test = download_and_load_sts_data()"
   ]
  },
  {
   "cell_type": "code",
   "execution_count": 4,
   "metadata": {},
   "outputs": [
    {
     "data": {
      "text/html": [
       "<div>\n",
       "<style scoped>\n",
       "    .dataframe tbody tr th:only-of-type {\n",
       "        vertical-align: middle;\n",
       "    }\n",
       "\n",
       "    .dataframe tbody tr th {\n",
       "        vertical-align: top;\n",
       "    }\n",
       "\n",
       "    .dataframe thead th {\n",
       "        text-align: right;\n",
       "    }\n",
       "</style>\n",
       "<table border=\"1\" class=\"dataframe\">\n",
       "  <thead>\n",
       "    <tr style=\"text-align: right;\">\n",
       "      <th></th>\n",
       "      <th>sent_1</th>\n",
       "      <th>sent_2</th>\n",
       "      <th>sim</th>\n",
       "    </tr>\n",
       "  </thead>\n",
       "  <tbody>\n",
       "    <tr>\n",
       "      <th>0</th>\n",
       "      <td>A man with a hard hat is dancing.</td>\n",
       "      <td>A man wearing a hard hat is dancing.</td>\n",
       "      <td>5.00</td>\n",
       "    </tr>\n",
       "    <tr>\n",
       "      <th>1</th>\n",
       "      <td>A young child is riding a horse.</td>\n",
       "      <td>A child is riding a horse.</td>\n",
       "      <td>4.75</td>\n",
       "    </tr>\n",
       "    <tr>\n",
       "      <th>2</th>\n",
       "      <td>A man is feeding a mouse to a snake.</td>\n",
       "      <td>The man is feeding a mouse to the snake.</td>\n",
       "      <td>5.00</td>\n",
       "    </tr>\n",
       "    <tr>\n",
       "      <th>3</th>\n",
       "      <td>A woman is playing the guitar.</td>\n",
       "      <td>A man is playing guitar.</td>\n",
       "      <td>2.40</td>\n",
       "    </tr>\n",
       "    <tr>\n",
       "      <th>4</th>\n",
       "      <td>A woman is playing the flute.</td>\n",
       "      <td>A man is playing a flute.</td>\n",
       "      <td>2.75</td>\n",
       "    </tr>\n",
       "    <tr>\n",
       "      <th>...</th>\n",
       "      <td>...</td>\n",
       "      <td>...</td>\n",
       "      <td>...</td>\n",
       "    </tr>\n",
       "    <tr>\n",
       "      <th>1374</th>\n",
       "      <td>Philippines, Canada pledge to further boost re...</td>\n",
       "      <td>Philippines saves 100 after ferry sinks</td>\n",
       "      <td>0.00</td>\n",
       "    </tr>\n",
       "    <tr>\n",
       "      <th>1375</th>\n",
       "      <td>Israel bars Palestinians from Jerusalem's Old ...</td>\n",
       "      <td>Two-state solution between Palestinians, Israe...</td>\n",
       "      <td>1.00</td>\n",
       "    </tr>\n",
       "    <tr>\n",
       "      <th>1376</th>\n",
       "      <td>How much do you know about Secret Service?</td>\n",
       "      <td>Lawmakers from both sides express outrage at S...</td>\n",
       "      <td>1.00</td>\n",
       "    </tr>\n",
       "    <tr>\n",
       "      <th>1377</th>\n",
       "      <td>Obama Struggles to Soothe Saudi Fears As Iran ...</td>\n",
       "      <td>Myanmar Struggles to Finalize Voter Lists for ...</td>\n",
       "      <td>0.00</td>\n",
       "    </tr>\n",
       "    <tr>\n",
       "      <th>1378</th>\n",
       "      <td>South Korea declares end to MERS outbreak</td>\n",
       "      <td>North Korea Delegation Meets With South Korean...</td>\n",
       "      <td>0.00</td>\n",
       "    </tr>\n",
       "  </tbody>\n",
       "</table>\n",
       "<p>2879 rows × 3 columns</p>\n",
       "</div>"
      ],
      "text/plain": [
       "                                                 sent_1  \\\n",
       "0                     A man with a hard hat is dancing.   \n",
       "1                      A young child is riding a horse.   \n",
       "2                  A man is feeding a mouse to a snake.   \n",
       "3                        A woman is playing the guitar.   \n",
       "4                         A woman is playing the flute.   \n",
       "...                                                 ...   \n",
       "1374  Philippines, Canada pledge to further boost re...   \n",
       "1375  Israel bars Palestinians from Jerusalem's Old ...   \n",
       "1376         How much do you know about Secret Service?   \n",
       "1377  Obama Struggles to Soothe Saudi Fears As Iran ...   \n",
       "1378          South Korea declares end to MERS outbreak   \n",
       "\n",
       "                                                 sent_2   sim  \n",
       "0                  A man wearing a hard hat is dancing.  5.00  \n",
       "1                            A child is riding a horse.  4.75  \n",
       "2              The man is feeding a mouse to the snake.  5.00  \n",
       "3                              A man is playing guitar.  2.40  \n",
       "4                             A man is playing a flute.  2.75  \n",
       "...                                                 ...   ...  \n",
       "1374            Philippines saves 100 after ferry sinks  0.00  \n",
       "1375  Two-state solution between Palestinians, Israe...  1.00  \n",
       "1376  Lawmakers from both sides express outrage at S...  1.00  \n",
       "1377  Myanmar Struggles to Finalize Voter Lists for ...  0.00  \n",
       "1378  North Korea Delegation Meets With South Korean...  0.00  \n",
       "\n",
       "[2879 rows x 3 columns]"
      ]
     },
     "execution_count": 4,
     "metadata": {},
     "output_type": "execute_result"
    }
   ],
   "source": [
    "import pandas as pd \n",
    "concatenated_dataset = pd.concat([sts_dev, sts_test], axis=0)\n",
    "concatenated_dataset"
   ]
  },
  {
   "cell_type": "code",
   "execution_count": 7,
   "metadata": {},
   "outputs": [
    {
     "data": {
      "text/html": [
       "<div>\n",
       "<style scoped>\n",
       "    .dataframe tbody tr th:only-of-type {\n",
       "        vertical-align: middle;\n",
       "    }\n",
       "\n",
       "    .dataframe tbody tr th {\n",
       "        vertical-align: top;\n",
       "    }\n",
       "\n",
       "    .dataframe thead th {\n",
       "        text-align: right;\n",
       "    }\n",
       "</style>\n",
       "<table border=\"1\" class=\"dataframe\">\n",
       "  <thead>\n",
       "    <tr style=\"text-align: right;\">\n",
       "      <th></th>\n",
       "      <th>sent_1</th>\n",
       "      <th>sent_2</th>\n",
       "    </tr>\n",
       "  </thead>\n",
       "  <tbody>\n",
       "    <tr>\n",
       "      <th>0</th>\n",
       "      <td>A man with a hard hat is dancing.</td>\n",
       "      <td>A man wearing a hard hat is dancing.</td>\n",
       "    </tr>\n",
       "    <tr>\n",
       "      <th>1</th>\n",
       "      <td>A young child is riding a horse.</td>\n",
       "      <td>A child is riding a horse.</td>\n",
       "    </tr>\n",
       "    <tr>\n",
       "      <th>2</th>\n",
       "      <td>A man is feeding a mouse to a snake.</td>\n",
       "      <td>The man is feeding a mouse to the snake.</td>\n",
       "    </tr>\n",
       "    <tr>\n",
       "      <th>3</th>\n",
       "      <td>A woman is playing the guitar.</td>\n",
       "      <td>A man is playing guitar.</td>\n",
       "    </tr>\n",
       "    <tr>\n",
       "      <th>4</th>\n",
       "      <td>A woman is playing the flute.</td>\n",
       "      <td>A man is playing a flute.</td>\n",
       "    </tr>\n",
       "    <tr>\n",
       "      <th>...</th>\n",
       "      <td>...</td>\n",
       "      <td>...</td>\n",
       "    </tr>\n",
       "    <tr>\n",
       "      <th>1374</th>\n",
       "      <td>Philippines, Canada pledge to further boost re...</td>\n",
       "      <td>Philippines saves 100 after ferry sinks</td>\n",
       "    </tr>\n",
       "    <tr>\n",
       "      <th>1375</th>\n",
       "      <td>Israel bars Palestinians from Jerusalem's Old ...</td>\n",
       "      <td>Two-state solution between Palestinians, Israe...</td>\n",
       "    </tr>\n",
       "    <tr>\n",
       "      <th>1376</th>\n",
       "      <td>How much do you know about Secret Service?</td>\n",
       "      <td>Lawmakers from both sides express outrage at S...</td>\n",
       "    </tr>\n",
       "    <tr>\n",
       "      <th>1377</th>\n",
       "      <td>Obama Struggles to Soothe Saudi Fears As Iran ...</td>\n",
       "      <td>Myanmar Struggles to Finalize Voter Lists for ...</td>\n",
       "    </tr>\n",
       "    <tr>\n",
       "      <th>1378</th>\n",
       "      <td>South Korea declares end to MERS outbreak</td>\n",
       "      <td>North Korea Delegation Meets With South Korean...</td>\n",
       "    </tr>\n",
       "  </tbody>\n",
       "</table>\n",
       "<p>2879 rows × 2 columns</p>\n",
       "</div>"
      ],
      "text/plain": [
       "                                                 sent_1  \\\n",
       "0                     A man with a hard hat is dancing.   \n",
       "1                      A young child is riding a horse.   \n",
       "2                  A man is feeding a mouse to a snake.   \n",
       "3                        A woman is playing the guitar.   \n",
       "4                         A woman is playing the flute.   \n",
       "...                                                 ...   \n",
       "1374  Philippines, Canada pledge to further boost re...   \n",
       "1375  Israel bars Palestinians from Jerusalem's Old ...   \n",
       "1376         How much do you know about Secret Service?   \n",
       "1377  Obama Struggles to Soothe Saudi Fears As Iran ...   \n",
       "1378          South Korea declares end to MERS outbreak   \n",
       "\n",
       "                                                 sent_2  \n",
       "0                  A man wearing a hard hat is dancing.  \n",
       "1                            A child is riding a horse.  \n",
       "2              The man is feeding a mouse to the snake.  \n",
       "3                              A man is playing guitar.  \n",
       "4                             A man is playing a flute.  \n",
       "...                                                 ...  \n",
       "1374            Philippines saves 100 after ferry sinks  \n",
       "1375  Two-state solution between Palestinians, Israe...  \n",
       "1376  Lawmakers from both sides express outrage at S...  \n",
       "1377  Myanmar Struggles to Finalize Voter Lists for ...  \n",
       "1378  North Korea Delegation Meets With South Korean...  \n",
       "\n",
       "[2879 rows x 2 columns]"
      ]
     },
     "execution_count": 7,
     "metadata": {},
     "output_type": "execute_result"
    }
   ],
   "source": [
    "concatenated_dataset.drop(['sim'],inplace=True, axis=1)\n",
    "concatenated_dataset"
   ]
  },
  {
   "cell_type": "code",
   "execution_count": 11,
   "metadata": {},
   "outputs": [
    {
     "data": {
      "text/plain": [
       "0                       A man with a hard hat is dancing.\n",
       "1                        A young child is riding a horse.\n",
       "2                    A man is feeding a mouse to a snake.\n",
       "3                          A woman is playing the guitar.\n",
       "4                           A woman is playing the flute.\n",
       "                              ...                        \n",
       "1374              Philippines saves 100 after ferry sinks\n",
       "1375    Two-state solution between Palestinians, Israe...\n",
       "1376    Lawmakers from both sides express outrage at S...\n",
       "1377    Myanmar Struggles to Finalize Voter Lists for ...\n",
       "1378    North Korea Delegation Meets With South Korean...\n",
       "Length: 5758, dtype: object"
      ]
     },
     "execution_count": 11,
     "metadata": {},
     "output_type": "execute_result"
    }
   ],
   "source": [
    "new_dataset = pd.concat([concatenated_dataset['sent_1'] ,concatenated_dataset['sent_2']], axis=0)\n",
    "new_dataset\n"
   ]
  },
  {
   "cell_type": "code",
   "execution_count": 13,
   "metadata": {},
   "outputs": [],
   "source": [
    "dataset = new_dataset.reset_index(drop=True)\n"
   ]
  },
  {
   "cell_type": "code",
   "execution_count": 14,
   "metadata": {},
   "outputs": [],
   "source": [
    "dataset.to_excel('dataset.xlsx')"
   ]
  },
  {
   "cell_type": "markdown",
   "metadata": {},
   "source": [
    "## Merging datasets\n"
   ]
  },
  {
   "cell_type": "code",
   "execution_count": 33,
   "metadata": {},
   "outputs": [],
   "source": [
    "import pandas as pd\n",
    "final_df = pd.DataFrame()\n",
    "df1 = pd.read_excel('bin\\synthetised-dataset-37.xlsx')\n",
    "df2 = pd.read_excel('bin\\synthetised-dataset-640.xlsx')\n",
    "df3 = pd.read_excel('bin\\synthetised-dataset-642.xlsx')\n",
    "df4 = pd.read_excel('bin\\synthetised-dataset-854.xlsx')\n",
    "df5 = pd.read_excel('bin\\synthetised-dataset-1916.xlsx')\n",
    "df6 = pd.read_excel('bin\\synthetised-dataset-2369.xlsx')\n",
    "df7 = pd.read_excel('bin\\synthetised-dataset-3005.xlsx')"
   ]
  },
  {
   "cell_type": "code",
   "execution_count": 34,
   "metadata": {},
   "outputs": [],
   "source": [
    "def copy_rows(df_to, df_from, start_index, end_index):\n",
    "    # select the rows to copy\n",
    "    rows_to_copy = df_from.iloc[start_index:end_index+1]\n",
    "    \n",
    "    # reset the index\n",
    "    rows_to_copy = rows_to_copy.reset_index(drop=True)\n",
    "    \n",
    "    # concatenate the rows to the df_to dataframe\n",
    "    df_to = pd.concat([df_to, rows_to_copy], ignore_index=True)\n",
    "    \n",
    "    return df_to"
   ]
  },
  {
   "cell_type": "code",
   "execution_count": 35,
   "metadata": {},
   "outputs": [
    {
     "data": {
      "text/plain": [
       "(3006, 4)"
      ]
     },
     "execution_count": 35,
     "metadata": {},
     "output_type": "execute_result"
    }
   ],
   "source": [
    "final_df =copy_rows(final_df, df1, 0, 37)\n",
    "final_df = copy_rows(final_df, df2, 38, 640)\n",
    "final_df = copy_rows(final_df, df3, 641, 642)\n",
    "final_df = copy_rows(final_df, df4, 643, 854)\n",
    "final_df = copy_rows(final_df, df5, 855, 1916)\n",
    "final_df = copy_rows(final_df, df6, 1917, 2369)\n",
    "final_df = copy_rows(final_df, df7, 2370, 3005)\n",
    "\n",
    "final_df.shape"
   ]
  },
  {
   "cell_type": "code",
   "execution_count": 36,
   "metadata": {},
   "outputs": [
    {
     "data": {
      "text/plain": [
       "(3006, 4)"
      ]
     },
     "execution_count": 36,
     "metadata": {},
     "output_type": "execute_result"
    }
   ],
   "source": [
    "final_df.shape"
   ]
  },
  {
   "cell_type": "code",
   "execution_count": 37,
   "metadata": {},
   "outputs": [],
   "source": [
    "final_df.to_excel('final-dataset-3005.xlsx')"
   ]
  },
  {
   "cell_type": "code",
   "execution_count": null,
   "metadata": {},
   "outputs": [],
   "source": []
  }
 ],
 "metadata": {
  "kernelspec": {
   "display_name": "mybase",
   "language": "python",
   "name": "python3"
  },
  "language_info": {
   "codemirror_mode": {
    "name": "ipython",
    "version": 3
   },
   "file_extension": ".py",
   "mimetype": "text/x-python",
   "name": "python",
   "nbconvert_exporter": "python",
   "pygments_lexer": "ipython3",
   "version": "3.9.16"
  },
  "orig_nbformat": 4
 },
 "nbformat": 4,
 "nbformat_minor": 2
}
