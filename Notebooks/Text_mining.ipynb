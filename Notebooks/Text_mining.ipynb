{
 "cells": [
  {
   "attachments": {},
   "cell_type": "markdown",
   "metadata": {},
   "source": [
    "<center><h1>Text Preprocessing using text mining</h1></center>"
   ]
  },
  {
   "attachments": {},
   "cell_type": "markdown",
   "metadata": {},
   "source": [
    "<h3><u>Tasks :</u></h3> \n",
    "<h4>- Text Cleaning</h4> \n",
    "<h4>- Text similarity evaluation</h4> \n",
    "<h4>- Extraction of common and uncommon parts</h4> \n",
    "<h4>- N gram distribution</h4>  \n",
    "<h4>- Apply the mask on the uncommon parts</h4> "
   ]
  },
  {
   "attachments": {},
   "cell_type": "markdown",
   "metadata": {},
   "source": [
    "## 0) Import the libraries"
   ]
  },
  {
   "cell_type": "code",
   "execution_count": 46,
   "metadata": {},
   "outputs": [],
   "source": [
    "import numpy as np\n",
    "import re\n",
    "import nltk\n",
    "import spacy"
   ]
  },
  {
   "attachments": {},
   "cell_type": "markdown",
   "metadata": {},
   "source": [
    "## 1) Text cleaning"
   ]
  },
  {
   "cell_type": "code",
   "execution_count": 47,
   "metadata": {},
   "outputs": [],
   "source": [
    "# init the sentences to preprocess\n",
    "\n",
    "sentence1 = \"I love to pay my video games in my free time, especially retro video games.\"\n",
    "sentence2 = \"I love to play oreo games in my free thyme, especially retro video games.\""
   ]
  },
  {
   "cell_type": "code",
   "execution_count": 48,
   "metadata": {},
   "outputs": [
    {
     "data": {
      "text/plain": [
       "('I love to pay my video games in my free time especially retro video games',\n",
       " 'I love to play oreo games in my free thyme especially retro video games')"
      ]
     },
     "execution_count": 48,
     "metadata": {},
     "output_type": "execute_result"
    }
   ],
   "source": [
    "# Remove punctuation\n",
    "\n",
    "sentence1 = re.sub(r'[^\\w\\s]', '', sentence1)\n",
    "sentence2 = re.sub(r'[^\\w\\s]', '', sentence2)\n",
    "sentence1, sentence2"
   ]
  },
  {
   "attachments": {},
   "cell_type": "markdown",
   "metadata": {},
   "source": [
    "## 2) Text similarity analysis"
   ]
  },
  {
   "cell_type": "code",
   "execution_count": null,
   "metadata": {},
   "outputs": [],
   "source": [
    "# Low priority task will be done using cosine similarity for a starter"
   ]
  },
  {
   "attachments": {},
   "cell_type": "markdown",
   "metadata": {},
   "source": [
    "## 3) Extraction of common and uncommon parts"
   ]
  },
  {
   "attachments": {},
   "cell_type": "markdown",
   "metadata": {},
   "source": [
    "### Using Dynamic programming"
   ]
  },
  {
   "cell_type": "code",
   "execution_count": 49,
   "metadata": {},
   "outputs": [],
   "source": [
    "def common_and_uncommon_extraction(str1, str2, len1, len2):\n",
    "    # initialize the L matrix with zeros\n",
    "    L = [[0] * (len2 + 1) for _ in range(len1 + 1)]\n",
    "\n",
    "    # fill in the L matrix using dynamic programming\n",
    "    for i in range(len1 + 1):\n",
    "        for j in range(len2 + 1):\n",
    "            # if either string is empty, the longest common substring is zero\n",
    "            if i == 0 or j == 0:\n",
    "                L[i][j] = 0\n",
    "            # if the characters match, add one to the length of the longest common substring\n",
    "            elif str1[i - 1] == str2[j - 1]:\n",
    "                L[i][j] = L[i - 1][j - 1] + 1\n",
    "            # if the characters don't match, take the maximum length from the previous row or column\n",
    "            else:\n",
    "                L[i][j] = max(L[i - 1][j], L[i][j - 1])\n",
    "\n",
    "    # calculate the index based on the length of the longer string\n",
    "    index = max(len(str1), len(str2))\n",
    "\n",
    "    # initialize the common list with empty strings\n",
    "    common = [\"\"] * (index + 1)\n",
    "    common[index] = \"\"\n",
    "\n",
    "    # initialize the uncommon substring lists\n",
    "    uncommon_str1 = []\n",
    "    uncommon_str2 = []\n",
    "\n",
    "    # set i and j to the end of each string\n",
    "    i = len1\n",
    "    j = len2\n",
    "\n",
    "    # loop through the L matrix to find the common and uncommon substrings\n",
    "    while i > 0 and j > 0:\n",
    "        # if the characters match, add the character to the common list and move to the previous diagonal cell\n",
    "        if str1[i - 1] == str2[j - 1]:\n",
    "            common[index - 1] = str1[i - 1]\n",
    "            i -= 1\n",
    "            j -= 1\n",
    "            index -= 1\n",
    "        # if the length of the substring from the previous row is greater, add the uncommon character to uncommon_str2 list and move to the previous row\n",
    "        elif L[i - 1][j] > L[i][j - 1]:\n",
    "            uncommon_str2.append(str1[i - 1])\n",
    "            common[index - 1] = \"#\"\n",
    "            i -= 1\n",
    "            index -= 1\n",
    "        # if the length of the substring from the previous column is greater, add the uncommon character to uncommon_str1 list and move to the previous column\n",
    "        else:\n",
    "            uncommon_str1.append(str2[j - 1])\n",
    "            j -= 1\n",
    "\n",
    "    # join the common list into a sentence\n",
    "    common_sentence = \" \".join(common)\n",
    "\n",
    "    # reverse the order of the uncommon substring lists\n",
    "    uncommon_str1.reverse()\n",
    "    uncommon_str2.reverse()\n",
    "\n",
    "    # return the common sentence and the lists of uncommon substrings\n",
    "    return common_sentence, uncommon_str1, uncommon_str2"
   ]
  },
  {
   "cell_type": "code",
   "execution_count": 50,
   "metadata": {},
   "outputs": [
    {
     "name": "stdout",
     "output_type": "stream",
     "text": [
      "Sentence 1 : I love to pay my video games in my free time especially retro video games\n",
      "\n",
      "Sentence 2 : I love to play oreo games in my free thyme especially retro video games\n",
      "\n",
      "Common parts of the 2 sentences with the uncommon parts masked :\n",
      "I love to # # # games in my free # especially retro video games \n",
      "\n",
      "Uncommon parts of sentence 1 : ['play', 'oreo', 'thyme']\n",
      "\n",
      "Uncommon parts of sentence 2 : ['pay', 'my', 'video', 'time']\n"
     ]
    }
   ],
   "source": [
    "print(\"Sentence 1 : \"+ sentence1)\n",
    "print(\"\\nSentence 2 : \"+ sentence2)\n",
    "\n",
    "common_sentence, uncommon_str1, uncommon_str2 = common_and_uncommon_extraction(sentence1.split(), \n",
    "                                                                            sentence2.split(), \n",
    "                                                                            len(sentence1.split()),\n",
    "                                                                            len(sentence2.split()))\n",
    "\n",
    "print(\"\\nCommon parts of the 2 sentences with the uncommon parts masked :\\n\"+common_sentence) \n",
    "print(\"\\nUncommon parts of sentence 1 : \"+ str(uncommon_str1))\n",
    "print(\"\\nUncommon parts of sentence 2 : \"+ str(uncommon_str2))"
   ]
  },
  {
   "attachments": {},
   "cell_type": "markdown",
   "metadata": {},
   "source": [
    "## 4) N gram distribution"
   ]
  },
  {
   "attachments": {},
   "cell_type": "markdown",
   "metadata": {},
   "source": [
    "### Using Cross validation"
   ]
  },
  {
   "cell_type": "code",
   "execution_count": null,
   "metadata": {},
   "outputs": [],
   "source": [
    "# In progress"
   ]
  },
  {
   "attachments": {},
   "cell_type": "markdown",
   "metadata": {},
   "source": [
    "## 5) Apply the mask on the uncommon parts"
   ]
  },
  {
   "cell_type": "code",
   "execution_count": null,
   "metadata": {},
   "outputs": [],
   "source": [
    "# In progress"
   ]
  }
 ],
 "metadata": {
  "kernelspec": {
   "display_name": "PFE",
   "language": "python",
   "name": "python3"
  },
  "language_info": {
   "codemirror_mode": {
    "name": "ipython",
    "version": 3
   },
   "file_extension": ".py",
   "mimetype": "text/x-python",
   "name": "python",
   "nbconvert_exporter": "python",
   "pygments_lexer": "ipython3",
   "version": "3.8.16"
  },
  "orig_nbformat": 4
 },
 "nbformat": 4,
 "nbformat_minor": 2
}
