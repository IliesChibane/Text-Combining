{
 "cells": [
  {
   "attachments": {},
   "cell_type": "markdown",
   "metadata": {},
   "source": [
    "<center><h1>Evaluation of the MLM models</h1></center>"
   ]
  },
  {
   "attachments": {},
   "cell_type": "markdown",
   "metadata": {},
   "source": [
    "## Import librairies"
   ]
  },
  {
   "cell_type": "code",
   "execution_count": null,
   "metadata": {},
   "outputs": [],
   "source": [
    "import numpy as np\n",
    "import pandas as pd\n",
    "import matplotlib.pyplot as plt\n",
    "import nltk\n",
    "from nltk.corpus import wordnet as wn\n",
    "from nltk import word_tokenize, pos_tag\n",
    "from nltk.stem import WordNetLemmatizer\n",
    "import torch\n",
    "from transformers import AutoTokenizer, AutoModelForMaskedLM\n",
    "import tensorflow as tf\n",
    "from transformers import TFAutoModelForMaskedLM, AutoTokenizer"
   ]
  },
  {
   "attachments": {},
   "cell_type": "markdown",
   "metadata": {},
   "source": [
    "## Import Datasets"
   ]
  },
  {
   "cell_type": "code",
   "execution_count": null,
   "metadata": {},
   "outputs": [],
   "source": [
    "df_bert = pd.read_excel(\"../../Datasets/bert-base-uncased.xlsx\")\n",
    "df_roberta = pd.read_excel(\"../../Datasets/roberta-base_pred.xlsx\")\n",
    "df_distilroberta = pd.read_excel(\"../../Datasets/distilroberta-base_pred.xlsx\")\n",
    "df_albert = pd.read_excel(\"../../Datasets/albert-base_pred.xlsx\")\n",
    "df_ditilbert = pd.read_excel(\"../../Datasets/distilbert-base-uncased_pred_ngram.xlsx\")"
   ]
  },
  {
   "attachments": {},
   "cell_type": "markdown",
   "metadata": {},
   "source": [
    "## Evaluation function"
   ]
  },
  {
   "attachments": {},
   "cell_type": "markdown",
   "metadata": {},
   "source": [
    "### Accuracy"
   ]
  },
  {
   "attachments": {},
   "cell_type": "markdown",
   "metadata": {},
   "source": [
    "### Pseudo-log-likelihood (PLL) and Perplexity"
   ]
  },
  {
   "attachments": {},
   "cell_type": "markdown",
   "metadata": {},
   "source": [
    "#### Explanation :"
   ]
  },
  {
   "attachments": {},
   "cell_type": "markdown",
   "metadata": {},
   "source": [
    "##### PLL\n",
    "\n",
    "Pseudo-log-likelihood (PLL) is a scoring method used in language modeling, taken from the pdf here : https://aclanthology.org/2020.acl-main.240.pdf. \n",
    "\n",
    "It calculates the probability of a word given its previous words in a sentence, by treating the remaining words as a set of distractors.\n",
    "\n",
    "\n",
    "The PLL score is calculated as follows:\n",
    "1.\n",
    "For each word w in the sentence, PLL computes its log probability given the preceding words. This is done by taking the sum of the log probabilities of the word w given each of the preceding words in the sentence.\n",
    "2.\n",
    "The PLL score is then computed as the sum of these log probabilities, divided by the number of words in the sentence minus 1. The minus 1 is used to exclude the last word in the sentence, which has no succeeding words.\n",
    "\n",
    "\n",
    "//\n",
    "Lower PLL values indicate that the model assigns higher probabilities to the true tokens in the input text, which means that the model is better at predicting the masked tokens."
   ]
  },
  {
   "attachments": {},
   "cell_type": "markdown",
   "metadata": {},
   "source": [
    "##### Perplexity "
   ]
  },
  {
   "attachments": {},
   "cell_type": "markdown",
   "metadata": {},
   "source": [
    "Perplexity is a measure of how well a probability distribution or model predicts a sample. \n",
    "It is calculated as the exponential of the cross-entropy loss between the predicted token probabilities and the true tokens. \n",
    "\n",
    "\n",
    "//\n",
    "Lower perplexity values indicate that the model assigns higher probabilities to the true tokens in the input text, which means that the model is better at predicting the next token in a sequence."
   ]
  },
  {
   "cell_type": "code",
   "execution_count": 1,
   "metadata": {},
   "outputs": [],
   "source": [
    "import tensorflow as tf\n",
    "from transformers import TFAutoModelForMaskedLM, AutoTokenizer\n",
    "\n",
    "def compute_pll(sentences, model_name= 'bert-base-uncased'):\n",
    "    # Gett model n tokenizer \n",
    "    tokenizer = AutoTokenizer.from_pretrained(model_name)\n",
    "    model = TFAutoModelForMaskedLM.from_pretrained(model_name)\n",
    "\n",
    "    # Init  PLL values\n",
    "    pll_values = []\n",
    "\n",
    "    # Cal PLL for chaque sentence bu\n",
    "    for sentence in sentences:\n",
    "        # Tokenizeing\n",
    "        input_ids = tokenizer.encode(sentence, return_tensors='tf')\n",
    "        input_ids = input_ids[0]\n",
    "\n",
    "        # Init pll value \n",
    "        pll = 0\n",
    "\n",
    "        # Cal cond log probability for chaue jeton \n",
    "        for i in range(1, len(input_ids)-1):\n",
    "            # Create input with masked token\n",
    "            masked_input_ids = input_ids.numpy().copy()\n",
    "            masked_input_ids[i] = tokenizer.mask_token_id\n",
    "\n",
    "            # Cal log probabilities for masked eton\n",
    "            outputs = model(tf.convert_to_tensor(masked_input_ids[None, :]))\n",
    "            log_probs = tf.nn.log_softmax(outputs[0][0, i], axis=0)\n",
    "\n",
    "            # Update pll\n",
    "            pll += log_probs[input_ids[i]].numpy()\n",
    "\n",
    "        # Append PLL value to list\n",
    "        pll_values.append(pll)\n",
    "\n",
    "    return pll_values\n"
   ]
  },
  {
   "cell_type": "code",
   "execution_count": 2,
   "metadata": {},
   "outputs": [
    {
     "name": "stderr",
     "output_type": "stream",
     "text": [
      "All model checkpoint layers were used when initializing TFBertForMaskedLM.\n",
      "\n",
      "All the layers of TFBertForMaskedLM were initialized from the model checkpoint at bert-base-uncased.\n",
      "If your task is similar to the task the model of the checkpoint was trained on, you can already use TFBertForMaskedLM for predictions without further training.\n"
     ]
    },
    {
     "name": "stdout",
     "output_type": "stream",
     "text": [
      "Sentence: This is love\n",
      "PLL: -13.75\n",
      "\n",
      "Sentence: This is awsome\n",
      "PLL: -38.41\n",
      "\n",
      "Sentence: I love you\n",
      "PLL: -7.48\n",
      "\n"
     ]
    }
   ],
   "source": [
    "sentences = ['This is love', 'This is awsome', 'I love you']\n",
    "model_name = 'bert-base-uncased'\n",
    "pll_values = compute_pll(sentences, model_name)\n",
    "\n",
    "for sentence, pll in zip(sentences, pll_values):\n",
    "    print(f'Sentence: {sentence}')\n",
    "    print(f'PLL: {pll:.2f}')\n",
    "    print()\n"
   ]
  },
  {
   "cell_type": "code",
   "execution_count": 35,
   "metadata": {},
   "outputs": [],
   "source": [
    "from transformers import TFAutoModelForMaskedLM, TFAutoModelForCausalLM\n",
    "\n",
    "def calculate_perplexities(sentences, model_name='bert-base-uncased'):\n",
    "    if model_name in ['distilbert-base-uncased', 'albert-base-v2']:\n",
    "        model = TFAutoModelForMaskedLM.from_pretrained(model_name)\n",
    "    else:\n",
    "        model = TFAutoModelForCausalLM.from_pretrained(model_name)\n",
    "    tokenizer = AutoTokenizer.from_pretrained(model_name)\n",
    "    perplexities = []\n",
    "    for sentence in sentences:\n",
    "        input_ids = tokenizer.encode(sentence, return_tensors='tf')\n",
    "        outputs = model(input_ids, labels=input_ids)\n",
    "        loss = outputs.loss\n",
    "        perplexity = tf.math.exp(loss).numpy()[0]\n",
    "        perplexities.append(perplexity)\n",
    "    return perplexities\n",
    "\n",
    "\n"
   ]
  },
  {
   "cell_type": "code",
   "execution_count": 36,
   "metadata": {},
   "outputs": [
    {
     "name": "stderr",
     "output_type": "stream",
     "text": [
      "All model checkpoint layers were used when initializing TFGPT2LMHeadModel.\n",
      "\n",
      "All the layers of TFGPT2LMHeadModel were initialized from the model checkpoint at gpt2.\n",
      "If your task is similar to the task the model of the checkpoint was trained on, you can already use TFGPT2LMHeadModel for predictions without further training.\n"
     ]
    },
    {
     "name": "stdout",
     "output_type": "stream",
     "text": [
      "[60.645836, 274.9464]\n"
     ]
    }
   ],
   "source": [
    "model_name = 'gpt2'\n",
    "sentences = ['Life is life.', 'I love natural language processing.']\n",
    "\n",
    "perplexities = calculate_perplexities(sentences, model_name)\n",
    "\n",
    "print(perplexities)"
   ]
  },
  {
   "cell_type": "code",
   "execution_count": 37,
   "metadata": {},
   "outputs": [],
   "source": [
    "from nltk.corpus import wordnet as wn\n",
    "\n",
    "def shortest_path_distance(s1, s2):\n",
    "    synset1 = wn.synset(s1)\n",
    "    synset2 = wn.synset(s2)\n",
    "    distance = synset1.shortest_path_distance(synset2)\n",
    "    return distance\n"
   ]
  },
  {
   "cell_type": "code",
   "execution_count": 38,
   "metadata": {},
   "outputs": [],
   "source": [
    "def path_similarity(s1, s2):\n",
    "    distance = shortest_path_distance(s1, s2)\n",
    "    if distance is None:\n",
    "        return 0\n",
    "    similarity = 1 / (distance + 1)\n",
    "    return similarity\n"
   ]
  },
  {
   "cell_type": "code",
   "execution_count": 93,
   "metadata": {},
   "outputs": [],
   "source": [
    "def calculate_accuracies(model_name, sentences):\n",
    "    tokenizer = AutoTokenizer.from_pretrained(model_name)\n",
    "    model = TFAutoModelForMaskedLM.from_pretrained(model_name)\n",
    "    accuracies = []\n",
    "    for sentence in sentences:\n",
    "        # Tokenizeing\n",
    "        input_ids = tokenizer.encode(sentence, return_tensors='tf')\n",
    "        # Masking\n",
    "        mask_index = 2\n",
    "        original_word = sentence.split()[mask_index]\n",
    "        input_ids_np = input_ids.numpy()\n",
    "        input_ids_np[0][mask_index] = tokenizer.mask_token_id\n",
    "        input_ids = tf.convert_to_tensor(input_ids_np)\n",
    "        # predictions\n",
    "        outputs = model(input_ids)\n",
    "        predictions = tf.argsort(outputs[0][0][mask_index], direction='DESCENDING')\n",
    "        similarities = []\n",
    "        for prediction in predictions:\n",
    "            predicted_word = tokenizer.decode([prediction])\n",
    "            synsets1 = wn.synsets(original_word)\n",
    "            synsets2 = wn.synsets(predicted_word)\n",
    "            if synsets1 and synsets2:\n",
    "                max_similarity = max(path_similarity(synset1.name(), synset2.name()) for synset1 in synsets1 for synset2 in synsets2)\n",
    "                similarities.append(max_similarity)\n",
    "            else:\n",
    "                similarities.append(0)\n",
    "        accuracy = max(similarities)\n",
    "        accuracies.append(accuracy)\n",
    "    return accuracies"
   ]
  },
  {
   "cell_type": "code",
   "execution_count": 94,
   "metadata": {},
   "outputs": [
    {
     "name": "stderr",
     "output_type": "stream",
     "text": [
      "All model checkpoint layers were used when initializing TFBertForMaskedLM.\n",
      "\n",
      "All the layers of TFBertForMaskedLM were initialized from the model checkpoint at bert-base-uncased.\n",
      "If your task is similar to the task the model of the checkpoint was trained on, you can already use TFBertForMaskedLM for predictions without further training.\n"
     ]
    },
    {
     "name": "stdout",
     "output_type": "stream",
     "text": [
      "[1.0]\n",
      "[1.0, 0.5]\n",
      "[1.0, 0.5]\n"
     ]
    }
   ],
   "source": [
    "model_name = 'bert-base-uncased'\n",
    "sentences = ['I love me', 'I love oreo games']\n",
    "accuracies = calculate_accuracies(model_name, sentences)\n",
    "print(accuracies)\n"
   ]
  },
  {
   "cell_type": "code",
   "execution_count": 95,
   "metadata": {},
   "outputs": [],
   "source": [
    "import time\n",
    "from transformers import TFAutoModelForMaskedLM, AutoTokenizer\n",
    "\n",
    "def calculate_execution_time(sentences, n_runs=10, model_name='bert-base-uncased'):\n",
    "    tokenizer = AutoTokenizer.from_pretrained(model_name)\n",
    "    model = TFAutoModelForMaskedLM.from_pretrained(model_name)\n",
    "    execution_times = []\n",
    "    for _ in range(n_runs):\n",
    "        start_time = time.time()\n",
    "        for sentence in sentences:\n",
    "            input_ids = tokenizer.encode(sentence, return_tensors='tf')\n",
    "            model(input_ids)\n",
    "        end_time = time.time()\n",
    "        execution_time = end_time - start_time\n",
    "        execution_times.append(execution_time)\n",
    "    min_time = min(execution_times)\n",
    "    max_time = max(execution_times)\n",
    "    normalized_times = [(x - min_time) / (max_time - min_time) for x in execution_times]\n",
    "    return normalized_times\n"
   ]
  },
  {
   "cell_type": "code",
   "execution_count": 96,
   "metadata": {},
   "outputs": [
    {
     "name": "stderr",
     "output_type": "stream",
     "text": [
      "All model checkpoint layers were used when initializing TFBertForMaskedLM.\n",
      "\n",
      "All the layers of TFBertForMaskedLM were initialized from the model checkpoint at bert-base-uncased.\n",
      "If your task is similar to the task the model of the checkpoint was trained on, you can already use TFBertForMaskedLM for predictions without further training.\n"
     ]
    },
    {
     "name": "stdout",
     "output_type": "stream",
     "text": [
      "[0.2349083961266909, 0.27739495655811375, 0.4450122383453079, 0.5209804243003228, 0.0, 0.2727426894965037, 0.5893455735629131, 1.0, 0.4067709422677965, 0.12493287281730665]\n"
     ]
    }
   ],
   "source": [
    "model_name = 'bert-base-uncased'\n",
    "sentences = ['The cat sat on the mat', 'The quick brown fox jumps over the lazy dog']\n",
    "normalized_times = calculate_execution_time(sentences, 10,model_name)\n",
    "print(normalized_times)\n"
   ]
  },
  {
   "attachments": {},
   "cell_type": "markdown",
   "metadata": {},
   "source": [
    "# PLOTS "
   ]
  },
  {
   "cell_type": "code",
   "execution_count": 97,
   "metadata": {},
   "outputs": [],
   "source": [
    "import pandas as pd\n",
    "\n",
    "df = pd.read_excel('dataset.xlsx')\n",
    "df = df.iloc[:,1]\n"
   ]
  },
  {
   "cell_type": "code",
   "execution_count": 98,
   "metadata": {},
   "outputs": [
    {
     "data": {
      "text/plain": [
       "pandas.core.series.Series"
      ]
     },
     "execution_count": 98,
     "metadata": {},
     "output_type": "execute_result"
    }
   ],
   "source": [
    "type(df)"
   ]
  },
  {
   "cell_type": "code",
   "execution_count": 99,
   "metadata": {},
   "outputs": [],
   "source": [
    "models = [\"bert-base-uncased\", \"roberta-base\", \"albert-base-v2\", \"distilroberta-base\", \"distilbert-base-uncased\"]\n"
   ]
  },
  {
   "cell_type": "code",
   "execution_count": 100,
   "metadata": {},
   "outputs": [
    {
     "name": "stderr",
     "output_type": "stream",
     "text": [
      "All model checkpoint layers were used when initializing TFBertForMaskedLM.\n",
      "\n",
      "All the layers of TFBertForMaskedLM were initialized from the model checkpoint at bert-base-uncased.\n",
      "If your task is similar to the task the model of the checkpoint was trained on, you can already use TFBertForMaskedLM for predictions without further training.\n",
      "If you want to use `TFBertLMHeadModel` as a standalone, add `is_decoder=True.`\n",
      "All model checkpoint layers were used when initializing TFBertLMHeadModel.\n",
      "\n",
      "All the layers of TFBertLMHeadModel were initialized from the model checkpoint at bert-base-uncased.\n",
      "If your task is similar to the task the model of the checkpoint was trained on, you can already use TFBertLMHeadModel for predictions without further training.\n",
      "All model checkpoint layers were used when initializing TFBertForMaskedLM.\n",
      "\n",
      "All the layers of TFBertForMaskedLM were initialized from the model checkpoint at bert-base-uncased.\n",
      "If your task is similar to the task the model of the checkpoint was trained on, you can already use TFBertForMaskedLM for predictions without further training.\n"
     ]
    },
    {
     "name": "stdout",
     "output_type": "stream",
     "text": [
      "[0]\n",
      "[0, 1.0]\n",
      "[0, 1.0, 1.0]\n",
      "[0, 1.0, 1.0, 1.0]\n",
      "[0, 1.0, 1.0, 1.0, 1.0]\n",
      "[0, 1.0, 1.0, 1.0, 1.0, 1.0]\n",
      "[0, 1.0, 1.0, 1.0, 1.0, 1.0, 1.0]\n",
      "[0, 1.0, 1.0, 1.0, 1.0, 1.0, 1.0, 1.0]\n",
      "[0, 1.0, 1.0, 1.0, 1.0, 1.0, 1.0, 1.0, 1.0]\n",
      "[0, 1.0, 1.0, 1.0, 1.0, 1.0, 1.0, 1.0, 1.0, 1.0]\n"
     ]
    },
    {
     "name": "stderr",
     "output_type": "stream",
     "text": [
      "All model checkpoint layers were used when initializing TFBertForMaskedLM.\n",
      "\n",
      "All the layers of TFBertForMaskedLM were initialized from the model checkpoint at bert-base-uncased.\n",
      "If your task is similar to the task the model of the checkpoint was trained on, you can already use TFBertForMaskedLM for predictions without further training.\n",
      "All model checkpoint layers were used when initializing TFRobertaForMaskedLM.\n",
      "\n",
      "All the layers of TFRobertaForMaskedLM were initialized from the model checkpoint at roberta-base.\n",
      "If your task is similar to the task the model of the checkpoint was trained on, you can already use TFRobertaForMaskedLM for predictions without further training.\n",
      "If you want to use `TFRobertaLMHeadModel` as a standalone, add `is_decoder=True.`\n",
      "All model checkpoint layers were used when initializing TFRobertaForCausalLM.\n",
      "\n",
      "All the layers of TFRobertaForCausalLM were initialized from the model checkpoint at roberta-base.\n",
      "If your task is similar to the task the model of the checkpoint was trained on, you can already use TFRobertaForCausalLM for predictions without further training.\n",
      "All model checkpoint layers were used when initializing TFRobertaForMaskedLM.\n",
      "\n",
      "All the layers of TFRobertaForMaskedLM were initialized from the model checkpoint at roberta-base.\n",
      "If your task is similar to the task the model of the checkpoint was trained on, you can already use TFRobertaForMaskedLM for predictions without further training.\n"
     ]
    },
    {
     "name": "stdout",
     "output_type": "stream",
     "text": [
      "[0]\n",
      "[0, 1.0]\n",
      "[0, 1.0, 1.0]\n",
      "[0, 1.0, 1.0, 1.0]\n",
      "[0, 1.0, 1.0, 1.0, 1.0]\n",
      "[0, 1.0, 1.0, 1.0, 1.0, 1.0]\n",
      "[0, 1.0, 1.0, 1.0, 1.0, 1.0, 1.0]\n",
      "[0, 1.0, 1.0, 1.0, 1.0, 1.0, 1.0, 1.0]\n",
      "[0, 1.0, 1.0, 1.0, 1.0, 1.0, 1.0, 1.0, 1.0]\n",
      "[0, 1.0, 1.0, 1.0, 1.0, 1.0, 1.0, 1.0, 1.0, 1.0]\n"
     ]
    },
    {
     "name": "stderr",
     "output_type": "stream",
     "text": [
      "All model checkpoint layers were used when initializing TFRobertaForMaskedLM.\n",
      "\n",
      "All the layers of TFRobertaForMaskedLM were initialized from the model checkpoint at roberta-base.\n",
      "If your task is similar to the task the model of the checkpoint was trained on, you can already use TFRobertaForMaskedLM for predictions without further training.\n",
      "All model checkpoint layers were used when initializing TFAlbertForMaskedLM.\n",
      "\n",
      "All the layers of TFAlbertForMaskedLM were initialized from the model checkpoint at albert-base-v2.\n",
      "If your task is similar to the task the model of the checkpoint was trained on, you can already use TFAlbertForMaskedLM for predictions without further training.\n",
      "All model checkpoint layers were used when initializing TFAlbertForMaskedLM.\n",
      "\n",
      "All the layers of TFAlbertForMaskedLM were initialized from the model checkpoint at albert-base-v2.\n",
      "If your task is similar to the task the model of the checkpoint was trained on, you can already use TFAlbertForMaskedLM for predictions without further training.\n",
      "All model checkpoint layers were used when initializing TFAlbertForMaskedLM.\n",
      "\n",
      "All the layers of TFAlbertForMaskedLM were initialized from the model checkpoint at albert-base-v2.\n",
      "If your task is similar to the task the model of the checkpoint was trained on, you can already use TFAlbertForMaskedLM for predictions without further training.\n"
     ]
    },
    {
     "name": "stdout",
     "output_type": "stream",
     "text": [
      "[0]\n",
      "[0, 1.0]\n",
      "[0, 1.0, 1.0]\n",
      "[0, 1.0, 1.0, 1.0]\n",
      "[0, 1.0, 1.0, 1.0, 1.0]\n",
      "[0, 1.0, 1.0, 1.0, 1.0, 1.0]\n",
      "[0, 1.0, 1.0, 1.0, 1.0, 1.0, 1.0]\n",
      "[0, 1.0, 1.0, 1.0, 1.0, 1.0, 1.0, 1.0]\n",
      "[0, 1.0, 1.0, 1.0, 1.0, 1.0, 1.0, 1.0, 1.0]\n",
      "[0, 1.0, 1.0, 1.0, 1.0, 1.0, 1.0, 1.0, 1.0, 1.0]\n"
     ]
    },
    {
     "name": "stderr",
     "output_type": "stream",
     "text": [
      "All model checkpoint layers were used when initializing TFAlbertForMaskedLM.\n",
      "\n",
      "All the layers of TFAlbertForMaskedLM were initialized from the model checkpoint at albert-base-v2.\n",
      "If your task is similar to the task the model of the checkpoint was trained on, you can already use TFAlbertForMaskedLM for predictions without further training.\n",
      "All model checkpoint layers were used when initializing TFRobertaForMaskedLM.\n",
      "\n",
      "All the layers of TFRobertaForMaskedLM were initialized from the model checkpoint at distilroberta-base.\n",
      "If your task is similar to the task the model of the checkpoint was trained on, you can already use TFRobertaForMaskedLM for predictions without further training.\n",
      "If you want to use `TFRobertaLMHeadModel` as a standalone, add `is_decoder=True.`\n",
      "All model checkpoint layers were used when initializing TFRobertaForCausalLM.\n",
      "\n",
      "All the layers of TFRobertaForCausalLM were initialized from the model checkpoint at distilroberta-base.\n",
      "If your task is similar to the task the model of the checkpoint was trained on, you can already use TFRobertaForCausalLM for predictions without further training.\n",
      "All model checkpoint layers were used when initializing TFRobertaForMaskedLM.\n",
      "\n",
      "All the layers of TFRobertaForMaskedLM were initialized from the model checkpoint at distilroberta-base.\n",
      "If your task is similar to the task the model of the checkpoint was trained on, you can already use TFRobertaForMaskedLM for predictions without further training.\n"
     ]
    },
    {
     "name": "stdout",
     "output_type": "stream",
     "text": [
      "[0]\n",
      "[0, 1.0]\n",
      "[0, 1.0, 1.0]\n",
      "[0, 1.0, 1.0, 1.0]\n",
      "[0, 1.0, 1.0, 1.0, 1.0]\n",
      "[0, 1.0, 1.0, 1.0, 1.0, 1.0]\n",
      "[0, 1.0, 1.0, 1.0, 1.0, 1.0, 1.0]\n",
      "[0, 1.0, 1.0, 1.0, 1.0, 1.0, 1.0, 1.0]\n",
      "[0, 1.0, 1.0, 1.0, 1.0, 1.0, 1.0, 1.0, 1.0]\n",
      "[0, 1.0, 1.0, 1.0, 1.0, 1.0, 1.0, 1.0, 1.0, 1.0]\n"
     ]
    },
    {
     "name": "stderr",
     "output_type": "stream",
     "text": [
      "All model checkpoint layers were used when initializing TFRobertaForMaskedLM.\n",
      "\n",
      "All the layers of TFRobertaForMaskedLM were initialized from the model checkpoint at distilroberta-base.\n",
      "If your task is similar to the task the model of the checkpoint was trained on, you can already use TFRobertaForMaskedLM for predictions without further training.\n",
      "Some layers from the model checkpoint at distilbert-base-uncased were not used when initializing TFDistilBertForMaskedLM: ['activation_13']\n",
      "- This IS expected if you are initializing TFDistilBertForMaskedLM from the checkpoint of a model trained on another task or with another architecture (e.g. initializing a BertForSequenceClassification model from a BertForPreTraining model).\n",
      "- This IS NOT expected if you are initializing TFDistilBertForMaskedLM from the checkpoint of a model that you expect to be exactly identical (initializing a BertForSequenceClassification model from a BertForSequenceClassification model).\n",
      "All the layers of TFDistilBertForMaskedLM were initialized from the model checkpoint at distilbert-base-uncased.\n",
      "If your task is similar to the task the model of the checkpoint was trained on, you can already use TFDistilBertForMaskedLM for predictions without further training.\n",
      "Some layers from the model checkpoint at distilbert-base-uncased were not used when initializing TFDistilBertForMaskedLM: ['activation_13']\n",
      "- This IS expected if you are initializing TFDistilBertForMaskedLM from the checkpoint of a model trained on another task or with another architecture (e.g. initializing a BertForSequenceClassification model from a BertForPreTraining model).\n",
      "- This IS NOT expected if you are initializing TFDistilBertForMaskedLM from the checkpoint of a model that you expect to be exactly identical (initializing a BertForSequenceClassification model from a BertForSequenceClassification model).\n",
      "All the layers of TFDistilBertForMaskedLM were initialized from the model checkpoint at distilbert-base-uncased.\n",
      "If your task is similar to the task the model of the checkpoint was trained on, you can already use TFDistilBertForMaskedLM for predictions without further training.\n",
      "Some layers from the model checkpoint at distilbert-base-uncased were not used when initializing TFDistilBertForMaskedLM: ['activation_13']\n",
      "- This IS expected if you are initializing TFDistilBertForMaskedLM from the checkpoint of a model trained on another task or with another architecture (e.g. initializing a BertForSequenceClassification model from a BertForPreTraining model).\n",
      "- This IS NOT expected if you are initializing TFDistilBertForMaskedLM from the checkpoint of a model that you expect to be exactly identical (initializing a BertForSequenceClassification model from a BertForSequenceClassification model).\n",
      "All the layers of TFDistilBertForMaskedLM were initialized from the model checkpoint at distilbert-base-uncased.\n",
      "If your task is similar to the task the model of the checkpoint was trained on, you can already use TFDistilBertForMaskedLM for predictions without further training.\n"
     ]
    },
    {
     "name": "stdout",
     "output_type": "stream",
     "text": [
      "[0]\n",
      "[0, 1.0]\n",
      "[0, 1.0, 1.0]\n",
      "[0, 1.0, 1.0, 1.0]\n",
      "[0, 1.0, 1.0, 1.0, 1.0]\n",
      "[0, 1.0, 1.0, 1.0, 1.0, 1.0]\n",
      "[0, 1.0, 1.0, 1.0, 1.0, 1.0, 1.0]\n",
      "[0, 1.0, 1.0, 1.0, 1.0, 1.0, 1.0, 1.0]\n",
      "[0, 1.0, 1.0, 1.0, 1.0, 1.0, 1.0, 1.0, 1.0]\n",
      "[0, 1.0, 1.0, 1.0, 1.0, 1.0, 1.0, 1.0, 1.0, 1.0]\n"
     ]
    },
    {
     "name": "stderr",
     "output_type": "stream",
     "text": [
      "Some layers from the model checkpoint at distilbert-base-uncased were not used when initializing TFDistilBertForMaskedLM: ['activation_13']\n",
      "- This IS expected if you are initializing TFDistilBertForMaskedLM from the checkpoint of a model trained on another task or with another architecture (e.g. initializing a BertForSequenceClassification model from a BertForPreTraining model).\n",
      "- This IS NOT expected if you are initializing TFDistilBertForMaskedLM from the checkpoint of a model that you expect to be exactly identical (initializing a BertForSequenceClassification model from a BertForSequenceClassification model).\n",
      "All the layers of TFDistilBertForMaskedLM were initialized from the model checkpoint at distilbert-base-uncased.\n",
      "If your task is similar to the task the model of the checkpoint was trained on, you can already use TFDistilBertForMaskedLM for predictions without further training.\n"
     ]
    }
   ],
   "source": [
    "from statistics import mean\n",
    "\n",
    "def calculate_metrics(df, models):\n",
    "    metrics = {}\n",
    "    for model in models:\n",
    "        pll_values = compute_pll(df, model)\n",
    "        perplexities = calculate_perplexities(df, model)\n",
    "        accuracies = calculate_accuracies(model, df)\n",
    "        execution_times = calculate_execution_time(df, model_name=model)\n",
    "        metrics[model] = {\n",
    "            'average_pll': mean(pll_values),\n",
    "            'average_perplexity': mean(perplexities),\n",
    "            'average_accuracy': mean(accuracies),\n",
    "            'average_execution_time': mean(execution_times)\n",
    "        }\n",
    "    return metrics\n",
    "metrics = calculate_metrics(df[:10], models)\n"
   ]
  },
  {
   "cell_type": "code",
   "execution_count": 101,
   "metadata": {},
   "outputs": [
    {
     "data": {
      "text/plain": [
       "{'bert-base-uncased': {'average_pll': -15.020583020272898,\n",
       "  'average_perplexity': 9165004.0,\n",
       "  'average_accuracy': 0.9,\n",
       "  'average_execution_time': 0.19647058377745485},\n",
       " 'roberta-base': {'average_pll': -12.277250587474555,\n",
       "  'average_perplexity': 6894805500.0,\n",
       "  'average_accuracy': 0.9,\n",
       "  'average_execution_time': 0.3652953919089043},\n",
       " 'albert-base-v2': {'average_pll': -28.38191144168377,\n",
       "  'average_perplexity': 59.294666,\n",
       "  'average_accuracy': 0.9,\n",
       "  'average_execution_time': 0.46579976733156875},\n",
       " 'distilroberta-base': {'average_pll': -19.69064844921231,\n",
       "  'average_perplexity': 7237032400.0,\n",
       "  'average_accuracy': 0.9,\n",
       "  'average_execution_time': 0.3168013535760015},\n",
       " 'distilbert-base-uncased': {'average_pll': -18.143623085319994,\n",
       "  'average_perplexity': 42.29817,\n",
       "  'average_accuracy': 0.9,\n",
       "  'average_execution_time': 0.5216079117051494}}"
      ]
     },
     "execution_count": 101,
     "metadata": {},
     "output_type": "execute_result"
    }
   ],
   "source": [
    "metrics"
   ]
  },
  {
   "cell_type": "code",
   "execution_count": 102,
   "metadata": {},
   "outputs": [],
   "source": [
    "def plot_metrics(metrics):\n",
    "    n_metrics = len(next(iter(metrics.values())))\n",
    "    n_models = len(metrics)\n",
    "    x = np.arange(n_models) * 2\n",
    "    width = 0.8 / n_metrics\n",
    "    fig, ax = plt.subplots(figsize=(12, 8))\n",
    "    for i, (metric_name, metric_values) in enumerate(zip(next(iter(metrics.values())).keys(), zip(*[model_metrics.values() for model_metrics in metrics.values()]))):\n",
    "        bar_positions = x + i * width - 0.4\n",
    "        ax.bar(bar_positions, metric_values, width, label=metric_name)\n",
    "        for j, value in enumerate(metric_values):\n",
    "            ax.text(bar_positions[j], value, f'{value:.2f}', ha='center', va='bottom', fontsize=8)\n",
    "    ax.set_xticks(x)\n",
    "    ax.set_xticklabels(metrics.keys())\n",
    "    ax.legend()\n",
    "    plt.show()\n",
    "    plt.savefig('metrique MLM.png')\n"
   ]
  },
  {
   "cell_type": "code",
   "execution_count": 103,
   "metadata": {},
   "outputs": [],
   "source": [
    "model_names = {\n",
    "    'bert-base-uncased': 'BERT',\n",
    "    'roberta-base': 'RoBERTa',\n",
    "    'albert-base-v2': 'AlBERT',\n",
    "    'distilroberta-base': 'DistilRoBERTa',\n",
    "    'distilbert-base-uncased': 'DistilBERT'\n",
    "}\n",
    "\n",
    "normalized_metrics = {}\n",
    "for model, model_metrics in metrics.items():\n",
    "    normalized_model_metrics = {}\n",
    "    for metric_name, metric_value in model_metrics.items():\n",
    "        if metric_name == 'average_accuracy':\n",
    "            normalized_value = metric_value\n",
    "        else:\n",
    "            min_value = min(model_metrics[metric_name] for model_metrics in metrics.values())\n",
    "            max_value = max(model_metrics[metric_name] for model_metrics in metrics.values())\n",
    "            if min_value != max_value:\n",
    "                normalized_value = (metric_value - min_value) / (max_value - min_value)\n",
    "            else:\n",
    "                normalized_value = 0\n",
    "        normalized_model_metrics[metric_name] = normalized_value\n",
    "    normalized_metrics[model_names[model]] = normalized_model_metrics"
   ]
  },
  {
   "cell_type": "code",
   "execution_count": 104,
   "metadata": {},
   "outputs": [
    {
     "data": {
      "text/plain": [
       "{'BERT': {'average_pll': 0.8296559947686617,\n",
       "  'average_perplexity': 0.0012663978,\n",
       "  'average_accuracy': 0.9,\n",
       "  'average_execution_time': 0.0},\n",
       " 'RoBERTa': {'average_pll': 1.0,\n",
       "  'average_perplexity': 0.9527117,\n",
       "  'average_accuracy': 0.9,\n",
       "  'average_execution_time': 0.519241543896164},\n",
       " 'AlBERT': {'average_pll': 0.0,\n",
       "  'average_perplexity': 2.3485451e-09,\n",
       "  'average_accuracy': 0.9,\n",
       "  'average_execution_time': 0.8283551607891927},\n",
       " 'DistilRoBERTa': {'average_pll': 0.5396737671877055,\n",
       "  'average_perplexity': 1.0,\n",
       "  'average_accuracy': 0.9,\n",
       "  'average_execution_time': 0.37009214095930043},\n",
       " 'DistilBERT': {'average_pll': 0.6357344900987364,\n",
       "  'average_perplexity': 0.0,\n",
       "  'average_accuracy': 0.9,\n",
       "  'average_execution_time': 1.0}}"
      ]
     },
     "execution_count": 104,
     "metadata": {},
     "output_type": "execute_result"
    }
   ],
   "source": [
    "normalized_metrics"
   ]
  },
  {
   "cell_type": "code",
   "execution_count": 105,
   "metadata": {},
   "outputs": [
    {
     "data": {
      "image/png": "[encoded data removed]",
      "text/plain": [
       "<Figure size 1200x800 with 1 Axes>"
      ]
     },
     "metadata": {},
     "output_type": "display_data"
    },
    {
     "data": {
      "text/plain": [
       "<Figure size 640x480 with 0 Axes>"
      ]
     },
     "metadata": {},
     "output_type": "display_data"
    }
   ],
   "source": [
    "plot_metrics(normalized_metrics)\n"
   ]
  },
  {
   "attachments": {},
   "cell_type": "markdown",
   "metadata": {},
   "source": [
    "## Visualisation"
   ]
  },
  {
   "attachments": {},
   "cell_type": "markdown",
   "metadata": {},
   "source": [
    "accuracy = [0.44, 0.5, 0.09, 0.39, 0.39]\n",
    "perplexity = [0.21, 0.19, 0.66, 0.3, 0.32]\n",
    "execution_time = [0.56, 0.6, 0.48, 0.38, 0.35]\n",
    "\n",
    "bins = [\"BERT\", \"RoBERTa\", \"ALBERT\", \"DistilRoBERTa\", \"DistilBERT\"]\n",
    "\n",
    "# Visualize the accuracy, perplexity and execution time of each model in a bar chart all in the same plot\n",
    "\n",
    "fig, ax = plt.subplots(1, 3, figsize=(20, 5))\n",
    "ax[0].bar(bins, accuracy)\n",
    "ax[0].set_title(\"Accuracy\")\n",
    "ax[1].bar(bins, perplexity)\n",
    "ax[1].set_title(\"Perplexity\")\n",
    "ax[2].bar(bins, execution_time)\n",
    "ax[2].set_title(\"Execution time (s)\")\n",
    "\n",
    "# add title\n",
    "fig.suptitle(\"Performance of the models on a test dataset\", fontsize=16)\n",
    "\n",
    "plt.show()"
   ]
  },
  {
   "attachments": {},
   "cell_type": "markdown",
   "metadata": {},
   "source": [
    "def remove_all(liste, value):\n",
    "    while value in liste:\n",
    "        liste.remove(value)\n",
    "    return liste\n",
    "\n",
    "def similarity(word, list_of_words):\n",
    "    # Initialize the lemmatizer\n",
    "    lemmatizer = WordNetLemmatizer()\n",
    "\n",
    "    # Get the synsets of the word\n",
    "    synsets_word = wn.synsets(lemmatizer.lemmatize(word))\n",
    "\n",
    "    # Calculate the similarity between the word and each word in the list\n",
    "    similarities = []\n",
    "    for w in list_of_words:\n",
    "        synsets_w = wn.synsets(lemmatizer.lemmatize(w))\n",
    "        max_sim = 0\n",
    "        for synset_word in synsets_word:\n",
    "            for synset_w in synsets_w:\n",
    "                sim = synset_word.path_similarity(synset_w)\n",
    "                if sim is not None and sim > max_sim:\n",
    "                    max_sim = sim\n",
    "        similarities.append(max_sim)\n",
    "\n",
    "    if word in list_of_words:\n",
    "        similarities.append(1)\n",
    "\n",
    "    # Print the list of similarities\n",
    "    return np.max(similarities)"
   ]
  }
 ],
 "metadata": {
  "kernelspec": {
   "display_name": "mybase",
   "language": "python",
   "name": "python3"
  },
  "language_info": {
   "codemirror_mode": {
    "name": "ipython",
    "version": 3
   },
   "file_extension": ".py",
   "mimetype": "text/x-python",
   "name": "python",
   "nbconvert_exporter": "python",
   "pygments_lexer": "ipython3",
   "version": "3.9.16"
  },
  "orig_nbformat": 4
 },
 "nbformat": 4,
 "nbformat_minor": 2
}
