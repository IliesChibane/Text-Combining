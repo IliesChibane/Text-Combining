{
 "cells": [
  {
   "cell_type": "markdown",
   "metadata": {},
   "source": [
    "## Explanation :"
   ]
  },
  {
   "attachments": {},
   "cell_type": "markdown",
   "metadata": {},
   "source": [
    "### PLL\n",
    "\n",
    "Pseudo-log-likelihood (PLL) is a scoring method used in language modeling, taken from the pdf here : https://aclanthology.org/2020.acl-main.240.pdf. \n",
    "\n",
    "It calculates the probability of a word given its previous words in a sentence, by treating the remaining words as a set of distractors.\n",
    "\n",
    "\n",
    "The PLL score is calculated as follows:\n",
    "1.\n",
    "For each word w in the sentence, PLL computes its log probability given the preceding words. This is done by taking the sum of the log probabilities of the word w given each of the preceding words in the sentence.\n",
    "2.\n",
    "The PLL score is then computed as the sum of these log probabilities, divided by the number of words in the sentence minus 1. The minus 1 is used to exclude the last word in the sentence, which has no succeeding words.\n",
    "\n",
    "\n",
    "//\n",
    "Lower PLL values indicate that the model assigns higher probabilities to the true tokens in the input text, which means that the model is better at predicting the masked tokens."
   ]
  },
  {
   "cell_type": "markdown",
   "metadata": {},
   "source": [
    "### Perplexity "
   ]
  },
  {
   "attachments": {},
   "cell_type": "markdown",
   "metadata": {},
   "source": [
    "Perplexity is a measure of how well a probability distribution or model predicts a sample. \n",
    "It is calculated as the exponential of the cross-entropy loss between the predicted token probabilities and the true tokens. \n",
    "\n",
    "\n",
    "//\n",
    "Lower perplexity values indicate that the model assigns higher probabilities to the true tokens in the input text, which means that the model is better at predicting the next token in a sequence."
   ]
  },
  {
   "cell_type": "markdown",
   "metadata": {},
   "source": [
    "##  A pytorch version"
   ]
  },
  {
   "cell_type": "code",
   "execution_count": 1,
   "metadata": {},
   "outputs": [],
   "source": [
    "# Import necessary libraries\n",
    "import torch\n",
    "from transformers import AutoTokenizer, AutoModelForMaskedLM\n",
    "\n",
    "# Define a function to calculate the Pseudo-log-likelihood (PLL) score for a given language model, tokenizer, and input text\n",
    "def calculate_pll(model, tokenizer, text):\n",
    "    # Tokenize the input text\n",
    "    input_ids = tokenizer.encode(text, return_tensors='pt')\n",
    "    # Run the model on the input text without calculating gradients\n",
    "    with torch.no_grad():\n",
    "        outputs = model(input_ids)\n",
    "        predictions = outputs[0]\n",
    "    # Define the loss function as cross-entropy loss\n",
    "    loss = torch.nn.CrossEntropyLoss()\n",
    "    # Initialize PLL to 0\n",
    "    pll = 0\n",
    "    # Iterate over each token in the input text\n",
    "    for i in range(len(input_ids[0])):\n",
    "        # Create a copy of the input ids and mask the current token\n",
    "        masked_input_ids = input_ids.clone()\n",
    "        masked_input_ids[0][i] = tokenizer.mask_token_id\n",
    "        # Run the model on the masked input text without calculating gradients\n",
    "        with torch.no_grad():\n",
    "            outputs = model(masked_input_ids)\n",
    "            predictions = outputs[0]\n",
    "        # Calculate the cross-entropy loss between the predicted token probabilities and the true token and add it to PLL\n",
    "        pll += loss(predictions[0][i].unsqueeze(0), input_ids[0][i].unsqueeze(0)).item()\n",
    "    # Return the calculated PLL value\n",
    "    return pll"
   ]
  },
  {
   "cell_type": "code",
   "execution_count": 2,
   "metadata": {},
   "outputs": [],
   "source": [
    "# Define a function to calculate the perplexity for a given language model, tokenizer, and input text\n",
    "def calculate_perplexity(model, tokenizer, text):\n",
    "    # Tokenize the input text\n",
    "    input_ids = tokenizer.encode(text, return_tensors='pt')\n",
    "    # Run the model on the input text with labels and without calculating gradients\n",
    "    with torch.no_grad():\n",
    "        outputs = model(input_ids, labels=input_ids)\n",
    "        loss = outputs.loss\n",
    "    # Calculate and return the perplexity as the exponential of the cross-entropy loss\n",
    "    return torch.exp(loss).item()"
   ]
  },
  {
   "cell_type": "code",
   "execution_count": 3,
   "metadata": {},
   "outputs": [
    {
     "data": {
      "application/vnd.jupyter.widget-view+json": {
       "model_id": "140d76060d994d6992651bf66a2d7777",
       "version_major": 2,
       "version_minor": 0
      },
      "text/plain": [
       "Downloading:   0%|          | 0.00/28.0 [00:00<?, ?B/s]"
      ]
     },
     "metadata": {},
     "output_type": "display_data"
    },
    {
     "name": "stderr",
     "output_type": "stream",
     "text": [
      "c:\\Users\\Rania\\anaconda3\\envs\\mybase\\lib\\site-packages\\huggingface_hub\\file_download.py:123: UserWarning: `huggingface_hub` cache-system uses symlinks by default to efficiently store duplicated files but your machine does not support them in C:\\Users\\Rania\\.cache\\huggingface\\hub. Caching files will still work but in a degraded version that might require more space on your disk. This warning can be disabled by setting the `HF_HUB_DISABLE_SYMLINKS_WARNING` environment variable. For more details, see https://huggingface.co/docs/huggingface_hub/how-to-cache#limitations.\n",
      "To support symlinks on Windows, you either need to activate Developer Mode or to run Python as an administrator. In order to see activate developer mode, see this article: https://docs.microsoft.com/en-us/windows/apps/get-started/enable-your-device-for-development\n",
      "  warnings.warn(message)\n"
     ]
    },
    {
     "data": {
      "application/vnd.jupyter.widget-view+json": {
       "model_id": "73277018494549a19cca26195209a09a",
       "version_major": 2,
       "version_minor": 0
      },
      "text/plain": [
       "Downloading:   0%|          | 0.00/570 [00:00<?, ?B/s]"
      ]
     },
     "metadata": {},
     "output_type": "display_data"
    },
    {
     "data": {
      "application/vnd.jupyter.widget-view+json": {
       "model_id": "1e9aa97182b74bb181a02ff1f1f96728",
       "version_major": 2,
       "version_minor": 0
      },
      "text/plain": [
       "Downloading:   0%|          | 0.00/232k [00:00<?, ?B/s]"
      ]
     },
     "metadata": {},
     "output_type": "display_data"
    },
    {
     "data": {
      "application/vnd.jupyter.widget-view+json": {
       "model_id": "56eb4d31ab8e4984aebf13e8ad5f6c54",
       "version_major": 2,
       "version_minor": 0
      },
      "text/plain": [
       "Downloading:   0%|          | 0.00/466k [00:00<?, ?B/s]"
      ]
     },
     "metadata": {},
     "output_type": "display_data"
    },
    {
     "data": {
      "application/vnd.jupyter.widget-view+json": {
       "model_id": "e859c0eac039423ba879eca9b7d51ff0",
       "version_major": 2,
       "version_minor": 0
      },
      "text/plain": [
       "Downloading:   0%|          | 0.00/440M [00:00<?, ?B/s]"
      ]
     },
     "metadata": {},
     "output_type": "display_data"
    },
    {
     "name": "stderr",
     "output_type": "stream",
     "text": [
      "Some weights of the model checkpoint at bert-base-uncased were not used when initializing BertForMaskedLM: ['cls.seq_relationship.bias', 'cls.seq_relationship.weight']\n",
      "- This IS expected if you are initializing BertForMaskedLM from the checkpoint of a model trained on another task or with another architecture (e.g. initializing a BertForSequenceClassification model from a BertForPreTraining model).\n",
      "- This IS NOT expected if you are initializing BertForMaskedLM from the checkpoint of a model that you expect to be exactly identical (initializing a BertForSequenceClassification model from a BertForSequenceClassification model).\n"
     ]
    },
    {
     "name": "stdout",
     "output_type": "stream",
     "text": [
      "PLL: 82.82536670565605\n",
      "Perplexity: 87.86251831054688\n"
     ]
    }
   ],
   "source": [
    "# Example usage:\n",
    "# Define the name of the pre-trained language model to use\n",
    "model_name = 'bert-base-uncased'\n",
    "# Load the tokenizer associated with the pre-trained language model\n",
    "tokenizer = AutoTokenizer.from_pretrained(model_name)\n",
    "# Load the pre-trained language model for masked language modeling\n",
    "model = AutoModelForMaskedLM.from_pretrained(model_name)\n",
    "\n",
    "# Define an example input text\n",
    "text = \"I love my video Games\"\n",
    "# Calculate PLL and perplexity for the given language model, tokenizer, and input text using the defined functions\n",
    "pll = calculate_pll(model, tokenizer, text)\n",
    "perplexity = calculate_perplexity(model, tokenizer, text)\n",
    "\n",
    "# Print out the calculated PLL and perplexity values\n",
    "print(f'PLL: {pll}')\n",
    "print(f'Perplexity: {perplexity}')"
   ]
  },
  {
   "cell_type": "markdown",
   "metadata": {},
   "source": [
    "## A tf version"
   ]
  },
  {
   "cell_type": "code",
   "execution_count": 4,
   "metadata": {},
   "outputs": [],
   "source": [
    "# Import necessary libraries\n",
    "import tensorflow as tf\n",
    "from transformers import TFAutoModelForMaskedLM, AutoTokenizer\n",
    "\n",
    "# Define a function to calculate the Pseudo-log-likelihood (PLL) score for a given language model, tokenizer, and input text\n",
    "def calculate_pll(model, tokenizer, text):\n",
    "    # Tokenize the input text\n",
    "    input_ids = tokenizer.encode(text, return_tensors='tf')\n",
    "    # Run the model on the input text\n",
    "    outputs = model(input_ids)\n",
    "    predictions = outputs[0]\n",
    "    # Define the loss function as sparse categorical cross-entropy loss\n",
    "    loss_fn = tf.keras.losses.SparseCategoricalCrossentropy(from_logits=True)\n",
    "    # Initialize PLL to 0\n",
    "    pll = 0\n",
    "    # Iterate over each token in the input text\n",
    "    for i in range(len(input_ids[0])):\n",
    "        # Create a copy of the input ids and mask the current token\n",
    "        masked_input_ids = input_ids.numpy().copy()\n",
    "        masked_input_ids[0][i] = tokenizer.mask_token_id\n",
    "        masked_input_ids = tf.convert_to_tensor(masked_input_ids)\n",
    "        # Run the model on the masked input text\n",
    "        outputs = model(masked_input_ids)\n",
    "        predictions = outputs[0]\n",
    "        # Calculate the cross-entropy loss between the predicted token probabilities and the true token and add it to PLL\n",
    "        pll += loss_fn(input_ids[0][i], predictions[0][i]).numpy()\n",
    "    # Return the calculated PLL value\n",
    "    return pll"
   ]
  },
  {
   "cell_type": "code",
   "execution_count": 5,
   "metadata": {},
   "outputs": [],
   "source": [
    "# Define a function to calculate the perplexity for a given language model, tokenizer, and input text\n",
    "def calculate_perplexity(model, tokenizer, text):\n",
    "    # Tokenize the input text\n",
    "    input_ids = tokenizer.encode(text, return_tensors='tf')\n",
    "    # Run the model on the input text with labels\n",
    "    outputs = model(input_ids, labels=input_ids)\n",
    "    loss = outputs.loss\n",
    "    # Calculate and return the perplexity as the exponential of the cross-entropy loss\n",
    "    return tf.math.exp(loss).numpy()"
   ]
  },
  {
   "cell_type": "code",
   "execution_count": 6,
   "metadata": {},
   "outputs": [
    {
     "data": {
      "application/vnd.jupyter.widget-view+json": {
       "model_id": "6c5b80c343c74f2c9431bbbd2e11b02a",
       "version_major": 2,
       "version_minor": 0
      },
      "text/plain": [
       "Downloading:   0%|          | 0.00/536M [00:00<?, ?B/s]"
      ]
     },
     "metadata": {},
     "output_type": "display_data"
    },
    {
     "name": "stderr",
     "output_type": "stream",
     "text": [
      "All model checkpoint layers were used when initializing TFBertForMaskedLM.\n",
      "\n",
      "All the layers of TFBertForMaskedLM were initialized from the model checkpoint at bert-base-uncased.\n",
      "If your task is similar to the task the model of the checkpoint was trained on, you can already use TFBertForMaskedLM for predictions without further training.\n"
     ]
    },
    {
     "name": "stdout",
     "output_type": "stream",
     "text": [
      "PLL: 82.82089997828007\n",
      "Perplexity: [87.87434]\n"
     ]
    }
   ],
   "source": [
    "# Example usage:\n",
    "# Define the name of the pre-trained language model to use\n",
    "model_name = 'bert-base-uncased'\n",
    "# Load the tokenizer associated with the pre-trained language model\n",
    "tokenizer = AutoTokenizer.from_pretrained(model_name)\n",
    "# Load the pre-trained language model for masked language modeling\n",
    "model = TFAutoModelForMaskedLM.from_pretrained(model_name)\n",
    "\n",
    "# Define an example input text\n",
    "text = \"I love my video Games\"\n",
    "# Calculate PLL and perplexity for the given language model, tokenizer, and input text using the defined functions\n",
    "pll = calculate_pll(model, tokenizer, text)\n",
    "perplexity = calculate_perplexity(model, tokenizer, text)\n",
    "\n",
    "# Print out the calculated PLL and perplexity values\n",
    "print(f'PLL: {pll}')\n",
    "print(f'Perplexity: {perplexity}')"
   ]
  }
 ],
 "metadata": {
  "kernelspec": {
   "display_name": "mybase",
   "language": "python",
   "name": "python3"
  },
  "language_info": {
   "codemirror_mode": {
    "name": "ipython",
    "version": 3
   },
   "file_extension": ".py",
   "mimetype": "text/x-python",
   "name": "python",
   "nbconvert_exporter": "python",
   "pygments_lexer": "ipython3",
   "version": "3.9.16"
  },
  "orig_nbformat": 4
 },
 "nbformat": 4,
 "nbformat_minor": 2
}
