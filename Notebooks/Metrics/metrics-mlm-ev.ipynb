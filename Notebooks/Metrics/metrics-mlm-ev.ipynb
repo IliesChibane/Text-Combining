{
 "cells": [
  {
   "attachments": {},
   "cell_type": "markdown",
   "metadata": {},
   "source": [
    "<center><h1>Evaluation of the MLM models</h1></center>"
   ]
  },
  {
   "attachments": {},
   "cell_type": "markdown",
   "metadata": {},
   "source": [
    "## Import librairies"
   ]
  },
  {
   "cell_type": "code",
   "execution_count": 20,
   "metadata": {},
   "outputs": [],
   "source": [
    "import numpy as np\n",
    "import pandas as pd\n",
    "import matplotlib.pyplot as plt\n",
    "import nltk\n",
    "from nltk.corpus import wordnet as wn\n",
    "from nltk import word_tokenize, pos_tag\n",
    "from nltk.stem import WordNetLemmatizer\n",
    "import torch\n",
    "from transformers import AutoTokenizer, AutoModelForMaskedLM\n",
    "import tensorflow as tf\n",
    "from transformers import TFAutoModelForMaskedLM, AutoTokenizer"
   ]
  },
  {
   "attachments": {},
   "cell_type": "markdown",
   "metadata": {},
   "source": [
    "## Import Datasets"
   ]
  },
  {
   "cell_type": "code",
   "execution_count": 21,
   "metadata": {},
   "outputs": [
    {
     "data": {
      "text/plain": [
       "'c:\\\\Users\\\\Rania\\\\Documents\\\\GitHub\\\\Text-Combining\\\\Notebooks\\\\Metrics'"
      ]
     },
     "execution_count": 21,
     "metadata": {},
     "output_type": "execute_result"
    }
   ],
   "source": [
    "import os\n",
    "os.getcwd()"
   ]
  },
  {
   "cell_type": "code",
   "execution_count": 22,
   "metadata": {},
   "outputs": [],
   "source": [
    "import pandas as pd\n",
    "\n",
    "df_bert = pd.read_excel(\"MLM/MLM/bert-base-uncased.xlsx\")\n",
    "df_roberta = pd.read_excel(\"MLM/MLM/roberta-base_pred.xlsx\")\n",
    "df_distilroberta = pd.read_excel(\"MLM/MLM/distilroberta-base_pred.xlsx\")\n",
    "df_albert = pd.read_excel(\"MLM/MLM/albert-base_pred.xlsx\")\n",
    "df_distilbert = pd.read_excel(\"MLM/MLM/distilbert-base-uncased_pred_ngram.xlsx\")\n"
   ]
  },
  {
   "cell_type": "code",
   "execution_count": 23,
   "metadata": {},
   "outputs": [
    {
     "data": {
      "text/plain": [
       "Index(['Masked sentence', 'real', 'pred'], dtype='object')"
      ]
     },
     "execution_count": 23,
     "metadata": {},
     "output_type": "execute_result"
    }
   ],
   "source": [
    "df_bert.columns"
   ]
  },
  {
   "attachments": {},
   "cell_type": "markdown",
   "metadata": {},
   "source": [
    "## Evaluation function"
   ]
  },
  {
   "cell_type": "code",
   "execution_count": 24,
   "metadata": {},
   "outputs": [],
   "source": [
    "import tensorflow as tf\n",
    "from transformers import TFAutoModelForMaskedLM, AutoTokenizer\n",
    "\n",
    "def compute_pll(sentences, model_name= 'bert-base-uncased'):\n",
    "    # Gett model n tokenizer \n",
    "    tokenizer = AutoTokenizer.from_pretrained(model_name)\n",
    "    model = TFAutoModelForMaskedLM.from_pretrained(model_name)\n",
    "\n",
    "    # Init  PLL values\n",
    "    pll_values = []\n",
    "\n",
    "    # Cal PLL for chaque sentence bu\n",
    "    for sentence in sentences:\n",
    "        # Tokenizeing\n",
    "        input_ids = tokenizer.encode(sentence, return_tensors='tf')\n",
    "        input_ids = input_ids[0]\n",
    "\n",
    "        # Init pll value \n",
    "        pll = 0\n",
    "\n",
    "        # Cal cond log probability for chaue jeton \n",
    "        for i in range(1, len(input_ids)-1):\n",
    "            # Create input with masked token\n",
    "            masked_input_ids = input_ids.numpy().copy()\n",
    "            masked_input_ids[i] = tokenizer.mask_token_id\n",
    "\n",
    "            # Cal log probabilities for masked eton\n",
    "            outputs = model(tf.convert_to_tensor(masked_input_ids[None, :]))\n",
    "            log_probs = tf.nn.log_softmax(outputs[0][0, i], axis=0)\n",
    "\n",
    "            # Update pll\n",
    "            pll += log_probs[input_ids[i]].numpy()\n",
    "\n",
    "        # Append PLL value to list\n",
    "        pll_values.append(abs(pll))\n",
    "\n",
    "    return pll_values\n"
   ]
  },
  {
   "cell_type": "code",
   "execution_count": 25,
   "metadata": {},
   "outputs": [
    {
     "name": "stderr",
     "output_type": "stream",
     "text": [
      "All model checkpoint layers were used when initializing TFBertForMaskedLM.\n",
      "\n",
      "All the layers of TFBertForMaskedLM were initialized from the model checkpoint at bert-base-uncased.\n",
      "If your task is similar to the task the model of the checkpoint was trained on, you can already use TFBertForMaskedLM for predictions without further training.\n"
     ]
    },
    {
     "name": "stdout",
     "output_type": "stream",
     "text": [
      "Sentence: This is love\n",
      "PLL: 13.75\n",
      "\n",
      "Sentence: This is awsome\n",
      "PLL: 38.41\n",
      "\n",
      "Sentence: I love you\n",
      "PLL: 7.48\n",
      "\n"
     ]
    }
   ],
   "source": [
    "sentences = ['This is love', 'This is awsome', 'I love you']\n",
    "model_name = 'bert-base-uncased'\n",
    "pll_values = compute_pll(sentences, model_name)\n",
    "\n",
    "for sentence, pll in zip(sentences, pll_values):\n",
    "    print(f'Sentence: {sentence}')\n",
    "    print(f'PLL: {pll:.2f}')\n",
    "    print()\n"
   ]
  },
  {
   "cell_type": "code",
   "execution_count": 26,
   "metadata": {},
   "outputs": [],
   "source": [
    "from transformers import TFAutoModelForMaskedLM, TFAutoModelForCausalLM\n",
    "\n",
    "def calculate_perplexities(sentences, model_name='bert-base-uncased'):\n",
    "    if model_name in ['distilbert-base-uncased', 'albert-base-v2']:\n",
    "        model = TFAutoModelForMaskedLM.from_pretrained(model_name)\n",
    "    else:\n",
    "        model = TFAutoModelForCausalLM.from_pretrained(model_name)\n",
    "    tokenizer = AutoTokenizer.from_pretrained(model_name)\n",
    "    perplexities = []\n",
    "    for sentence in sentences:\n",
    "        input_ids = tokenizer.encode(sentence, return_tensors='tf')\n",
    "        outputs = model(input_ids, labels=input_ids)\n",
    "        loss = outputs.loss\n",
    "        perplexity = tf.math.exp(loss).numpy()[0]\n",
    "        perplexities.append(perplexity)\n",
    "    return perplexities"
   ]
  },
  {
   "cell_type": "code",
   "execution_count": 27,
   "metadata": {},
   "outputs": [
    {
     "name": "stderr",
     "output_type": "stream",
     "text": [
      "All model checkpoint layers were used when initializing TFGPT2LMHeadModel.\n",
      "\n",
      "All the layers of TFGPT2LMHeadModel were initialized from the model checkpoint at gpt2.\n",
      "If your task is similar to the task the model of the checkpoint was trained on, you can already use TFGPT2LMHeadModel for predictions without further training.\n"
     ]
    },
    {
     "name": "stdout",
     "output_type": "stream",
     "text": [
      "[60.645866, 274.9464]\n"
     ]
    }
   ],
   "source": [
    "model_name = 'gpt2'\n",
    "sentences = ['Life is life.', 'I love natural language processing.']\n",
    "\n",
    "perplexities = calculate_perplexities(sentences, model_name)\n",
    "\n",
    "print(perplexities)"
   ]
  },
  {
   "cell_type": "code",
   "execution_count": 28,
   "metadata": {},
   "outputs": [],
   "source": [
    "from nltk.corpus import wordnet as wn\n",
    "\n",
    "def shortest_path_distance(s1, s2):\n",
    "    synset1 = wn.synset(s1)\n",
    "    synset2 = wn.synset(s2)\n",
    "    distance = synset1.shortest_path_distance(synset2)\n",
    "    return distance\n"
   ]
  },
  {
   "cell_type": "code",
   "execution_count": 29,
   "metadata": {},
   "outputs": [],
   "source": [
    "def path_similarity(s1, s2):\n",
    "    distance = shortest_path_distance(s1, s2)\n",
    "    if distance is None:\n",
    "        return 0\n",
    "    similarity = 1 / (distance + 1)\n",
    "    return similarity\n"
   ]
  },
  {
   "cell_type": "code",
   "execution_count": 30,
   "metadata": {},
   "outputs": [],
   "source": [
    "def calculate_accuracies(model_name, df):\n",
    "    tokenizer = AutoTokenizer.from_pretrained(model_name)\n",
    "    model = TFAutoModelForMaskedLM.from_pretrained(model_name)\n",
    "    accuracies = []\n",
    "    for index, row in df.iterrows():\n",
    "        sentence = row['Masked sentence']\n",
    "        # Check if sentence contains mask token\n",
    "        if tokenizer.mask_token not in sentence:\n",
    "            accuracies.append(0)\n",
    "            continue\n",
    "        # Tokenizeing\n",
    "        input_ids = tokenizer.encode(sentence, return_tensors='tf')\n",
    "        # Masking\n",
    "        mask_index = tf.where(input_ids == tokenizer.mask_token_id)[0][1]\n",
    "        original_word = row['real']\n",
    "        input_ids_np = input_ids.numpy()\n",
    "        input_ids_np[0][mask_index] = tokenizer.mask_token_id\n",
    "        input_ids = tf.convert_to_tensor(input_ids_np)\n",
    "        # predictions\n",
    "        outputs = model(input_ids)\n",
    "        predictions = tf.argsort(outputs[0][0][mask_index], direction='DESCENDING')\n",
    "        similarities = []\n",
    "        for prediction in predictions:\n",
    "            predicted_word = tokenizer.decode([prediction])\n",
    "            synsets1 = wn.synsets(original_word)\n",
    "            synsets2 = wn.synsets(predicted_word)\n",
    "            if synsets1 and synsets2:\n",
    "                max_similarity = max(path_similarity(synset1.name(), synset2.name()) for synset1 in synsets1 for synset2 in synsets2)\n",
    "                similarities.append(max_similarity)\n",
    "            else:\n",
    "                similarities.append(0)\n",
    "        accuracy = max(similarities)\n",
    "        accuracies.append(accuracy)\n",
    "    return accuracies\n"
   ]
  },
  {
   "cell_type": "markdown",
   "metadata": {},
   "source": [
    "bert_accuracies = calculate_accuracies('bert-base-uncased', df_bert)\n",
    "roberta_accuracies = calculate_accuracies('roberta-base', df_roberta)\n",
    "distilroberta_accuracies = calculate_accuracies('distilroberta-base', df_distilroberta)\n",
    "albert_accuracies = calculate_accuracies('albert-base', df_albert)\n",
    "distilbert_accuracies = calculate_accuracies('distilbert-base-uncased', df_distilbert)\n"
   ]
  },
  {
   "cell_type": "code",
   "execution_count": 31,
   "metadata": {},
   "outputs": [],
   "source": [
    "bert_accuracies = pd.read_excel(\"MLM/MLM/bert-base_pred_with_acc.xlsx\")\n",
    "roberta_accuracies = pd.read_excel(\"MLM/MLM/roberta-base_pred_with_acc.xlsx\")\n",
    "distilroberta_accuracies = pd.read_excel(\"MLM/MLM/distilroberta-base_pred_with_acc.xlsx\")\n",
    "albert_accuracies = pd.read_excel(\"MLM/MLM/albert-base_pred_with_acc.xlsx\")\n",
    "distilbert_accuracies = pd.read_excel(\"MLM/MLM/distilbert-base_pred_with_acc.xlsx\")"
   ]
  },
  {
   "cell_type": "code",
   "execution_count": 32,
   "metadata": {},
   "outputs": [],
   "source": [
    "bert_accuracies = bert_accuracies['similarity']\n",
    "roberta_accuracies = roberta_accuracies['similarity']\n",
    "distilroberta_accuracies = distilroberta_accuracies['similarity']\n",
    "albert_accuracies = albert_accuracies['similarity']\n",
    "distilbert_accuracies = distilbert_accuracies['similarity']"
   ]
  },
  {
   "cell_type": "code",
   "execution_count": 33,
   "metadata": {},
   "outputs": [],
   "source": [
    "from transformers import pipeline\n",
    "import time\n",
    "\n",
    "def calculate_execution_time(df, n_runs=10, model_name='bert-base-uncased'):\n",
    "    fill_mask = pipeline('fill-mask', model=model_name)\n",
    "    execution_times = []\n",
    "    for _ in range(n_runs):\n",
    "        start_time = time.time()\n",
    "        for index, row in df.iterrows():\n",
    "            sentence = row['Masked sentence']\n",
    "            fill_mask(sentence)\n",
    "        end_time = time.time()\n",
    "        execution_time = end_time - start_time\n",
    "        execution_times.append(execution_time)\n",
    "    return execution_times"
   ]
  },
  {
   "cell_type": "markdown",
   "metadata": {},
   "source": [
    "bert_execution_times = calculate_execution_time(df_bert, model_name='bert-base-uncased')\n",
    "roberta_execution_times = calculate_execution_time(df_roberta, model_name='roberta-base')\n",
    "distilroberta_execution_times = calculate_execution_time(df_distilroberta, model_name='distilroberta-base')\n",
    "albert_execution_times = calculate_execution_time(df_albert, model_name='albert-base-v2')\n",
    "distilbert_execution_times = calculate_execution_time(df_distilbert, model_name='distilbert-base-uncased')\n"
   ]
  },
  {
   "attachments": {},
   "cell_type": "markdown",
   "metadata": {},
   "source": [
    "# PLOTS "
   ]
  },
  {
   "cell_type": "code",
   "execution_count": 35,
   "metadata": {},
   "outputs": [],
   "source": [
    "import pandas as pd\n",
    "\n",
    "df = pd.read_excel('dataset.xlsx')\n",
    "df = df.iloc[:,1]\n"
   ]
  },
  {
   "cell_type": "code",
   "execution_count": 36,
   "metadata": {},
   "outputs": [
    {
     "data": {
      "text/plain": [
       "pandas.core.series.Series"
      ]
     },
     "execution_count": 36,
     "metadata": {},
     "output_type": "execute_result"
    }
   ],
   "source": [
    "type(df)"
   ]
  },
  {
   "cell_type": "code",
   "execution_count": 37,
   "metadata": {},
   "outputs": [],
   "source": [
    "models = [\"bert-base-uncased\", \"roberta-base\", \"albert-base-v2\", \"distilroberta-base\", \"distilbert-base-uncased\"]\n"
   ]
  },
  {
   "cell_type": "code",
   "execution_count": 62,
   "metadata": {},
   "outputs": [],
   "source": [
    "from statistics import mean\n",
    "\n",
    "def calculate_metrics(dfs, models, average_perplexities, average_accuracies, average_execution_times):\n",
    "    metrics = {}\n",
    "    for df, model, average_perplexity, average_accuracy, average_execution_time in zip(dfs, models, average_perplexities, average_accuracies, average_execution_times):\n",
    "        pll_values = compute_pll(df['Masked sentence'], model_name=model)\n",
    "\n",
    "        min_pll, max_pll = min(pll_values), max(pll_values)\n",
    " \n",
    "        if max_pll - min_pll == 0:\n",
    "            average_pll = 1\n",
    "        else:\n",
    "            average_pll = 1 - ((mean(pll_values) - min_pll) / (max_pll - min_pll))\n",
    "\n",
    "        metrics[model] = {\n",
    "            'average_pll': average_pll,\n",
    "            'average_perplexity': average_perplexity,\n",
    "            'average_accuracy': average_accuracy,\n",
    "            'average_execution_time': average_execution_time\n",
    "        }\n",
    "    return metrics\n"
   ]
  },
  {
   "cell_type": "code",
   "execution_count": 63,
   "metadata": {},
   "outputs": [],
   "source": [
    "df_albert = df_albert.rename(columns={'Masked Sentence': 'Masked sentence'})\n"
   ]
  },
  {
   "cell_type": "code",
   "execution_count": 64,
   "metadata": {},
   "outputs": [
    {
     "name": "stdout",
     "output_type": "stream",
     "text": [
      "Index(['Masked sentence', 'real', 'pred'], dtype='object')\n",
      "Index(['Masked sentence', 'real', 'pred'], dtype='object')\n",
      "Index(['Masked sentence', 'real', 'pred'], dtype='object')\n",
      "Index(['Masked sentence', 'real', 'pred'], dtype='object')\n",
      "Index(['Masked sentence', 'real', 'pred'], dtype='object')\n"
     ]
    }
   ],
   "source": [
    "print(df_bert.columns)\n",
    "print(df_roberta.columns)\n",
    "print(df_distilroberta.columns)\n",
    "print(df_albert.columns)\n",
    "print(df_distilbert.columns)"
   ]
  },
  {
   "cell_type": "code",
   "execution_count": 83,
   "metadata": {},
   "outputs": [
    {
     "name": "stderr",
     "output_type": "stream",
     "text": [
      "All model checkpoint layers were used when initializing TFBertForMaskedLM.\n",
      "\n",
      "All the layers of TFBertForMaskedLM were initialized from the model checkpoint at bert-base-uncased.\n",
      "If your task is similar to the task the model of the checkpoint was trained on, you can already use TFBertForMaskedLM for predictions without further training.\n"
     ]
    },
    {
     "ename": "KeyboardInterrupt",
     "evalue": "",
     "output_type": "error",
     "traceback": [
      "\u001b[1;31m---------------------------------------------------------------------------\u001b[0m",
      "\u001b[1;31mKeyboardInterrupt\u001b[0m                         Traceback (most recent call last)",
      "Cell \u001b[1;32mIn[83], line 7\u001b[0m\n\u001b[0;32m      5\u001b[0m average_accuracies \u001b[39m=\u001b[39m [\u001b[39m0.44\u001b[39m, \u001b[39m0.5\u001b[39m, \u001b[39m0.39\u001b[39m, \u001b[39m0.09\u001b[39m,  \u001b[39m0.39\u001b[39m]\n\u001b[0;32m      6\u001b[0m average_execution_times \u001b[39m=\u001b[39m [\u001b[39m0.56\u001b[39m, \u001b[39m0.6\u001b[39m, \u001b[39m0.38\u001b[39m, \u001b[39m0.48\u001b[39m,  \u001b[39m0.35\u001b[39m]\n\u001b[1;32m----> 7\u001b[0m metrics \u001b[39m=\u001b[39m calculate_metrics(dfs, models, average_perplexities, average_accuracies, average_execution_times)\n",
      "Cell \u001b[1;32mIn[62], line 6\u001b[0m, in \u001b[0;36mcalculate_metrics\u001b[1;34m(dfs, models, average_perplexities, average_accuracies, average_execution_times)\u001b[0m\n\u001b[0;32m      4\u001b[0m metrics \u001b[39m=\u001b[39m {}\n\u001b[0;32m      5\u001b[0m \u001b[39mfor\u001b[39;00m df, model, average_perplexity, average_accuracy, average_execution_time \u001b[39min\u001b[39;00m \u001b[39mzip\u001b[39m(dfs, models, average_perplexities, average_accuracies, average_execution_times):\n\u001b[1;32m----> 6\u001b[0m     pll_values \u001b[39m=\u001b[39m compute_pll(df[\u001b[39m'\u001b[39;49m\u001b[39mMasked sentence\u001b[39;49m\u001b[39m'\u001b[39;49m], model_name\u001b[39m=\u001b[39;49mmodel)\n\u001b[0;32m      8\u001b[0m     min_pll, max_pll \u001b[39m=\u001b[39m \u001b[39mmin\u001b[39m(pll_values), \u001b[39mmax\u001b[39m(pll_values)\n\u001b[0;32m     10\u001b[0m     \u001b[39mif\u001b[39;00m max_pll \u001b[39m-\u001b[39m min_pll \u001b[39m==\u001b[39m \u001b[39m0\u001b[39m:\n",
      "Cell \u001b[1;32mIn[24], line 28\u001b[0m, in \u001b[0;36mcompute_pll\u001b[1;34m(sentences, model_name)\u001b[0m\n\u001b[0;32m     25\u001b[0m masked_input_ids[i] \u001b[39m=\u001b[39m tokenizer\u001b[39m.\u001b[39mmask_token_id\n\u001b[0;32m     27\u001b[0m \u001b[39m# Cal log probabilities for masked eton\u001b[39;00m\n\u001b[1;32m---> 28\u001b[0m outputs \u001b[39m=\u001b[39m model(tf\u001b[39m.\u001b[39;49mconvert_to_tensor(masked_input_ids[\u001b[39mNone\u001b[39;49;00m, :]))\n\u001b[0;32m     29\u001b[0m log_probs \u001b[39m=\u001b[39m tf\u001b[39m.\u001b[39mnn\u001b[39m.\u001b[39mlog_softmax(outputs[\u001b[39m0\u001b[39m][\u001b[39m0\u001b[39m, i], axis\u001b[39m=\u001b[39m\u001b[39m0\u001b[39m)\n\u001b[0;32m     31\u001b[0m \u001b[39m# Update pll\u001b[39;00m\n",
      "File \u001b[1;32mc:\\Users\\Rania\\anaconda3\\envs\\mybase\\lib\\site-packages\\keras\\engine\\base_layer.py:1037\u001b[0m, in \u001b[0;36mLayer.__call__\u001b[1;34m(self, *args, **kwargs)\u001b[0m\n\u001b[0;32m   1033\u001b[0m   inputs \u001b[39m=\u001b[39m \u001b[39mself\u001b[39m\u001b[39m.\u001b[39m_maybe_cast_inputs(inputs, input_list)\n\u001b[0;32m   1035\u001b[0m \u001b[39mwith\u001b[39;00m autocast_variable\u001b[39m.\u001b[39menable_auto_cast_variables(\n\u001b[0;32m   1036\u001b[0m     \u001b[39mself\u001b[39m\u001b[39m.\u001b[39m_compute_dtype_object):\n\u001b[1;32m-> 1037\u001b[0m   outputs \u001b[39m=\u001b[39m call_fn(inputs, \u001b[39m*\u001b[39margs, \u001b[39m*\u001b[39m\u001b[39m*\u001b[39mkwargs)\n\u001b[0;32m   1039\u001b[0m \u001b[39mif\u001b[39;00m \u001b[39mself\u001b[39m\u001b[39m.\u001b[39m_activity_regularizer:\n\u001b[0;32m   1040\u001b[0m   \u001b[39mself\u001b[39m\u001b[39m.\u001b[39m_handle_activity_regularization(inputs, outputs)\n",
      "File \u001b[1;32mc:\\Users\\Rania\\anaconda3\\envs\\mybase\\lib\\site-packages\\transformers\\modeling_tf_utils.py:420\u001b[0m, in \u001b[0;36munpack_inputs.<locals>.run_call_with_unpacked_inputs\u001b[1;34m(self, *args, **kwargs)\u001b[0m\n\u001b[0;32m    417\u001b[0m     config \u001b[39m=\u001b[39m \u001b[39mself\u001b[39m\u001b[39m.\u001b[39mconfig\n\u001b[0;32m    419\u001b[0m unpacked_inputs \u001b[39m=\u001b[39m input_processing(func, config, \u001b[39m*\u001b[39m\u001b[39m*\u001b[39mfn_args_and_kwargs)\n\u001b[1;32m--> 420\u001b[0m \u001b[39mreturn\u001b[39;00m func(\u001b[39mself\u001b[39m, \u001b[39m*\u001b[39m\u001b[39m*\u001b[39munpacked_inputs)\n",
      "File \u001b[1;32mc:\\Users\\Rania\\anaconda3\\envs\\mybase\\lib\\site-packages\\transformers\\models\\bert\\modeling_tf_bert.py:1339\u001b[0m, in \u001b[0;36mTFBertForMaskedLM.call\u001b[1;34m(self, input_ids, attention_mask, token_type_ids, position_ids, head_mask, inputs_embeds, output_attentions, output_hidden_states, return_dict, labels, training)\u001b[0m\n\u001b[0;32m   1309\u001b[0m \u001b[39m@unpack_inputs\u001b[39m\n\u001b[0;32m   1310\u001b[0m \u001b[39m@add_start_docstrings_to_model_forward\u001b[39m(BERT_INPUTS_DOCSTRING\u001b[39m.\u001b[39mformat(\u001b[39m\"\u001b[39m\u001b[39mbatch_size, sequence_length\u001b[39m\u001b[39m\"\u001b[39m))\n\u001b[0;32m   1311\u001b[0m \u001b[39m@add_code_sample_docstrings\u001b[39m(\n\u001b[1;32m   (...)\u001b[0m\n\u001b[0;32m   1331\u001b[0m     training: Optional[\u001b[39mbool\u001b[39m] \u001b[39m=\u001b[39m \u001b[39mFalse\u001b[39;00m,\n\u001b[0;32m   1332\u001b[0m ) \u001b[39m-\u001b[39m\u001b[39m>\u001b[39m Union[TFMaskedLMOutput, Tuple[tf\u001b[39m.\u001b[39mTensor]]:\n\u001b[0;32m   1333\u001b[0m \u001b[39m    \u001b[39m\u001b[39mr\u001b[39m\u001b[39m\"\"\"\u001b[39;00m\n\u001b[0;32m   1334\u001b[0m \u001b[39m    labels (`tf.Tensor` or `np.ndarray` of shape `(batch_size, sequence_length)`, *optional*):\u001b[39;00m\n\u001b[0;32m   1335\u001b[0m \u001b[39m        Labels for computing the masked language modeling loss. Indices should be in `[-100, 0, ...,\u001b[39;00m\n\u001b[0;32m   1336\u001b[0m \u001b[39m        config.vocab_size]` (see `input_ids` docstring) Tokens with indices set to `-100` are ignored (masked), the\u001b[39;00m\n\u001b[0;32m   1337\u001b[0m \u001b[39m        loss is only computed for the tokens with labels in `[0, ..., config.vocab_size]`\u001b[39;00m\n\u001b[0;32m   1338\u001b[0m \u001b[39m    \"\"\"\u001b[39;00m\n\u001b[1;32m-> 1339\u001b[0m     outputs \u001b[39m=\u001b[39m \u001b[39mself\u001b[39;49m\u001b[39m.\u001b[39;49mbert(\n\u001b[0;32m   1340\u001b[0m         input_ids\u001b[39m=\u001b[39;49minput_ids,\n\u001b[0;32m   1341\u001b[0m         attention_mask\u001b[39m=\u001b[39;49mattention_mask,\n\u001b[0;32m   1342\u001b[0m         token_type_ids\u001b[39m=\u001b[39;49mtoken_type_ids,\n\u001b[0;32m   1343\u001b[0m         position_ids\u001b[39m=\u001b[39;49mposition_ids,\n\u001b[0;32m   1344\u001b[0m         head_mask\u001b[39m=\u001b[39;49mhead_mask,\n\u001b[0;32m   1345\u001b[0m         inputs_embeds\u001b[39m=\u001b[39;49minputs_embeds,\n\u001b[0;32m   1346\u001b[0m         output_attentions\u001b[39m=\u001b[39;49moutput_attentions,\n\u001b[0;32m   1347\u001b[0m         output_hidden_states\u001b[39m=\u001b[39;49moutput_hidden_states,\n\u001b[0;32m   1348\u001b[0m         return_dict\u001b[39m=\u001b[39;49mreturn_dict,\n\u001b[0;32m   1349\u001b[0m         training\u001b[39m=\u001b[39;49mtraining,\n\u001b[0;32m   1350\u001b[0m     )\n\u001b[0;32m   1351\u001b[0m     sequence_output \u001b[39m=\u001b[39m outputs[\u001b[39m0\u001b[39m]\n\u001b[0;32m   1352\u001b[0m     prediction_scores \u001b[39m=\u001b[39m \u001b[39mself\u001b[39m\u001b[39m.\u001b[39mmlm(sequence_output\u001b[39m=\u001b[39msequence_output, training\u001b[39m=\u001b[39mtraining)\n",
      "File \u001b[1;32mc:\\Users\\Rania\\anaconda3\\envs\\mybase\\lib\\site-packages\\keras\\engine\\base_layer.py:1037\u001b[0m, in \u001b[0;36mLayer.__call__\u001b[1;34m(self, *args, **kwargs)\u001b[0m\n\u001b[0;32m   1033\u001b[0m   inputs \u001b[39m=\u001b[39m \u001b[39mself\u001b[39m\u001b[39m.\u001b[39m_maybe_cast_inputs(inputs, input_list)\n\u001b[0;32m   1035\u001b[0m \u001b[39mwith\u001b[39;00m autocast_variable\u001b[39m.\u001b[39menable_auto_cast_variables(\n\u001b[0;32m   1036\u001b[0m     \u001b[39mself\u001b[39m\u001b[39m.\u001b[39m_compute_dtype_object):\n\u001b[1;32m-> 1037\u001b[0m   outputs \u001b[39m=\u001b[39m call_fn(inputs, \u001b[39m*\u001b[39margs, \u001b[39m*\u001b[39m\u001b[39m*\u001b[39mkwargs)\n\u001b[0;32m   1039\u001b[0m \u001b[39mif\u001b[39;00m \u001b[39mself\u001b[39m\u001b[39m.\u001b[39m_activity_regularizer:\n\u001b[0;32m   1040\u001b[0m   \u001b[39mself\u001b[39m\u001b[39m.\u001b[39m_handle_activity_regularization(inputs, outputs)\n",
      "File \u001b[1;32mc:\\Users\\Rania\\anaconda3\\envs\\mybase\\lib\\site-packages\\transformers\\modeling_tf_utils.py:420\u001b[0m, in \u001b[0;36munpack_inputs.<locals>.run_call_with_unpacked_inputs\u001b[1;34m(self, *args, **kwargs)\u001b[0m\n\u001b[0;32m    417\u001b[0m     config \u001b[39m=\u001b[39m \u001b[39mself\u001b[39m\u001b[39m.\u001b[39mconfig\n\u001b[0;32m    419\u001b[0m unpacked_inputs \u001b[39m=\u001b[39m input_processing(func, config, \u001b[39m*\u001b[39m\u001b[39m*\u001b[39mfn_args_and_kwargs)\n\u001b[1;32m--> 420\u001b[0m \u001b[39mreturn\u001b[39;00m func(\u001b[39mself\u001b[39m, \u001b[39m*\u001b[39m\u001b[39m*\u001b[39munpacked_inputs)\n",
      "File \u001b[1;32mc:\\Users\\Rania\\anaconda3\\envs\\mybase\\lib\\site-packages\\transformers\\models\\bert\\modeling_tf_bert.py:873\u001b[0m, in \u001b[0;36mTFBertMainLayer.call\u001b[1;34m(self, input_ids, attention_mask, token_type_ids, position_ids, head_mask, inputs_embeds, encoder_hidden_states, encoder_attention_mask, past_key_values, use_cache, output_attentions, output_hidden_states, return_dict, training)\u001b[0m\n\u001b[0;32m    870\u001b[0m \u001b[39melse\u001b[39;00m:\n\u001b[0;32m    871\u001b[0m     head_mask \u001b[39m=\u001b[39m [\u001b[39mNone\u001b[39;00m] \u001b[39m*\u001b[39m \u001b[39mself\u001b[39m\u001b[39m.\u001b[39mconfig\u001b[39m.\u001b[39mnum_hidden_layers\n\u001b[1;32m--> 873\u001b[0m encoder_outputs \u001b[39m=\u001b[39m \u001b[39mself\u001b[39;49m\u001b[39m.\u001b[39;49mencoder(\n\u001b[0;32m    874\u001b[0m     hidden_states\u001b[39m=\u001b[39;49membedding_output,\n\u001b[0;32m    875\u001b[0m     attention_mask\u001b[39m=\u001b[39;49mextended_attention_mask,\n\u001b[0;32m    876\u001b[0m     head_mask\u001b[39m=\u001b[39;49mhead_mask,\n\u001b[0;32m    877\u001b[0m     encoder_hidden_states\u001b[39m=\u001b[39;49mencoder_hidden_states,\n\u001b[0;32m    878\u001b[0m     encoder_attention_mask\u001b[39m=\u001b[39;49mencoder_extended_attention_mask,\n\u001b[0;32m    879\u001b[0m     past_key_values\u001b[39m=\u001b[39;49mpast_key_values,\n\u001b[0;32m    880\u001b[0m     use_cache\u001b[39m=\u001b[39;49muse_cache,\n\u001b[0;32m    881\u001b[0m     output_attentions\u001b[39m=\u001b[39;49moutput_attentions,\n\u001b[0;32m    882\u001b[0m     output_hidden_states\u001b[39m=\u001b[39;49moutput_hidden_states,\n\u001b[0;32m    883\u001b[0m     return_dict\u001b[39m=\u001b[39;49mreturn_dict,\n\u001b[0;32m    884\u001b[0m     training\u001b[39m=\u001b[39;49mtraining,\n\u001b[0;32m    885\u001b[0m )\n\u001b[0;32m    887\u001b[0m sequence_output \u001b[39m=\u001b[39m encoder_outputs[\u001b[39m0\u001b[39m]\n\u001b[0;32m    888\u001b[0m pooled_output \u001b[39m=\u001b[39m \u001b[39mself\u001b[39m\u001b[39m.\u001b[39mpooler(hidden_states\u001b[39m=\u001b[39msequence_output) \u001b[39mif\u001b[39;00m \u001b[39mself\u001b[39m\u001b[39m.\u001b[39mpooler \u001b[39mis\u001b[39;00m \u001b[39mnot\u001b[39;00m \u001b[39mNone\u001b[39;00m \u001b[39melse\u001b[39;00m \u001b[39mNone\u001b[39;00m\n",
      "File \u001b[1;32mc:\\Users\\Rania\\anaconda3\\envs\\mybase\\lib\\site-packages\\keras\\engine\\base_layer.py:1037\u001b[0m, in \u001b[0;36mLayer.__call__\u001b[1;34m(self, *args, **kwargs)\u001b[0m\n\u001b[0;32m   1033\u001b[0m   inputs \u001b[39m=\u001b[39m \u001b[39mself\u001b[39m\u001b[39m.\u001b[39m_maybe_cast_inputs(inputs, input_list)\n\u001b[0;32m   1035\u001b[0m \u001b[39mwith\u001b[39;00m autocast_variable\u001b[39m.\u001b[39menable_auto_cast_variables(\n\u001b[0;32m   1036\u001b[0m     \u001b[39mself\u001b[39m\u001b[39m.\u001b[39m_compute_dtype_object):\n\u001b[1;32m-> 1037\u001b[0m   outputs \u001b[39m=\u001b[39m call_fn(inputs, \u001b[39m*\u001b[39margs, \u001b[39m*\u001b[39m\u001b[39m*\u001b[39mkwargs)\n\u001b[0;32m   1039\u001b[0m \u001b[39mif\u001b[39;00m \u001b[39mself\u001b[39m\u001b[39m.\u001b[39m_activity_regularizer:\n\u001b[0;32m   1040\u001b[0m   \u001b[39mself\u001b[39m\u001b[39m.\u001b[39m_handle_activity_regularization(inputs, outputs)\n",
      "File \u001b[1;32mc:\\Users\\Rania\\anaconda3\\envs\\mybase\\lib\\site-packages\\transformers\\models\\bert\\modeling_tf_bert.py:564\u001b[0m, in \u001b[0;36mTFBertEncoder.call\u001b[1;34m(self, hidden_states, attention_mask, head_mask, encoder_hidden_states, encoder_attention_mask, past_key_values, use_cache, output_attentions, output_hidden_states, return_dict, training)\u001b[0m\n\u001b[0;32m    560\u001b[0m     all_hidden_states \u001b[39m=\u001b[39m all_hidden_states \u001b[39m+\u001b[39m (hidden_states,)\n\u001b[0;32m    562\u001b[0m past_key_value \u001b[39m=\u001b[39m past_key_values[i] \u001b[39mif\u001b[39;00m past_key_values \u001b[39mis\u001b[39;00m \u001b[39mnot\u001b[39;00m \u001b[39mNone\u001b[39;00m \u001b[39melse\u001b[39;00m \u001b[39mNone\u001b[39;00m\n\u001b[1;32m--> 564\u001b[0m layer_outputs \u001b[39m=\u001b[39m layer_module(\n\u001b[0;32m    565\u001b[0m     hidden_states\u001b[39m=\u001b[39;49mhidden_states,\n\u001b[0;32m    566\u001b[0m     attention_mask\u001b[39m=\u001b[39;49mattention_mask,\n\u001b[0;32m    567\u001b[0m     head_mask\u001b[39m=\u001b[39;49mhead_mask[i],\n\u001b[0;32m    568\u001b[0m     encoder_hidden_states\u001b[39m=\u001b[39;49mencoder_hidden_states,\n\u001b[0;32m    569\u001b[0m     encoder_attention_mask\u001b[39m=\u001b[39;49mencoder_attention_mask,\n\u001b[0;32m    570\u001b[0m     past_key_value\u001b[39m=\u001b[39;49mpast_key_value,\n\u001b[0;32m    571\u001b[0m     output_attentions\u001b[39m=\u001b[39;49moutput_attentions,\n\u001b[0;32m    572\u001b[0m     training\u001b[39m=\u001b[39;49mtraining,\n\u001b[0;32m    573\u001b[0m )\n\u001b[0;32m    574\u001b[0m hidden_states \u001b[39m=\u001b[39m layer_outputs[\u001b[39m0\u001b[39m]\n\u001b[0;32m    576\u001b[0m \u001b[39mif\u001b[39;00m use_cache:\n",
      "File \u001b[1;32mc:\\Users\\Rania\\anaconda3\\envs\\mybase\\lib\\site-packages\\keras\\engine\\base_layer.py:1037\u001b[0m, in \u001b[0;36mLayer.__call__\u001b[1;34m(self, *args, **kwargs)\u001b[0m\n\u001b[0;32m   1033\u001b[0m   inputs \u001b[39m=\u001b[39m \u001b[39mself\u001b[39m\u001b[39m.\u001b[39m_maybe_cast_inputs(inputs, input_list)\n\u001b[0;32m   1035\u001b[0m \u001b[39mwith\u001b[39;00m autocast_variable\u001b[39m.\u001b[39menable_auto_cast_variables(\n\u001b[0;32m   1036\u001b[0m     \u001b[39mself\u001b[39m\u001b[39m.\u001b[39m_compute_dtype_object):\n\u001b[1;32m-> 1037\u001b[0m   outputs \u001b[39m=\u001b[39m call_fn(inputs, \u001b[39m*\u001b[39margs, \u001b[39m*\u001b[39m\u001b[39m*\u001b[39mkwargs)\n\u001b[0;32m   1039\u001b[0m \u001b[39mif\u001b[39;00m \u001b[39mself\u001b[39m\u001b[39m.\u001b[39m_activity_regularizer:\n\u001b[0;32m   1040\u001b[0m   \u001b[39mself\u001b[39m\u001b[39m.\u001b[39m_handle_activity_regularization(inputs, outputs)\n",
      "File \u001b[1;32mc:\\Users\\Rania\\anaconda3\\envs\\mybase\\lib\\site-packages\\transformers\\models\\bert\\modeling_tf_bert.py:520\u001b[0m, in \u001b[0;36mTFBertLayer.call\u001b[1;34m(self, hidden_states, attention_mask, head_mask, encoder_hidden_states, encoder_attention_mask, past_key_value, output_attentions, training)\u001b[0m\n\u001b[0;32m    517\u001b[0m     cross_attn_present_key_value \u001b[39m=\u001b[39m cross_attention_outputs[\u001b[39m-\u001b[39m\u001b[39m1\u001b[39m]\n\u001b[0;32m    518\u001b[0m     present_key_value \u001b[39m=\u001b[39m present_key_value \u001b[39m+\u001b[39m cross_attn_present_key_value\n\u001b[1;32m--> 520\u001b[0m intermediate_output \u001b[39m=\u001b[39m \u001b[39mself\u001b[39;49m\u001b[39m.\u001b[39;49mintermediate(hidden_states\u001b[39m=\u001b[39;49mattention_output)\n\u001b[0;32m    521\u001b[0m layer_output \u001b[39m=\u001b[39m \u001b[39mself\u001b[39m\u001b[39m.\u001b[39mbert_output(\n\u001b[0;32m    522\u001b[0m     hidden_states\u001b[39m=\u001b[39mintermediate_output, input_tensor\u001b[39m=\u001b[39mattention_output, training\u001b[39m=\u001b[39mtraining\n\u001b[0;32m    523\u001b[0m )\n\u001b[0;32m    524\u001b[0m outputs \u001b[39m=\u001b[39m (layer_output,) \u001b[39m+\u001b[39m outputs  \u001b[39m# add attentions if we output them\u001b[39;00m\n",
      "File \u001b[1;32mc:\\Users\\Rania\\anaconda3\\envs\\mybase\\lib\\site-packages\\keras\\engine\\base_layer.py:1037\u001b[0m, in \u001b[0;36mLayer.__call__\u001b[1;34m(self, *args, **kwargs)\u001b[0m\n\u001b[0;32m   1033\u001b[0m   inputs \u001b[39m=\u001b[39m \u001b[39mself\u001b[39m\u001b[39m.\u001b[39m_maybe_cast_inputs(inputs, input_list)\n\u001b[0;32m   1035\u001b[0m \u001b[39mwith\u001b[39;00m autocast_variable\u001b[39m.\u001b[39menable_auto_cast_variables(\n\u001b[0;32m   1036\u001b[0m     \u001b[39mself\u001b[39m\u001b[39m.\u001b[39m_compute_dtype_object):\n\u001b[1;32m-> 1037\u001b[0m   outputs \u001b[39m=\u001b[39m call_fn(inputs, \u001b[39m*\u001b[39margs, \u001b[39m*\u001b[39m\u001b[39m*\u001b[39mkwargs)\n\u001b[0;32m   1039\u001b[0m \u001b[39mif\u001b[39;00m \u001b[39mself\u001b[39m\u001b[39m.\u001b[39m_activity_regularizer:\n\u001b[0;32m   1040\u001b[0m   \u001b[39mself\u001b[39m\u001b[39m.\u001b[39m_handle_activity_regularization(inputs, outputs)\n",
      "File \u001b[1;32mc:\\Users\\Rania\\anaconda3\\envs\\mybase\\lib\\site-packages\\transformers\\models\\bert\\modeling_tf_bert.py:423\u001b[0m, in \u001b[0;36mTFBertIntermediate.call\u001b[1;34m(self, hidden_states)\u001b[0m\n\u001b[0;32m    422\u001b[0m \u001b[39mdef\u001b[39;00m \u001b[39mcall\u001b[39m(\u001b[39mself\u001b[39m, hidden_states: tf\u001b[39m.\u001b[39mTensor) \u001b[39m-\u001b[39m\u001b[39m>\u001b[39m tf\u001b[39m.\u001b[39mTensor:\n\u001b[1;32m--> 423\u001b[0m     hidden_states \u001b[39m=\u001b[39m \u001b[39mself\u001b[39;49m\u001b[39m.\u001b[39;49mdense(inputs\u001b[39m=\u001b[39;49mhidden_states)\n\u001b[0;32m    424\u001b[0m     hidden_states \u001b[39m=\u001b[39m \u001b[39mself\u001b[39m\u001b[39m.\u001b[39mintermediate_act_fn(hidden_states)\n\u001b[0;32m    426\u001b[0m     \u001b[39mreturn\u001b[39;00m hidden_states\n",
      "File \u001b[1;32mc:\\Users\\Rania\\anaconda3\\envs\\mybase\\lib\\site-packages\\keras\\engine\\base_layer.py:1037\u001b[0m, in \u001b[0;36mLayer.__call__\u001b[1;34m(self, *args, **kwargs)\u001b[0m\n\u001b[0;32m   1033\u001b[0m   inputs \u001b[39m=\u001b[39m \u001b[39mself\u001b[39m\u001b[39m.\u001b[39m_maybe_cast_inputs(inputs, input_list)\n\u001b[0;32m   1035\u001b[0m \u001b[39mwith\u001b[39;00m autocast_variable\u001b[39m.\u001b[39menable_auto_cast_variables(\n\u001b[0;32m   1036\u001b[0m     \u001b[39mself\u001b[39m\u001b[39m.\u001b[39m_compute_dtype_object):\n\u001b[1;32m-> 1037\u001b[0m   outputs \u001b[39m=\u001b[39m call_fn(inputs, \u001b[39m*\u001b[39margs, \u001b[39m*\u001b[39m\u001b[39m*\u001b[39mkwargs)\n\u001b[0;32m   1039\u001b[0m \u001b[39mif\u001b[39;00m \u001b[39mself\u001b[39m\u001b[39m.\u001b[39m_activity_regularizer:\n\u001b[0;32m   1040\u001b[0m   \u001b[39mself\u001b[39m\u001b[39m.\u001b[39m_handle_activity_regularization(inputs, outputs)\n",
      "File \u001b[1;32mc:\\Users\\Rania\\anaconda3\\envs\\mybase\\lib\\site-packages\\keras\\layers\\core.py:1232\u001b[0m, in \u001b[0;36mDense.call\u001b[1;34m(self, inputs)\u001b[0m\n\u001b[0;32m   1229\u001b[0m     outputs \u001b[39m=\u001b[39m tf\u001b[39m.\u001b[39mraw_ops\u001b[39m.\u001b[39mMatMul(a\u001b[39m=\u001b[39minputs, b\u001b[39m=\u001b[39m\u001b[39mself\u001b[39m\u001b[39m.\u001b[39mkernel)\n\u001b[0;32m   1230\u001b[0m \u001b[39m# Broadcast kernel to inputs.\u001b[39;00m\n\u001b[0;32m   1231\u001b[0m \u001b[39melse\u001b[39;00m:\n\u001b[1;32m-> 1232\u001b[0m   outputs \u001b[39m=\u001b[39m tf\u001b[39m.\u001b[39;49mtensordot(inputs, \u001b[39mself\u001b[39;49m\u001b[39m.\u001b[39;49mkernel, [[rank \u001b[39m-\u001b[39;49m \u001b[39m1\u001b[39;49m], [\u001b[39m0\u001b[39;49m]])\n\u001b[0;32m   1233\u001b[0m   \u001b[39m# Reshape the output back to the original ndim of the input.\u001b[39;00m\n\u001b[0;32m   1234\u001b[0m   \u001b[39mif\u001b[39;00m \u001b[39mnot\u001b[39;00m tf\u001b[39m.\u001b[39mexecuting_eagerly():\n",
      "File \u001b[1;32mc:\\Users\\Rania\\anaconda3\\envs\\mybase\\lib\\site-packages\\tensorflow\\python\\util\\dispatch.py:206\u001b[0m, in \u001b[0;36madd_dispatch_support.<locals>.wrapper\u001b[1;34m(*args, **kwargs)\u001b[0m\n\u001b[0;32m    204\u001b[0m \u001b[39m\u001b[39m\u001b[39m\"\"\"Call target, and fall back on dispatchers if there is a TypeError.\"\"\"\u001b[39;00m\n\u001b[0;32m    205\u001b[0m \u001b[39mtry\u001b[39;00m:\n\u001b[1;32m--> 206\u001b[0m   \u001b[39mreturn\u001b[39;00m target(\u001b[39m*\u001b[39margs, \u001b[39m*\u001b[39m\u001b[39m*\u001b[39mkwargs)\n\u001b[0;32m    207\u001b[0m \u001b[39mexcept\u001b[39;00m (\u001b[39mTypeError\u001b[39;00m, \u001b[39mValueError\u001b[39;00m):\n\u001b[0;32m    208\u001b[0m   \u001b[39m# Note: convert_to_eager_tensor currently raises a ValueError, not a\u001b[39;00m\n\u001b[0;32m    209\u001b[0m   \u001b[39m# TypeError, when given unexpected types.  So we need to catch both.\u001b[39;00m\n\u001b[0;32m    210\u001b[0m   result \u001b[39m=\u001b[39m dispatch(wrapper, args, kwargs)\n",
      "File \u001b[1;32mc:\\Users\\Rania\\anaconda3\\envs\\mybase\\lib\\site-packages\\tensorflow\\python\\ops\\math_ops.py:5039\u001b[0m, in \u001b[0;36mtensordot\u001b[1;34m(a, b, axes, name)\u001b[0m\n\u001b[0;32m   5037\u001b[0m b \u001b[39m=\u001b[39m ops\u001b[39m.\u001b[39mconvert_to_tensor(b, name\u001b[39m=\u001b[39m\u001b[39m\"\u001b[39m\u001b[39mb\u001b[39m\u001b[39m\"\u001b[39m)\n\u001b[0;32m   5038\u001b[0m a_axes, b_axes \u001b[39m=\u001b[39m _tensordot_axes(a, axes)\n\u001b[1;32m-> 5039\u001b[0m a_reshape, a_free_dims, a_free_dims_static \u001b[39m=\u001b[39m _tensordot_reshape(a, a_axes)\n\u001b[0;32m   5040\u001b[0m b_reshape, b_free_dims, b_free_dims_static \u001b[39m=\u001b[39m _tensordot_reshape(\n\u001b[0;32m   5041\u001b[0m     b, b_axes, \u001b[39mTrue\u001b[39;00m)\n\u001b[0;32m   5042\u001b[0m ab_matmul \u001b[39m=\u001b[39m matmul(a_reshape, b_reshape)\n",
      "File \u001b[1;32mc:\\Users\\Rania\\anaconda3\\envs\\mybase\\lib\\site-packages\\tensorflow\\python\\ops\\math_ops.py:4966\u001b[0m, in \u001b[0;36mtensordot.<locals>._tensordot_reshape\u001b[1;34m(a, axes, flipped)\u001b[0m\n\u001b[0;32m   4964\u001b[0m   a_trans \u001b[39m=\u001b[39m a\n\u001b[0;32m   4965\u001b[0m \u001b[39mif\u001b[39;00m a_trans\u001b[39m.\u001b[39mget_shape()\u001b[39m.\u001b[39mas_list() \u001b[39m!=\u001b[39m new_shape:\n\u001b[1;32m-> 4966\u001b[0m   reshaped_a \u001b[39m=\u001b[39m array_ops\u001b[39m.\u001b[39;49mreshape(a_trans, new_shape)\n\u001b[0;32m   4967\u001b[0m \u001b[39melse\u001b[39;00m:\n\u001b[0;32m   4968\u001b[0m   reshaped_a \u001b[39m=\u001b[39m a_trans\n",
      "File \u001b[1;32mc:\\Users\\Rania\\anaconda3\\envs\\mybase\\lib\\site-packages\\tensorflow\\python\\util\\dispatch.py:206\u001b[0m, in \u001b[0;36madd_dispatch_support.<locals>.wrapper\u001b[1;34m(*args, **kwargs)\u001b[0m\n\u001b[0;32m    204\u001b[0m \u001b[39m\u001b[39m\u001b[39m\"\"\"Call target, and fall back on dispatchers if there is a TypeError.\"\"\"\u001b[39;00m\n\u001b[0;32m    205\u001b[0m \u001b[39mtry\u001b[39;00m:\n\u001b[1;32m--> 206\u001b[0m   \u001b[39mreturn\u001b[39;00m target(\u001b[39m*\u001b[39margs, \u001b[39m*\u001b[39m\u001b[39m*\u001b[39mkwargs)\n\u001b[0;32m    207\u001b[0m \u001b[39mexcept\u001b[39;00m (\u001b[39mTypeError\u001b[39;00m, \u001b[39mValueError\u001b[39;00m):\n\u001b[0;32m    208\u001b[0m   \u001b[39m# Note: convert_to_eager_tensor currently raises a ValueError, not a\u001b[39;00m\n\u001b[0;32m    209\u001b[0m   \u001b[39m# TypeError, when given unexpected types.  So we need to catch both.\u001b[39;00m\n\u001b[0;32m    210\u001b[0m   result \u001b[39m=\u001b[39m dispatch(wrapper, args, kwargs)\n",
      "File \u001b[1;32mc:\\Users\\Rania\\anaconda3\\envs\\mybase\\lib\\site-packages\\tensorflow\\python\\ops\\array_ops.py:196\u001b[0m, in \u001b[0;36mreshape\u001b[1;34m(tensor, shape, name)\u001b[0m\n\u001b[0;32m     60\u001b[0m \u001b[39m@tf_export\u001b[39m(\u001b[39m\"\u001b[39m\u001b[39mreshape\u001b[39m\u001b[39m\"\u001b[39m, v1\u001b[39m=\u001b[39m[\u001b[39m\"\u001b[39m\u001b[39mreshape\u001b[39m\u001b[39m\"\u001b[39m, \u001b[39m\"\u001b[39m\u001b[39mmanip.reshape\u001b[39m\u001b[39m\"\u001b[39m])\n\u001b[0;32m     61\u001b[0m \u001b[39m@dispatch\u001b[39m\u001b[39m.\u001b[39madd_dispatch_support\n\u001b[0;32m     62\u001b[0m \u001b[39mdef\u001b[39;00m \u001b[39mreshape\u001b[39m(tensor, shape, name\u001b[39m=\u001b[39m\u001b[39mNone\u001b[39;00m):  \u001b[39m# pylint: disable=redefined-outer-name\u001b[39;00m\n\u001b[0;32m     63\u001b[0m \u001b[39m  \u001b[39m\u001b[39mr\u001b[39m\u001b[39m\"\"\"Reshapes a tensor.\u001b[39;00m\n\u001b[0;32m     64\u001b[0m \n\u001b[0;32m     65\u001b[0m \u001b[39m  Given `tensor`, this operation returns a new `tf.Tensor` that has the same\u001b[39;00m\n\u001b[1;32m   (...)\u001b[0m\n\u001b[0;32m    194\u001b[0m \u001b[39m    A `Tensor`. Has the same type as `tensor`.\u001b[39;00m\n\u001b[0;32m    195\u001b[0m \u001b[39m  \"\"\"\u001b[39;00m\n\u001b[1;32m--> 196\u001b[0m   result \u001b[39m=\u001b[39m gen_array_ops\u001b[39m.\u001b[39;49mreshape(tensor, shape, name)\n\u001b[0;32m    197\u001b[0m   tensor_util\u001b[39m.\u001b[39mmaybe_set_static_shape(result, shape)\n\u001b[0;32m    198\u001b[0m   \u001b[39mreturn\u001b[39;00m result\n",
      "File \u001b[1;32mc:\\Users\\Rania\\anaconda3\\envs\\mybase\\lib\\site-packages\\tensorflow\\python\\ops\\gen_array_ops.py:8397\u001b[0m, in \u001b[0;36mreshape\u001b[1;34m(tensor, shape, name)\u001b[0m\n\u001b[0;32m   8395\u001b[0m   \u001b[39mpass\u001b[39;00m\n\u001b[0;32m   8396\u001b[0m \u001b[39mtry\u001b[39;00m:\n\u001b[1;32m-> 8397\u001b[0m   \u001b[39mreturn\u001b[39;00m reshape_eager_fallback(\n\u001b[0;32m   8398\u001b[0m       tensor, shape, name\u001b[39m=\u001b[39;49mname, ctx\u001b[39m=\u001b[39;49m_ctx)\n\u001b[0;32m   8399\u001b[0m \u001b[39mexcept\u001b[39;00m _core\u001b[39m.\u001b[39m_SymbolicException:\n\u001b[0;32m   8400\u001b[0m   \u001b[39mpass\u001b[39;00m  \u001b[39m# Add nodes to the TensorFlow graph.\u001b[39;00m\n",
      "File \u001b[1;32mc:\\Users\\Rania\\anaconda3\\envs\\mybase\\lib\\site-packages\\tensorflow\\python\\ops\\gen_array_ops.py:8422\u001b[0m, in \u001b[0;36mreshape_eager_fallback\u001b[1;34m(tensor, shape, name, ctx)\u001b[0m\n\u001b[0;32m   8420\u001b[0m _inputs_flat \u001b[39m=\u001b[39m [tensor, shape]\n\u001b[0;32m   8421\u001b[0m _attrs \u001b[39m=\u001b[39m (\u001b[39m\"\u001b[39m\u001b[39mT\u001b[39m\u001b[39m\"\u001b[39m, _attr_T, \u001b[39m\"\u001b[39m\u001b[39mTshape\u001b[39m\u001b[39m\"\u001b[39m, _attr_Tshape)\n\u001b[1;32m-> 8422\u001b[0m _result \u001b[39m=\u001b[39m _execute\u001b[39m.\u001b[39;49mexecute(\u001b[39mb\u001b[39;49m\u001b[39m\"\u001b[39;49m\u001b[39mReshape\u001b[39;49m\u001b[39m\"\u001b[39;49m, \u001b[39m1\u001b[39;49m, inputs\u001b[39m=\u001b[39;49m_inputs_flat, attrs\u001b[39m=\u001b[39;49m_attrs,\n\u001b[0;32m   8423\u001b[0m                            ctx\u001b[39m=\u001b[39;49mctx, name\u001b[39m=\u001b[39;49mname)\n\u001b[0;32m   8424\u001b[0m \u001b[39mif\u001b[39;00m _execute\u001b[39m.\u001b[39mmust_record_gradient():\n\u001b[0;32m   8425\u001b[0m   _execute\u001b[39m.\u001b[39mrecord_gradient(\n\u001b[0;32m   8426\u001b[0m       \u001b[39m\"\u001b[39m\u001b[39mReshape\u001b[39m\u001b[39m\"\u001b[39m, _inputs_flat, _attrs, _result)\n",
      "File \u001b[1;32mc:\\Users\\Rania\\anaconda3\\envs\\mybase\\lib\\site-packages\\tensorflow\\python\\eager\\execute.py:59\u001b[0m, in \u001b[0;36mquick_execute\u001b[1;34m(op_name, num_outputs, inputs, attrs, ctx, name)\u001b[0m\n\u001b[0;32m     57\u001b[0m \u001b[39mtry\u001b[39;00m:\n\u001b[0;32m     58\u001b[0m   ctx\u001b[39m.\u001b[39mensure_initialized()\n\u001b[1;32m---> 59\u001b[0m   tensors \u001b[39m=\u001b[39m pywrap_tfe\u001b[39m.\u001b[39;49mTFE_Py_Execute(ctx\u001b[39m.\u001b[39;49m_handle, device_name, op_name,\n\u001b[0;32m     60\u001b[0m                                       inputs, attrs, num_outputs)\n\u001b[0;32m     61\u001b[0m \u001b[39mexcept\u001b[39;00m core\u001b[39m.\u001b[39m_NotOkStatusException \u001b[39mas\u001b[39;00m e:\n\u001b[0;32m     62\u001b[0m   \u001b[39mif\u001b[39;00m name \u001b[39mis\u001b[39;00m \u001b[39mnot\u001b[39;00m \u001b[39mNone\u001b[39;00m:\n",
      "\u001b[1;31mKeyboardInterrupt\u001b[0m: "
     ]
    }
   ],
   "source": [
    "dfs = [df_bert[:500], df_roberta[:500], df_distilroberta[:500], df_albert[:500], df_distilbert[:500]]\n",
    "\n",
    "models = ['bert-base-uncased', 'roberta-base', 'distilroberta-base', 'albert-base-v2', 'distilbert-base-uncased']\n",
    "average_perplexities = [0.21, 0.19, 0.3, 0.66,  0.32]\n",
    "average_accuracies = [0.44, 0.5, 0.39, 0.09,  0.39]\n",
    "average_execution_times = [0.56, 0.6, 0.38, 0.48,  0.35]\n",
    "metrics = calculate_metrics(dfs, models, average_perplexities, average_accuracies, average_execution_times)\n"
   ]
  },
  {
   "cell_type": "code",
   "execution_count": null,
   "metadata": {},
   "outputs": [
    {
     "data": {
      "text/plain": [
       "{'bert-base-uncased': {'average_pll': 0.6826168912717894,\n",
       "  'average_perplexity': 0.21,\n",
       "  'average_accuracy': 0.44,\n",
       "  'average_execution_time': 0.56},\n",
       " 'roberta-base': {'average_pll': 0.6944965386848241,\n",
       "  'average_perplexity': 0.19,\n",
       "  'average_accuracy': 0.5,\n",
       "  'average_execution_time': 0.6},\n",
       " 'distilroberta-base': {'average_pll': 0.7099431217984299,\n",
       "  'average_perplexity': 0.66,\n",
       "  'average_accuracy': 0.09,\n",
       "  'average_execution_time': 0.48},\n",
       " 'albert-base-v2': {'average_pll': 0.7040764222036549,\n",
       "  'average_perplexity': 0.3,\n",
       "  'average_accuracy': 0.39,\n",
       "  'average_execution_time': 0.38},\n",
       " 'distilbert-base-uncased': {'average_pll': 0.6977765947815175,\n",
       "  'average_perplexity': 0.32,\n",
       "  'average_accuracy': 0.39,\n",
       "  'average_execution_time': 0.35}}"
      ]
     },
     "execution_count": 78,
     "metadata": {},
     "output_type": "execute_result"
    }
   ],
   "source": [
    "metrics"
   ]
  },
  {
   "cell_type": "code",
   "execution_count": null,
   "metadata": {},
   "outputs": [],
   "source": [
    "def plot_metrics(metrics):\n",
    "    n_metrics = len(next(iter(metrics.values())))\n",
    "    n_models = len(metrics)\n",
    "    x = np.arange(n_models) * 2\n",
    "    width = 0.8 / n_metrics\n",
    "    fig, ax = plt.subplots(figsize=(12, 8))\n",
    "    for i, (metric_name, metric_values) in enumerate(zip(next(iter(metrics.values())).keys(), zip(*[model_metrics.values() for model_metrics in metrics.values()]))):\n",
    "        bar_positions = x + i * width - 0.4\n",
    "        ax.bar(bar_positions, metric_values, width, label=metric_name)\n",
    "        for j, value in enumerate(metric_values):\n",
    "            ax.text(bar_positions[j], value, f'{value:.2f}', ha='center', va='bottom', fontsize=8)\n",
    "    ax.set_xticks(x)\n",
    "    ax.set_xticklabels(metrics.keys())\n",
    "    ax.legend()\n",
    "    plt.savefig('metrique MLM-500-correct.png')\n",
    "    plt.show()\n"
   ]
  },
  {
   "cell_type": "code",
   "execution_count": null,
   "metadata": {},
   "outputs": [],
   "source": [
    "model_names = {\n",
    "    'bert-base-uncased': 'BERT',\n",
    "    'roberta-base': 'RoBERTa',\n",
    "    'albert-base-v2': 'AlBERT',\n",
    "    'distilroberta-base': 'DistilRoBERTa',\n",
    "    'distilbert-base-uncased': 'DistilBERT'\n",
    "}\n",
    "\n",
    "normalized_metrics = {}\n",
    "for model, model_metrics in metrics.items():\n",
    "    normalized_model_metrics = {}\n",
    "    for metric_name, metric_value in model_metrics.items():\n",
    "        normalized_model_metrics[metric_name] = metric_value\n",
    "    normalized_metrics[model_names[model]] = normalized_model_metrics\n"
   ]
  },
  {
   "cell_type": "code",
   "execution_count": null,
   "metadata": {},
   "outputs": [
    {
     "data": {
      "text/plain": [
       "{'BERT': {'average_pll': 0.6826168912717894,\n",
       "  'average_perplexity': 0.21,\n",
       "  'average_accuracy': 0.44,\n",
       "  'average_execution_time': 0.56},\n",
       " 'RoBERTa': {'average_pll': 0.6944965386848241,\n",
       "  'average_perplexity': 0.19,\n",
       "  'average_accuracy': 0.5,\n",
       "  'average_execution_time': 0.6},\n",
       " 'DistilRoBERTa': {'average_pll': 0.7099431217984299,\n",
       "  'average_perplexity': 0.66,\n",
       "  'average_accuracy': 0.09,\n",
       "  'average_execution_time': 0.48},\n",
       " 'AlBERT': {'average_pll': 0.7040764222036549,\n",
       "  'average_perplexity': 0.3,\n",
       "  'average_accuracy': 0.39,\n",
       "  'average_execution_time': 0.38},\n",
       " 'DistilBERT': {'average_pll': 0.6977765947815175,\n",
       "  'average_perplexity': 0.32,\n",
       "  'average_accuracy': 0.39,\n",
       "  'average_execution_time': 0.35}}"
      ]
     },
     "execution_count": 81,
     "metadata": {},
     "output_type": "execute_result"
    }
   ],
   "source": [
    "normalized_metrics"
   ]
  },
  {
   "cell_type": "code",
   "execution_count": 84,
   "metadata": {},
   "outputs": [],
   "source": [
    "def swap_metrics(metrics): #had to make this bcz i inverted albert and distilrberta\n",
    "    new_metrics = metrics.copy()\n",
    "    albert_metrics = new_metrics['AlBERT']\n",
    "    distilroberta_metrics = new_metrics['DistilRoBERTa']\n",
    "    albert_metrics['average_perplexity'], distilroberta_metrics['average_perplexity'] = distilroberta_metrics['average_perplexity'], albert_metrics['average_perplexity']\n",
    "    albert_metrics['average_accuracy'], distilroberta_metrics['average_accuracy'] = distilroberta_metrics['average_accuracy'], albert_metrics['average_accuracy']\n",
    "    albert_metrics['average_execution_time'], distilroberta_metrics['average_execution_time'] = distilroberta_metrics['average_execution_time'], albert_metrics['average_execution_time']\n",
    "    return new_metrics\n"
   ]
  },
  {
   "cell_type": "code",
   "execution_count": 85,
   "metadata": {},
   "outputs": [],
   "source": [
    "swapped_metrics = swap_metrics(normalized_metrics)\n"
   ]
  },
  {
   "cell_type": "code",
   "execution_count": 87,
   "metadata": {},
   "outputs": [],
   "source": [
    "def invert_perplexity(metrics):\n",
    "    new_metrics = metrics.copy()\n",
    "    for model_metrics in new_metrics.values():\n",
    "        model_metrics['average_perplexity'] = 1 - model_metrics['average_perplexity']\n",
    "    return new_metrics\n"
   ]
  },
  {
   "cell_type": "code",
   "execution_count": 88,
   "metadata": {},
   "outputs": [],
   "source": [
    "inverted_metrics = invert_perplexity(normalized_metrics)\n"
   ]
  },
  {
   "cell_type": "code",
   "execution_count": 89,
   "metadata": {},
   "outputs": [
    {
     "data": {
      "image/png": "[encoded data removed]",
      "text/plain": [
       "<Figure size 1200x800 with 1 Axes>"
      ]
     },
     "metadata": {},
     "output_type": "display_data"
    }
   ],
   "source": [
    "plot_metrics(normalized_metrics)\n"
   ]
  },
  {
   "attachments": {},
   "cell_type": "markdown",
   "metadata": {},
   "source": [
    "## Visualisation"
   ]
  },
  {
   "attachments": {},
   "cell_type": "markdown",
   "metadata": {},
   "source": [
    "accuracy = [0.44, 0.5, 0.09, 0.39, 0.39]\n",
    "perplexity = [0.21, 0.19, 0.66, 0.3, 0.32]\n",
    "execution_time = [0.56, 0.6, 0.48, 0.38, 0.35]\n",
    "\n",
    "bins = [\"BERT\", \"RoBERTa\", \"ALBERT\", \"DistilRoBERTa\", \"DistilBERT\"]\n",
    "\n",
    "# Visualize the accuracy, perplexity and execution time of each model in a bar chart all in the same plot\n",
    "\n",
    "fig, ax = plt.subplots(1, 3, figsize=(20, 5))\n",
    "ax[0].bar(bins, accuracy)\n",
    "ax[0].set_title(\"Accuracy\")\n",
    "ax[1].bar(bins, perplexity)\n",
    "ax[1].set_title(\"Perplexity\")\n",
    "ax[2].bar(bins, execution_time)\n",
    "ax[2].set_title(\"Execution time (s)\")\n",
    "\n",
    "# add title\n",
    "fig.suptitle(\"Performance of the models on a test dataset\", fontsize=16)\n",
    "\n",
    "plt.show()"
   ]
  },
  {
   "attachments": {},
   "cell_type": "markdown",
   "metadata": {},
   "source": [
    "def remove_all(liste, value):\n",
    "    while value in liste:\n",
    "        liste.remove(value)\n",
    "    return liste\n",
    "\n",
    "def similarity(word, list_of_words):\n",
    "    # Initialize the lemmatizer\n",
    "    lemmatizer = WordNetLemmatizer()\n",
    "\n",
    "    # Get the synsets of the word\n",
    "    synsets_word = wn.synsets(lemmatizer.lemmatize(word))\n",
    "\n",
    "    # Calculate the similarity between the word and each word in the list\n",
    "    similarities = []\n",
    "    for w in list_of_words:\n",
    "        synsets_w = wn.synsets(lemmatizer.lemmatize(w))\n",
    "        max_sim = 0\n",
    "        for synset_word in synsets_word:\n",
    "            for synset_w in synsets_w:\n",
    "                sim = synset_word.path_similarity(synset_w)\n",
    "                if sim is not None and sim > max_sim:\n",
    "                    max_sim = sim\n",
    "        similarities.append(max_sim)\n",
    "\n",
    "    if word in list_of_words:\n",
    "        similarities.append(1)\n",
    "\n",
    "    # Print the list of similarities\n",
    "    return np.max(similarities)"
   ]
  }
 ],
 "metadata": {
  "kernelspec": {
   "display_name": "mybase",
   "language": "python",
   "name": "python3"
  },
  "language_info": {
   "codemirror_mode": {
    "name": "ipython",
    "version": 3
   },
   "file_extension": ".py",
   "mimetype": "text/x-python",
   "name": "python",
   "nbconvert_exporter": "python",
   "pygments_lexer": "ipython3",
   "version": "3.9.16"
  },
  "orig_nbformat": 4
 },
 "nbformat": 4,
 "nbformat_minor": 2
}
