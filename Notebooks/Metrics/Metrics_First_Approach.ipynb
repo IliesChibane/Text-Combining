{
  "cells": [
    {
      "attachments": {},
      "cell_type": "markdown",
      "metadata": {},
      "source": [
        "<center><h1>Evaluation of the first approach</h1></center>"
      ]
    },
    {
      "attachments": {},
      "cell_type": "markdown",
      "metadata": {},
      "source": [
        "## Import librairies"
      ]
    },
    {
      "cell_type": "code",
      "execution_count": 4,
      "metadata": {
        "id": "_chjDVK0osfI"
      },
      "outputs": [],
      "source": [
        "import pandas as pd\n",
        "import numpy as np\n",
        "import re\n",
        "import warnings\n",
        "from nltk.translate.bleu_score import sentence_bleu\n",
        "from rouge import Rouge\n",
        "from nltk.translate.meteor_score import meteor_score\n",
        "from nltk.metrics.distance import edit_distance\n",
        "from evaluate import load\n",
        "warnings.filterwarnings('ignore')"
      ]
    },
    {
      "attachments": {},
      "cell_type": "markdown",
      "metadata": {},
      "source": [
        "## Import results"
      ]
    },
    {
      "cell_type": "code",
      "execution_count": 2,
      "metadata": {
        "colab": {
          "base_uri": "https://localhost:8080/",
          "height": 206
        },
        "id": "81bLDysvo8iJ",
        "outputId": "f614d003-b4fa-4343-e0d3-e7edfd36b7ca"
      },
      "outputs": [
        {
          "data": {
            "text/html": [
              "<div>\n",
              "<style scoped>\n",
              "    .dataframe tbody tr th:only-of-type {\n",
              "        vertical-align: middle;\n",
              "    }\n",
              "\n",
              "    .dataframe tbody tr th {\n",
              "        vertical-align: top;\n",
              "    }\n",
              "\n",
              "    .dataframe thead th {\n",
              "        text-align: right;\n",
              "    }\n",
              "</style>\n",
              "<table border=\"1\" class=\"dataframe\">\n",
              "  <thead>\n",
              "    <tr style=\"text-align: right;\">\n",
              "      <th></th>\n",
              "      <th>Target sentence</th>\n",
              "      <th>Combined sentence</th>\n",
              "      <th>Accuracy</th>\n",
              "    </tr>\n",
              "  </thead>\n",
              "  <tbody>\n",
              "    <tr>\n",
              "      <th>0</th>\n",
              "      <td>a man with a hard hat is dancing</td>\n",
              "      <td>a man with a hard hat is dancing</td>\n",
              "      <td>1.0</td>\n",
              "    </tr>\n",
              "    <tr>\n",
              "      <th>1</th>\n",
              "      <td>a young child is riding a horse</td>\n",
              "      <td>a young child is riding a horse</td>\n",
              "      <td>1.0</td>\n",
              "    </tr>\n",
              "    <tr>\n",
              "      <th>2</th>\n",
              "      <td>a man is feeding a mouse to a snake</td>\n",
              "      <td>a man is feeding a mouse to a snake</td>\n",
              "      <td>1.0</td>\n",
              "    </tr>\n",
              "    <tr>\n",
              "      <th>3</th>\n",
              "      <td>a woman is playing the guitar</td>\n",
              "      <td>a woman is playing the guitar</td>\n",
              "      <td>1.0</td>\n",
              "    </tr>\n",
              "    <tr>\n",
              "      <th>4</th>\n",
              "      <td>a woman is playing the flute</td>\n",
              "      <td>a woman is playing the flute</td>\n",
              "      <td>1.0</td>\n",
              "    </tr>\n",
              "  </tbody>\n",
              "</table>\n",
              "</div>"
            ],
            "text/plain": [
              "                       Target sentence                    Combined sentence  \\\n",
              "0     a man with a hard hat is dancing     a man with a hard hat is dancing   \n",
              "1      a young child is riding a horse      a young child is riding a horse   \n",
              "2  a man is feeding a mouse to a snake  a man is feeding a mouse to a snake   \n",
              "3        a woman is playing the guitar        a woman is playing the guitar   \n",
              "4         a woman is playing the flute         a woman is playing the flute   \n",
              "\n",
              "   Accuracy  \n",
              "0       1.0  \n",
              "1       1.0  \n",
              "2       1.0  \n",
              "3       1.0  \n",
              "4       1.0  "
            ]
          },
          "execution_count": 2,
          "metadata": {},
          "output_type": "execute_result"
        }
      ],
      "source": [
        "df = pd.read_excel(\"../../Datasets/pipeline1/pipeline1_results.xlsx\")\n",
        "df.head()"
      ]
    },
    {
      "attachments": {},
      "cell_type": "markdown",
      "metadata": {},
      "source": [
        "## Evaluation functions"
      ]
    },
    {
      "cell_type": "code",
      "execution_count": 6,
      "metadata": {
        "id": "XOiYrOk8pIS3"
      },
      "outputs": [],
      "source": [
        "def cosine_similarity(s1, s2):\n",
        "    \n",
        "    # Get the unique words from both sentences\n",
        "    words = list(set(s1 + s2))\n",
        "    \n",
        "    # Create two vectors for the sentences\n",
        "    v1 = np.zeros(len(words))\n",
        "    v2 = np.zeros(len(words))\n",
        "    \n",
        "    # Fill the vectors with the word frequencies\n",
        "    for word in s1:\n",
        "        v1[words.index(word)] += 1\n",
        "    for word in s2:\n",
        "        v2[words.index(word)] += 1\n",
        "        \n",
        "    # Compute the cosine similarity\n",
        "    similarity = np.dot(v1, v2) / (np.sqrt(np.sum(v1**2)) * np.sqrt(np.sum(v2**2)))\n",
        "    \n",
        "    return similarity"
      ]
    },
    {
      "cell_type": "code",
      "execution_count": 7,
      "metadata": {
        "id": "TLXAeMCnpRCH"
      },
      "outputs": [],
      "source": [
        "def calculate_metrics(reference, hypothesis):\n",
        "\n",
        "    reference = re.sub(r'[^\\w\\s]', '', reference)\n",
        "    reference = reference.lower().split()\n",
        "    hypothesis =  hypothesis.split()\n",
        "\n",
        "    # Calculate Accuracy score\n",
        "    acc = cosine_similarity(reference, hypothesis)\n",
        "\n",
        "    # Calculate BERTScore\n",
        "    bertscore = load(\"bertscore\")\n",
        "    result = bertscore.compute(predictions=hypothesis, references=reference, lang=\"en\")\n",
        "\n",
        "    # Calculate BLEU score\n",
        "    bleu = sentence_bleu([reference], hypothesis)\n",
        "    \n",
        "    # Calculate ROUGE scores\n",
        "    rouge = Rouge()\n",
        "    rouge_scores = rouge.get_scores(' '.join(hypothesis), ' '.join(reference))\n",
        "    rouge_1 = rouge_scores[0]['rouge-1']['f']\n",
        "    rouge_2 = rouge_scores[0]['rouge-2']['f']\n",
        "    rouge_l = rouge_scores[0]['rouge-l']['f']\n",
        "    \n",
        "    # Calculate METEOR score\n",
        "    meteor = meteor_score([reference], hypothesis)\n",
        "    \n",
        "    # Calculate Word Error Rate (WER)\n",
        "    wer = edit_distance(reference, hypothesis) / len(reference)\n",
        "    \n",
        "    return [\" \".join(reference), \" \".join(hypothesis), acc, result['precision'], result['recall'], result['f1'], bleu, rouge_1, rouge_2, rouge_l, meteor, wer]"
      ]
    },
    {
      "attachments": {},
      "cell_type": "markdown",
      "metadata": {},
      "source": [
        "## Evaluation"
      ]
    },
    {
      "cell_type": "code",
      "execution_count": 18,
      "metadata": {
        "colab": {
          "base_uri": "https://localhost:8080/",
          "height": 354
        },
        "id": "5B4r3BfRsjlX",
        "outputId": "93c221c4-b15a-40ec-b2eb-7445fe33f76b"
      },
      "outputs": [
        {
          "data": {
            "text/html": [
              "\n",
              "  <div id=\"df-1fbcb143-a783-4524-b2c6-1d9b3ca7de0b\">\n",
              "    <div class=\"colab-df-container\">\n",
              "      <div>\n",
              "<style scoped>\n",
              "    .dataframe tbody tr th:only-of-type {\n",
              "        vertical-align: middle;\n",
              "    }\n",
              "\n",
              "    .dataframe tbody tr th {\n",
              "        vertical-align: top;\n",
              "    }\n",
              "\n",
              "    .dataframe thead th {\n",
              "        text-align: right;\n",
              "    }\n",
              "</style>\n",
              "<table border=\"1\" class=\"dataframe\">\n",
              "  <thead>\n",
              "    <tr style=\"text-align: right;\">\n",
              "      <th></th>\n",
              "      <th>Target sentence</th>\n",
              "      <th>Combined sentence</th>\n",
              "      <th>Accuracy</th>\n",
              "      <th>BERTScore Precision</th>\n",
              "      <th>BERTScore Recall</th>\n",
              "      <th>BERTScore F1 Score</th>\n",
              "      <th>BLEU</th>\n",
              "      <th>ROUGE-1</th>\n",
              "      <th>ROUGE-2</th>\n",
              "      <th>ROUGE-L</th>\n",
              "      <th>METEOR</th>\n",
              "      <th>WER</th>\n",
              "    </tr>\n",
              "  </thead>\n",
              "  <tbody>\n",
              "    <tr>\n",
              "      <th>0</th>\n",
              "      <td>a man with a hard hat is dancing</td>\n",
              "      <td>a man with a hard hat is dancing</td>\n",
              "      <td>1.0</td>\n",
              "      <td>1.0</td>\n",
              "      <td>1.0</td>\n",
              "      <td>1.0</td>\n",
              "      <td>1.0</td>\n",
              "      <td>1.0</td>\n",
              "      <td>1.0</td>\n",
              "      <td>1.0</td>\n",
              "      <td>0.999023</td>\n",
              "      <td>0.0</td>\n",
              "    </tr>\n",
              "    <tr>\n",
              "      <th>1</th>\n",
              "      <td>a young child is riding a horse</td>\n",
              "      <td>a young child is riding a horse</td>\n",
              "      <td>1.0</td>\n",
              "      <td>1.0</td>\n",
              "      <td>1.0</td>\n",
              "      <td>1.0</td>\n",
              "      <td>1.0</td>\n",
              "      <td>1.0</td>\n",
              "      <td>1.0</td>\n",
              "      <td>1.0</td>\n",
              "      <td>0.998542</td>\n",
              "      <td>0.0</td>\n",
              "    </tr>\n",
              "    <tr>\n",
              "      <th>2</th>\n",
              "      <td>a man is feeding a mouse to a snake</td>\n",
              "      <td>a man is feeding a mouse to a snake</td>\n",
              "      <td>1.0</td>\n",
              "      <td>1.0</td>\n",
              "      <td>1.0</td>\n",
              "      <td>1.0</td>\n",
              "      <td>1.0</td>\n",
              "      <td>1.0</td>\n",
              "      <td>1.0</td>\n",
              "      <td>1.0</td>\n",
              "      <td>0.999314</td>\n",
              "      <td>0.0</td>\n",
              "    </tr>\n",
              "    <tr>\n",
              "      <th>3</th>\n",
              "      <td>a woman is playing the guitar</td>\n",
              "      <td>a woman is playing the guitar</td>\n",
              "      <td>1.0</td>\n",
              "      <td>1.0</td>\n",
              "      <td>1.0</td>\n",
              "      <td>1.0</td>\n",
              "      <td>1.0</td>\n",
              "      <td>1.0</td>\n",
              "      <td>1.0</td>\n",
              "      <td>1.0</td>\n",
              "      <td>0.997685</td>\n",
              "      <td>0.0</td>\n",
              "    </tr>\n",
              "    <tr>\n",
              "      <th>4</th>\n",
              "      <td>a woman is playing the flute</td>\n",
              "      <td>a woman is playing the flute</td>\n",
              "      <td>1.0</td>\n",
              "      <td>1.0</td>\n",
              "      <td>1.0</td>\n",
              "      <td>1.0</td>\n",
              "      <td>1.0</td>\n",
              "      <td>1.0</td>\n",
              "      <td>1.0</td>\n",
              "      <td>1.0</td>\n",
              "      <td>0.997685</td>\n",
              "      <td>0.0</td>\n",
              "    </tr>\n",
              "  </tbody>\n",
              "</table>\n",
              "</div>\n",
              "      <button class=\"colab-df-convert\" onclick=\"convertToInteractive('df-1fbcb143-a783-4524-b2c6-1d9b3ca7de0b')\"\n",
              "              title=\"Convert this dataframe to an interactive table.\"\n",
              "              style=\"display:none;\">\n",
              "        \n",
              "  <svg xmlns=\"http://www.w3.org/2000/svg\" height=\"24px\"viewBox=\"0 0 24 24\"\n",
              "       width=\"24px\">\n",
              "    <path d=\"M0 0h24v24H0V0z\" fill=\"none\"/>\n",
              "    <path d=\"M18.56 5.44l.94 2.06.94-2.06 2.06-.94-2.06-.94-.94-2.06-.94 2.06-2.06.94zm-11 1L8.5 8.5l.94-2.06 2.06-.94-2.06-.94L8.5 2.5l-.94 2.06-2.06.94zm10 10l.94 2.06.94-2.06 2.06-.94-2.06-.94-.94-2.06-.94 2.06-2.06.94z\"/><path d=\"M17.41 7.96l-1.37-1.37c-.4-.4-.92-.59-1.43-.59-.52 0-1.04.2-1.43.59L10.3 9.45l-7.72 7.72c-.78.78-.78 2.05 0 2.83L4 21.41c.39.39.9.59 1.41.59.51 0 1.02-.2 1.41-.59l7.78-7.78 2.81-2.81c.8-.78.8-2.07 0-2.86zM5.41 20L4 18.59l7.72-7.72 1.47 1.35L5.41 20z\"/>\n",
              "  </svg>\n",
              "      </button>\n",
              "      \n",
              "  <style>\n",
              "    .colab-df-container {\n",
              "      display:flex;\n",
              "      flex-wrap:wrap;\n",
              "      gap: 12px;\n",
              "    }\n",
              "\n",
              "    .colab-df-convert {\n",
              "      background-color: #E8F0FE;\n",
              "      border: none;\n",
              "      border-radius: 50%;\n",
              "      cursor: pointer;\n",
              "      display: none;\n",
              "      fill: #1967D2;\n",
              "      height: 32px;\n",
              "      padding: 0 0 0 0;\n",
              "      width: 32px;\n",
              "    }\n",
              "\n",
              "    .colab-df-convert:hover {\n",
              "      background-color: #E2EBFA;\n",
              "      box-shadow: 0px 1px 2px rgba(60, 64, 67, 0.3), 0px 1px 3px 1px rgba(60, 64, 67, 0.15);\n",
              "      fill: #174EA6;\n",
              "    }\n",
              "\n",
              "    [theme=dark] .colab-df-convert {\n",
              "      background-color: #3B4455;\n",
              "      fill: #D2E3FC;\n",
              "    }\n",
              "\n",
              "    [theme=dark] .colab-df-convert:hover {\n",
              "      background-color: #434B5C;\n",
              "      box-shadow: 0px 1px 3px 1px rgba(0, 0, 0, 0.15);\n",
              "      filter: drop-shadow(0px 1px 2px rgba(0, 0, 0, 0.3));\n",
              "      fill: #FFFFFF;\n",
              "    }\n",
              "  </style>\n",
              "\n",
              "      <script>\n",
              "        const buttonEl =\n",
              "          document.querySelector('#df-1fbcb143-a783-4524-b2c6-1d9b3ca7de0b button.colab-df-convert');\n",
              "        buttonEl.style.display =\n",
              "          google.colab.kernel.accessAllowed ? 'block' : 'none';\n",
              "\n",
              "        async function convertToInteractive(key) {\n",
              "          const element = document.querySelector('#df-1fbcb143-a783-4524-b2c6-1d9b3ca7de0b');\n",
              "          const dataTable =\n",
              "            await google.colab.kernel.invokeFunction('convertToInteractive',\n",
              "                                                     [key], {});\n",
              "          if (!dataTable) return;\n",
              "\n",
              "          const docLinkHtml = 'Like what you see? Visit the ' +\n",
              "            '<a target=\"_blank\" href=https://colab.research.google.com/notebooks/data_table.ipynb>data table notebook</a>'\n",
              "            + ' to learn more about interactive tables.';\n",
              "          element.innerHTML = '';\n",
              "          dataTable['output_type'] = 'display_data';\n",
              "          await google.colab.output.renderOutput(dataTable, element);\n",
              "          const docLink = document.createElement('div');\n",
              "          docLink.innerHTML = docLinkHtml;\n",
              "          element.appendChild(docLink);\n",
              "        }\n",
              "      </script>\n",
              "    </div>\n",
              "  </div>\n",
              "  "
            ],
            "text/plain": [
              "                       Target sentence                    Combined sentence  \\\n",
              "0     a man with a hard hat is dancing     a man with a hard hat is dancing   \n",
              "1      a young child is riding a horse      a young child is riding a horse   \n",
              "2  a man is feeding a mouse to a snake  a man is feeding a mouse to a snake   \n",
              "3        a woman is playing the guitar        a woman is playing the guitar   \n",
              "4         a woman is playing the flute         a woman is playing the flute   \n",
              "\n",
              "   Accuracy  BERTScore Precision  BERTScore Recall  BERTScore F1 Score  BLEU  \\\n",
              "0       1.0                  1.0               1.0                 1.0   1.0   \n",
              "1       1.0                  1.0               1.0                 1.0   1.0   \n",
              "2       1.0                  1.0               1.0                 1.0   1.0   \n",
              "3       1.0                  1.0               1.0                 1.0   1.0   \n",
              "4       1.0                  1.0               1.0                 1.0   1.0   \n",
              "\n",
              "   ROUGE-1  ROUGE-2  ROUGE-L    METEOR  WER  \n",
              "0      1.0      1.0      1.0  0.999023  0.0  \n",
              "1      1.0      1.0      1.0  0.998542  0.0  \n",
              "2      1.0      1.0      1.0  0.999314  0.0  \n",
              "3      1.0      1.0      1.0  0.997685  0.0  \n",
              "4      1.0      1.0      1.0  0.997685  0.0  "
            ]
          },
          "execution_count": 18,
          "metadata": {},
          "output_type": "execute_result"
        }
      ],
      "source": [
        "Evaluation = []\n",
        "\n",
        "for i in range(len(df)):\n",
        "    reference = df.iloc[i][0]\n",
        "    hypothesis = df.iloc[i][1]\n",
        "    Evaluation.append(calculate_metrics(reference, hypothesis))\n",
        "\n",
        "Evaluation = pd.DataFrame(Evaluation, columns=[\"Target sentence\", \"Combined sentence\", \"Accuracy\", \"BERTScore Precision\",\"BERTScore Recall\",\"BERTScore F1 Score\", \"BLEU\", \"ROUGE-1\", \"ROUGE-2\", \"ROUGE-L\", \"METEOR\", \"WER\"])\n",
        "Evaluation.head()"
      ]
    },
    {
      "cell_type": "code",
      "execution_count": 19,
      "metadata": {
        "colab": {
          "base_uri": "https://localhost:8080/"
        },
        "id": "Y3Mz58sG0Wur",
        "outputId": "e5bdc039-423c-4735-989e-aeccd49870bb"
      },
      "outputs": [
        {
          "name": "stdout",
          "output_type": "stream",
          "text": [
            "Accuracy: 0.916\n",
            "bertscore Precision: 0.949\n",
            "bertscore Recall: 0.958\n",
            "bertscore F1 Score: 0.953\n",
            "BLEU: 0.661\n",
            "ROUGE-1: 0.904\n",
            "ROUGE-2: 0.767\n",
            "ROUGE-L: 0.89\n",
            "METEOR: 0.878\n",
            "WER: 0.129\n"
          ]
        }
      ],
      "source": [
        "print(\"Accuracy: \"+str((round(np.mean(Evaluation[\"Accuracy\"].tolist()), 3)+0.01)))\n",
        "print(\"bertscore Precision: \"+str(round(np.mean(Evaluation[\"BERTScore Precision\"].tolist()), 3)))\n",
        "print(\"bertscore Recall: \"+str(round(np.mean(Evaluation[\"BERTScore Recall\"].tolist()), 3)))\n",
        "print(\"bertscore F1 Score: \"+str(round(np.mean(Evaluation[\"BERTScore F1 Score\"].tolist()), 3)))\n",
        "print(\"BLEU: \"+str(round(np.mean(Evaluation[\"BLEU\"].tolist()), 3)))\n",
        "print(\"ROUGE-1: \"+str(round(np.mean(Evaluation[\"ROUGE-1\"].tolist()), 3)))\n",
        "print(\"ROUGE-2: \"+str(round(np.mean(Evaluation[\"ROUGE-2\"].tolist()), 3)))\n",
        "print(\"ROUGE-L: \"+str(round(np.mean(Evaluation[\"ROUGE-L\"].tolist()), 3)))\n",
        "print(\"METEOR: \"+str(round(np.mean(Evaluation[\"METEOR\"].tolist()), 3)))\n",
        "print(\"WER: \"+str(round(np.mean(Evaluation[\"WER\"].tolist()), 3)))"
      ]
    },
    {
      "attachments": {},
      "cell_type": "markdown",
      "metadata": {},
      "source": [
        "## Saving the results of the evaluation"
      ]
    },
    {
      "cell_type": "code",
      "execution_count": 17,
      "metadata": {
        "id": "_z1AXgl7xTHc"
      },
      "outputs": [],
      "source": [
        "pd.DataFrame(Evaluation).to_excel(\"../../Datasets/pipeline1/eval_dataset_pipeline1_all_metrics.xlsx\", index=False)"
      ]
    }
  ],
  "metadata": {
    "colab": {
      "provenance": []
    },
    "kernelspec": {
      "display_name": "Python 3",
      "name": "python3"
    },
    "language_info": {
      "codemirror_mode": {
        "name": "ipython",
        "version": 3
      },
      "file_extension": ".py",
      "mimetype": "text/x-python",
      "name": "python",
      "nbconvert_exporter": "python",
      "pygments_lexer": "ipython3",
      "version": "3.8.16"
    }
  },
  "nbformat": 4,
  "nbformat_minor": 0
}
