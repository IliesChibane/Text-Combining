{
 "cells": [
  {
   "cell_type": "code",
   "execution_count": 2,
   "metadata": {},
   "outputs": [],
   "source": [
    "# imports \n",
    "import pandas as pd\n",
    "import nltk\n",
    "import tensorflow as tf\n",
    "import numpy as np \n",
    "\n",
    "# my files imports \n",
    "from utility.get_data import download_and_load_sts_data\n"
   ]
  },
  {
   "cell_type": "code",
   "execution_count": 3,
   "metadata": {},
   "outputs": [
    {
     "data": {
      "text/html": [
       "<div>\n",
       "<style scoped>\n",
       "    .dataframe tbody tr th:only-of-type {\n",
       "        vertical-align: middle;\n",
       "    }\n",
       "\n",
       "    .dataframe tbody tr th {\n",
       "        vertical-align: top;\n",
       "    }\n",
       "\n",
       "    .dataframe thead th {\n",
       "        text-align: right;\n",
       "    }\n",
       "</style>\n",
       "<table border=\"1\" class=\"dataframe\">\n",
       "  <thead>\n",
       "    <tr style=\"text-align: right;\">\n",
       "      <th></th>\n",
       "      <th>sent_1</th>\n",
       "      <th>sent_2</th>\n",
       "      <th>sim</th>\n",
       "    </tr>\n",
       "  </thead>\n",
       "  <tbody>\n",
       "    <tr>\n",
       "      <th>0</th>\n",
       "      <td>A girl is styling her hair.</td>\n",
       "      <td>A girl is brushing her hair.</td>\n",
       "      <td>2.5</td>\n",
       "    </tr>\n",
       "    <tr>\n",
       "      <th>1</th>\n",
       "      <td>A group of men play soccer on the beach.</td>\n",
       "      <td>A group of boys are playing soccer on the beach.</td>\n",
       "      <td>3.6</td>\n",
       "    </tr>\n",
       "    <tr>\n",
       "      <th>2</th>\n",
       "      <td>One woman is measuring another woman's ankle.</td>\n",
       "      <td>A woman measures another woman's ankle.</td>\n",
       "      <td>5.0</td>\n",
       "    </tr>\n",
       "    <tr>\n",
       "      <th>3</th>\n",
       "      <td>A man is cutting up a cucumber.</td>\n",
       "      <td>A man is slicing a cucumber.</td>\n",
       "      <td>4.2</td>\n",
       "    </tr>\n",
       "    <tr>\n",
       "      <th>4</th>\n",
       "      <td>A man is playing a harp.</td>\n",
       "      <td>A man is playing a keyboard.</td>\n",
       "      <td>1.5</td>\n",
       "    </tr>\n",
       "  </tbody>\n",
       "</table>\n",
       "</div>"
      ],
      "text/plain": [
       "                                          sent_1  \\\n",
       "0                    A girl is styling her hair.   \n",
       "1       A group of men play soccer on the beach.   \n",
       "2  One woman is measuring another woman's ankle.   \n",
       "3                A man is cutting up a cucumber.   \n",
       "4                       A man is playing a harp.   \n",
       "\n",
       "                                             sent_2  sim  \n",
       "0                      A girl is brushing her hair.  2.5  \n",
       "1  A group of boys are playing soccer on the beach.  3.6  \n",
       "2           A woman measures another woman's ankle.  5.0  \n",
       "3                      A man is slicing a cucumber.  4.2  \n",
       "4                      A man is playing a keyboard.  1.5  "
      ]
     },
     "execution_count": 3,
     "metadata": {},
     "output_type": "execute_result"
    }
   ],
   "source": [
    "\n",
    "sts_dev, sts_test = download_and_load_sts_data()\n",
    "sts_test.head()"
   ]
  },
  {
   "cell_type": "code",
   "execution_count": 5,
   "metadata": {},
   "outputs": [],
   "source": [
    "# I organize my data noww\n",
    "\n",
    "from sklearn.model_selection import KFold\n",
    "X = sts_dev[['sent_1','sent_1']]\n",
    "X1 = sts_dev['sent_1']\n",
    "X2 = sts_dev['sent_2']\n",
    "y = sts_dev['sim']\n",
    "\n",
    "\n",
    "X1test = sts_test['sent_1']\n",
    "X2test = sts_test['sent_2']\n",
    "ytest = sts_test['sim']\n",
    "\n",
    "kf = KFold(n_splits=10, shuffle=True)\n",
    "for train_index, val_index in kf.split(X):\n",
    "    X1_train, X1_val = X1.iloc[train_index], X1.iloc[val_index]\n",
    "    X2_train, X2_val = X2.iloc[train_index], X2.iloc[val_index]\n",
    "\n",
    "    y_train, y_val = y.iloc[train_index], y.iloc[val_index]"
   ]
  },
  {
   "cell_type": "code",
   "execution_count": 6,
   "metadata": {},
   "outputs": [],
   "source": [
    "import re\n",
    "from nltk.corpus import stopwords\n",
    "\n",
    "import string\n",
    "\n",
    "def remove_punctuation(text):\n",
    "    new_text = ''.join(c for c in text if c not in string.punctuation)\n",
    "    return new_text\n",
    "def clean_text(text):\n",
    "    ''' Pre process and convert texts to a list of words '''\n",
    "    text = str(text)\n",
    "    text = text.lower()\n",
    "    \n",
    "    remove_digits = str.maketrans('', '', '0123456789')\n",
    "    text = text.translate(remove_digits)\n",
    "    \n",
    "    # Clean the text\n",
    "    text = re.sub(r\"[^A-Za-z0-9^,!.\\/'+-=]\", \" \", text)\n",
    "    text = re.sub(r\"what's\", \"what is \", text)\n",
    "    text = re.sub(r\"\\'s\", \" \", text)\n",
    "    text = re.sub(r\"\\'ve\", \" have \", text)\n",
    "    text = re.sub(r\"can't\", \"cannot \", text)\n",
    "    text = re.sub(r\"n't\", \" not \", text)\n",
    "    text = re.sub(r\"i'm\", \"i am \", text)\n",
    "    text = re.sub(r\"\\'re\", \" are \", text)\n",
    "    text = re.sub(r\"\\'d\", \" would \", text)\n",
    "    text = re.sub(r\"\\'ll\", \" will \", text)\n",
    "    text = re.sub(r\",\", \" \", text)\n",
    "    text = re.sub(r\"\\.\", \" \", text)\n",
    "    text = re.sub(r\"!\", \" ! \", text)\n",
    "    text = re.sub(r\"\\/\", \" \", text)\n",
    "    text = re.sub(r\"\\^\", \" ^ \", text)\n",
    "    text = re.sub(r\"\\+\", \" + \", text)\n",
    "    text = re.sub(r\"\\-\", \" - \", text)\n",
    "    text = re.sub(r\"\\=\", \" = \", text)\n",
    "    text = re.sub(r\"'\", \" \", text)\n",
    "    text = re.sub(r\"(\\d+)(k)\", r\"\\g<1>000\", text)\n",
    "    text = re.sub(r\":\", \" : \", text)\n",
    "    text = re.sub(r\" e g \", \" eg \", text)\n",
    "    text = re.sub(r\" b g \", \" bg \", text)\n",
    "    text = re.sub(r\" u s \", \" american \", text)\n",
    "    text = re.sub(r\"\\0s\", \"0\", text)\n",
    "    text = re.sub(r\" 9 11 \", \"911\", text)\n",
    "    text = re.sub(r\"e - mail\", \"email\", text)\n",
    "    text = re.sub(r\"j k\", \"jk\", text)\n",
    "    text = re.sub(r\"\\s{2,}\", \" \", text)\n",
    "    return text\n",
    "def remove_stopwords(text):\n",
    "    # Tokenize the text into words\n",
    "    words = nltk.word_tokenize(text)\n",
    "    # Get the list of English stop words\n",
    "    stop_words = set(stopwords.words('english'))\n",
    "    # Remove the stop words from the list of words\n",
    "    filtered_words = [word for word in words if word.lower() not in stop_words]\n",
    "    # Join the filtered words back into a single string\n",
    "    return ' '.join(filtered_words)"
   ]
  },
  {
   "cell_type": "code",
   "execution_count": 5,
   "metadata": {},
   "outputs": [],
   "source": [
    "X1_train = X1_train.apply(lambda x: remove_stopwords(remove_punctuation(clean_text(x))))\n",
    "X2_train = X2_train.apply(lambda x: remove_stopwords(remove_punctuation(clean_text(x))))\n",
    "X1test= X1test.apply(lambda x: remove_stopwords(remove_punctuation(clean_text(x))))\n",
    "X2test = X2test.apply(lambda x: remove_stopwords(remove_punctuation(clean_text(x))))"
   ]
  },
  {
   "cell_type": "code",
   "execution_count": 6,
   "metadata": {},
   "outputs": [],
   "source": [
    "# Ww load the model onceeee\n",
    "from sentence_transformers import SentenceTransformer\n",
    "model = SentenceTransformer('distilbert-base-nli-mean-tokens')\n",
    "def get_sentence_embeddings(data, model = model):\n",
    "    embeddings = model.encode(data)\n",
    "    return embeddings"
   ]
  },
  {
   "cell_type": "code",
   "execution_count": 7,
   "metadata": {},
   "outputs": [],
   "source": [
    "X1_train.reset_index(drop=True, inplace=True)\n",
    "X2_train.reset_index(drop=True, inplace=True)\n",
    "y.reset_index(drop=True, inplace=True)\n",
    "X1_val.reset_index(drop=True, inplace=True)\n",
    "X2_val.reset_index(drop=True, inplace=True)\n",
    "y_val.reset_index(drop=True, inplace=True)\n",
    "X1test.reset_index(drop=True, inplace=True)\n",
    "X2test.reset_index(drop=True, inplace=True)\n",
    "ytest.reset_index(drop=True, inplace=True)"
   ]
  },
  {
   "cell_type": "code",
   "execution_count": 8,
   "metadata": {},
   "outputs": [],
   "source": [
    "embedding1 = get_sentence_embeddings(X1_train)\n",
    "embedding2 = get_sentence_embeddings(X2_train)\n"
   ]
  },
  {
   "cell_type": "code",
   "execution_count": 9,
   "metadata": {},
   "outputs": [],
   "source": [
    "embedding1val = get_sentence_embeddings(X1_val)\n",
    "embedding2val = get_sentence_embeddings(X2_val)\n"
   ]
  },
  {
   "cell_type": "code",
   "execution_count": 10,
   "metadata": {},
   "outputs": [],
   "source": [
    "embedding1test = get_sentence_embeddings(X1test)\n",
    "embedding2test = get_sentence_embeddings(X2test)"
   ]
  },
  {
   "cell_type": "code",
   "execution_count": 11,
   "metadata": {},
   "outputs": [
    {
     "data": {
      "text/plain": [
       "(1350, 768)"
      ]
     },
     "execution_count": 11,
     "metadata": {},
     "output_type": "execute_result"
    }
   ],
   "source": [
    "embedding1.shape"
   ]
  },
  {
   "cell_type": "code",
   "execution_count": 12,
   "metadata": {},
   "outputs": [],
   "source": [
    "# We need to reshape our embeddings to 3D to put them in lstm shape will be (None = Batch size, timesteps = nb units = max-seq-len, input-dim = embedding_size)\n",
    "embedding1 = embedding1.reshape((embedding1.shape[0], 1, -1)) \n",
    "embedding2 = embedding2.reshape((embedding2.shape[0], 1, -1)) \n",
    "embedding1val = embedding1val.reshape((embedding1val.shape[0], 1, -1)) \n",
    "embedding2val = embedding2val.reshape((embedding2val.shape[0], 1, -1)) \n",
    "embedding1test = embedding1test.reshape((embedding1test.shape[0], 1, -1)) \n",
    "embedding2test = embedding2test.reshape((embedding2test.shape[0], 1, -1)) "
   ]
  },
  {
   "cell_type": "code",
   "execution_count": 13,
   "metadata": {},
   "outputs": [
    {
     "data": {
      "text/plain": [
       "(1350, 1, 768)"
      ]
     },
     "execution_count": 13,
     "metadata": {},
     "output_type": "execute_result"
    }
   ],
   "source": [
    "embedding1.shape"
   ]
  },
  {
   "cell_type": "code",
   "execution_count": 1,
   "metadata": {},
   "outputs": [],
   "source": [
    "#defining some params en pus des optimizers\n",
    "hidden_units= 128\n",
    "num_epochs= 500\n",
    "batch_size = 32\n",
    "embedding_dim = 768 \n",
    "learning_rate = 3e-3\n",
    "\n",
    "# Now i prepare optimizers with a clip to avoid exploading gradients \n",
    "from tensorflow.keras.optimizers import Adadelta, SGD, RMSprop, Adagrad, Adam, Adamax, Nadam\n",
    "\n",
    "gradient_clipping_norm = 1.25\n",
    "\n",
    "adadelta = Adadelta(clipnorm=gradient_clipping_norm, learning_rate=learning_rate)\n",
    "sgd = SGD(clipnorm=gradient_clipping_norm, learning_rate=learning_rate)\n",
    "rmsprop = RMSprop(clipnorm=gradient_clipping_norm, learning_rate = learning_rate)\n",
    "adagrad = Adagrad(clipnorm=gradient_clipping_norm, learning_rate=learning_rate)\n",
    "adam = Adam(clipnorm=gradient_clipping_norm, learning_rate=learning_rate)\n",
    "adamax = Adamax(clipnorm=gradient_clipping_norm, learning_rate=learning_rate)\n",
    "nadam = Nadam(clipnorm=gradient_clipping_norm, learning_rate=learning_rate)"
   ]
  },
  {
   "cell_type": "code",
   "execution_count": 2,
   "metadata": {},
   "outputs": [],
   "source": [
    "import tensorflow as tf\n",
    "from tensorflow.keras.layers import Input, LSTM, GRU, Flatten,GlobalAveragePooling1D, Dense, Bidirectional, Dropout, BatchNormalization, GlobalMaxPooling1D\n",
    "from tensorflow.keras.regularizers import l1_l2\n",
    "from tensorflow.keras import backend as K\n",
    "\n",
    "\n",
    "def contrastive_loss(y_true, y_pred, margin=1):\n",
    "    square_pred = K.square(y_pred)\n",
    "    margin_square = K.square(K.maximum(margin - y_pred, 0))\n",
    "    return K.mean(y_true * square_pred + (1 - y_true) * margin_square)\n",
    "    \n",
    "class Base(tf.keras.Model):\n",
    "    \n",
    "    def __init__(\n",
    "        self,\n",
    "        embedding_size,\n",
    "        hidden_units,\n",
    "        optimizer,\n",
    "        dropout_rate=0.3,\n",
    "        l1_reg=0.0,\n",
    "        l2_reg=0.0,\n",
    "    ):\n",
    "        super(Base, self).__init__()\n",
    "\n",
    "        self.embedding_size = embedding_size\n",
    "        self.hidden_units = hidden_units\n",
    "        self.dropout_rate = dropout_rate\n",
    "        self.reg = l1_l2(l1=l1_reg, l2=l2_reg)\n",
    "\n",
    "        self.input_x1 = Input(shape=(None, self.embedding_size), name=\"input_x1\")\n",
    "        self.input_x2 = Input(shape=(None, self.embedding_size), name=\"input_x2\")\n",
    "\n",
    "        # create two LSTM layers, one for each input\n",
    "        self.lstm_1 = Bidirectional(LSTM(self.hidden_units, activation = 'relu',kernel_regularizer=self.reg))(self.input_x1)\n",
    "        self.lstm_2 = Bidirectional(LSTM(self.hidden_units, activation = 'relu',kernel_regularizer=self.reg))(self.input_x2)\n",
    "\n",
    "        # add dropout layer\n",
    "        self.dropout_1 = Dropout(self.dropout_rate)(self.lstm_1)\n",
    "        self.dropout_2 = Dropout(self.dropout_rate)(self.lstm_2)\n",
    "\n",
    "\n",
    "        # cal the distance\n",
    "        self.x1_norm = tf.math.l2_normalize(self.dropout_1, axis=1)\n",
    "        self.x2_norm = tf.math.l2_normalize(self.dropout_2, axis=1)\n",
    "        self.cosine_distance = tf.math.reduce_sum(tf.math.multiply(self.x1_norm, self.x2_norm), axis=1)\n",
    "        self.cosine_distance = tf.reshape(self.cosine_distance, (-1, 1))\n",
    "\n",
    "        # add a Dense layer\n",
    "        self.outt = Dense(1, activation='sigmoid')(self.cosine_distance)\n",
    "\n",
    "        # multiply the output by 5 to get similarity score from 0 to 5\n",
    "        self.similarity = tf.math.multiply(self.outt, 5)\n",
    "\n",
    "        # Definition of the model and compile it\n",
    "        self.model = tf.keras.models.Model(inputs=[self.input_x1, self.input_x2], outputs=[self.similarity])\n",
    "        self.optimizer = optimizer\n",
    "        self.model.compile(loss='mse', optimizer=optimizer)\n"
   ]
  },
  {
   "cell_type": "code",
   "execution_count": 3,
   "metadata": {},
   "outputs": [
    {
     "name": "stdout",
     "output_type": "stream",
     "text": [
      "WARNING:tensorflow:Layer lstm will not use cuDNN kernels since it doesn't meet the criteria. It will use a generic GPU kernel as fallback when running on GPU.\n",
      "WARNING:tensorflow:Layer lstm will not use cuDNN kernels since it doesn't meet the criteria. It will use a generic GPU kernel as fallback when running on GPU.\n",
      "WARNING:tensorflow:Layer lstm will not use cuDNN kernels since it doesn't meet the criteria. It will use a generic GPU kernel as fallback when running on GPU.\n",
      "WARNING:tensorflow:Layer lstm_1 will not use cuDNN kernels since it doesn't meet the criteria. It will use a generic GPU kernel as fallback when running on GPU.\n",
      "WARNING:tensorflow:Layer lstm_1 will not use cuDNN kernels since it doesn't meet the criteria. It will use a generic GPU kernel as fallback when running on GPU.\n",
      "WARNING:tensorflow:Layer lstm_1 will not use cuDNN kernels since it doesn't meet the criteria. It will use a generic GPU kernel as fallback when running on GPU.\n"
     ]
    }
   ],
   "source": [
    "baseModel = Base(embedding_size = embedding_dim, hidden_units = hidden_units, optimizer=rmsprop)"
   ]
  },
  {
   "cell_type": "code",
   "execution_count": 27,
   "metadata": {},
   "outputs": [
    {
     "data": {
      "text/plain": [
       "numpy.float32"
      ]
     },
     "execution_count": 27,
     "metadata": {},
     "output_type": "execute_result"
    }
   ],
   "source": [
    "type(embedding1val[0][0][0])"
   ]
  },
  {
   "cell_type": "code",
   "execution_count": 28,
   "metadata": {},
   "outputs": [
    {
     "name": "stdout",
     "output_type": "stream",
     "text": [
      "Epoch 1/500\n",
      "43/43 [==============================] - 5s 37ms/step - loss: 2.1921 - val_loss: 1.8977\n",
      "Epoch 2/500\n",
      "43/43 [==============================] - 1s 13ms/step - loss: 1.9483 - val_loss: 1.7393\n",
      "Epoch 3/500\n",
      "43/43 [==============================] - 1s 14ms/step - loss: 1.8026 - val_loss: 1.8364\n",
      "Epoch 4/500\n",
      "43/43 [==============================] - 1s 14ms/step - loss: 1.6991 - val_loss: 1.6780\n",
      "Epoch 5/500\n",
      "43/43 [==============================] - 1s 14ms/step - loss: 1.6006 - val_loss: 1.6787\n",
      "Epoch 6/500\n",
      "43/43 [==============================] - 1s 14ms/step - loss: 1.4826 - val_loss: 1.8146\n",
      "Epoch 7/500\n",
      "43/43 [==============================] - 1s 14ms/step - loss: 1.3971 - val_loss: 1.7071\n",
      "Epoch 8/500\n",
      "43/43 [==============================] - 1s 14ms/step - loss: 1.3052 - val_loss: 1.6739\n",
      "Epoch 9/500\n",
      "43/43 [==============================] - 1s 14ms/step - loss: 1.2399 - val_loss: 1.7178\n",
      "Epoch 10/500\n",
      "43/43 [==============================] - 1s 13ms/step - loss: 1.1305 - val_loss: 1.7213\n",
      "Epoch 11/500\n",
      "43/43 [==============================] - 1s 14ms/step - loss: 1.0929 - val_loss: 1.6776\n",
      "Epoch 12/500\n",
      "43/43 [==============================] - 1s 12ms/step - loss: 1.0108 - val_loss: 1.6913\n",
      "Epoch 13/500\n",
      "43/43 [==============================] - 1s 12ms/step - loss: 0.9688 - val_loss: 1.7914\n",
      "Epoch 14/500\n",
      "43/43 [==============================] - 1s 13ms/step - loss: 0.8564 - val_loss: 1.7781\n",
      "Epoch 15/500\n",
      "43/43 [==============================] - 1s 13ms/step - loss: 0.8150 - val_loss: 1.7973\n",
      "Epoch 16/500\n",
      "43/43 [==============================] - 1s 13ms/step - loss: 0.8149 - val_loss: 1.7975\n",
      "Epoch 17/500\n",
      "43/43 [==============================] - 1s 13ms/step - loss: 0.7581 - val_loss: 1.7887\n",
      "Epoch 18/500\n",
      "43/43 [==============================] - 1s 14ms/step - loss: 0.7477 - val_loss: 1.7918\n"
     ]
    }
   ],
   "source": [
    "from keras.callbacks import CSVLogger, TensorBoard, ReduceLROnPlateau, ModelCheckpoint, EarlyStopping, TerminateOnNaN\n",
    "\n",
    "# train model\n",
    "callbacks = [\n",
    "    ModelCheckpoint(filepath='models n logs/best_model_lstm.h5', monitor='val_loss', save_best_only=True),\n",
    "    EarlyStopping(monitor='val_loss', patience=10),\n",
    "    CSVLogger('models n logs/training_lstm.log'),\n",
    "    TensorBoard(log_dir='./logs_lstm'),\n",
    "    ReduceLROnPlateau(monitor='val_loss', factor=0.2, patience=5),  \n",
    "    TerminateOnNaN(),\n",
    "]\n",
    "\n",
    "\n",
    "with tf.device('/gpu:0'):\n",
    "\n",
    "    history = baseModel.model.fit(\n",
    "            x=[embedding1, embedding2],\n",
    "            y=y_train.to_numpy(),\n",
    "            epochs=num_epochs,\n",
    "            batch_size=batch_size,\n",
    "            validation_data=([embedding1val, embedding2val], y_val.to_numpy()),\n",
    "            callbacks=callbacks,\n",
    "            shuffle=True\n",
    "        )"
   ]
  },
  {
   "cell_type": "code",
   "execution_count": 29,
   "metadata": {},
   "outputs": [
    {
     "name": "stdout",
     "output_type": "stream",
     "text": [
      "Prediction: [[2.712517 ]\n",
      " [1.2227178]\n",
      " [2.2371798]\n",
      " ...\n",
      " [1.7833099]\n",
      " [2.7466278]\n",
      " [1.1902333]]\n"
     ]
    }
   ],
   "source": [
    "# make a prediction using your trained Siamese LSTM model\n",
    "predictions = baseModel.model.predict([embedding1test, embedding2test])\n",
    "print(f\"Prediction: {predictions}\")"
   ]
  },
  {
   "cell_type": "code",
   "execution_count": 30,
   "metadata": {},
   "outputs": [],
   "source": [
    "baseModel.model.save(\"LSTMMODEL.h5\")"
   ]
  },
  {
   "cell_type": "code",
   "execution_count": 31,
   "metadata": {},
   "outputs": [],
   "source": [
    "# we change dimension to evaluate our model when return sequences is true\n",
    "\n",
    "predictions_2d = predictions.mean(axis=1)\n",
    "predictions_1d = predictions_2d.flatten()\n"
   ]
  },
  {
   "cell_type": "code",
   "execution_count": 32,
   "metadata": {},
   "outputs": [
    {
     "name": "stdout",
     "output_type": "stream",
     "text": [
      "Mean squared error: 2.21\n",
      "Mean absolute error: 1.22\n",
      "R-squared score: 0.05\n",
      "Explained variance score: 0.10\n"
     ]
    }
   ],
   "source": [
    "from sklearn.metrics import mean_squared_error, mean_absolute_error, r2_score, explained_variance_score\n",
    "\n",
    "predictions = predictions_1d\n",
    "\n",
    "# Compute the mean squared error (MSE)\n",
    "mse = mean_squared_error(ytest, predictions)\n",
    "print(f\"Mean squared error: {mse:.2f}\")\n",
    "\n",
    "# Compute the mean absolute error (MAE)\n",
    "mae = mean_absolute_error(ytest, predictions)\n",
    "print(f\"Mean absolute error: {mae:.2f}\")\n",
    "\n",
    "# Compute the R-squared (R2) score\n",
    "r2 = r2_score(ytest, predictions)\n",
    "print(f\"R-squared score: {r2:.2f}\")\n",
    "\n",
    "# Compute the explained variance score\n",
    "evs = explained_variance_score(ytest, predictions)\n",
    "print(f\"Explained variance score: {evs:.2f}\")"
   ]
  },
  {
   "cell_type": "code",
   "execution_count": 33,
   "metadata": {},
   "outputs": [
    {
     "data": {
      "image/png": "[encoded data removed]",
      "text/plain": [
       "<Figure size 640x480 with 1 Axes>"
      ]
     },
     "metadata": {},
     "output_type": "display_data"
    }
   ],
   "source": [
    "import matplotlib.pyplot as plt\n",
    "\n",
    "\n",
    "# Plot the training loss and validation loss\n",
    "plt.plot(history.history['loss'])\n",
    "plt.plot(history.history['val_loss'])\n",
    "plt.title('Siamese Bidirectional LSTM Model Loss')\n",
    "plt.ylabel('Loss')\n",
    "plt.xlabel('Epoch')\n",
    "plt.legend(['Train', 'Validation'], loc='upper left')\n",
    "plt.savefig('plots/loss_plot_lstm.png')\n",
    "plt.show()\n"
   ]
  },
  {
   "cell_type": "code",
   "execution_count": null,
   "metadata": {},
   "outputs": [],
   "source": []
  }
 ],
 "metadata": {
  "kernelspec": {
   "display_name": "base",
   "language": "python",
   "name": "python3"
  },
  "language_info": {
   "codemirror_mode": {
    "name": "ipython",
    "version": 3
   },
   "file_extension": ".py",
   "mimetype": "text/x-python",
   "name": "python",
   "nbconvert_exporter": "python",
   "pygments_lexer": "ipython3",
   "version": "3.9.16"
  },
  "orig_nbformat": 4,
  "vscode": {
   "interpreter": {
    "hash": "bf26b7cd27d9cd28cd55d005abc5997c8cf6618532feec3ffc0f345246dd35e4"
   }
  }
 },
 "nbformat": 4,
 "nbformat_minor": 2
}
