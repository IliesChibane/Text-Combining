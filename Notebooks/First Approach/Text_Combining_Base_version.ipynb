{
 "cells": [
  {
   "attachments": {},
   "cell_type": "markdown",
   "metadata": {},
   "source": [
    "<center><h1>Base method</h1></center>\n",
    "<center><h1>Text combining using MLM and Word embeddings</h1></center>"
   ]
  },
  {
   "attachments": {},
   "cell_type": "markdown",
   "metadata": {},
   "source": [
    "## 0) Import the libraries"
   ]
  },
  {
   "cell_type": "code",
   "execution_count": 12,
   "metadata": {},
   "outputs": [],
   "source": [
    "import numpy as np\n",
    "import pandas as pd\n",
    "import sklearn as sk\n",
    "from sklearn.feature_extraction.text import CountVectorizer\n",
    "import re\n",
    "import spacy\n",
    "import transformers\n",
    "from transformers import pipeline\n",
    "import warnings\n",
    "from transformers import logging\n",
    "logging.set_verbosity_error()\n",
    "warnings.filterwarnings('ignore')"
   ]
  },
  {
   "cell_type": "code",
   "execution_count": 13,
   "metadata": {},
   "outputs": [
    {
     "name": "stdout",
     "output_type": "stream",
     "text": [
      "numpy version : 1.24.1\n",
      "pandas version : 1.5.3\n",
      "sklearn version : 1.2.1\n",
      "spacy version : 3.5.0\n",
      "transformers version : 4.26.1\n"
     ]
    }
   ],
   "source": [
    "print(\"numpy version : \"+np.__version__)\n",
    "print(\"pandas version : \"+pd.__version__)\n",
    "print(\"sklearn version : \"+sk.__version__)\n",
    "print(\"spacy version : \"+spacy.__version__)\n",
    "print(\"transformers version : \"+transformers.__version__)"
   ]
  },
  {
   "attachments": {},
   "cell_type": "markdown",
   "metadata": {},
   "source": [
    "## 1) Text Data representation and preprocessing"
   ]
  },
  {
   "cell_type": "code",
   "execution_count": 14,
   "metadata": {},
   "outputs": [
    {
     "data": {
      "text/plain": [
       "('I love to play video games in my free thyme',\n",
       " 'I live to play oreo games in my free time')"
      ]
     },
     "execution_count": 14,
     "metadata": {},
     "output_type": "execute_result"
    }
   ],
   "source": [
    "sentence1 = \"I love to play video games in my free thyme\"\n",
    "sentence2 = \"I live to play oreo games in my free time\"\n",
    "sentence1, sentence2"
   ]
  },
  {
   "cell_type": "code",
   "execution_count": 15,
   "metadata": {},
   "outputs": [
    {
     "data": {
      "text/html": [
       "<div>\n",
       "<style scoped>\n",
       "    .dataframe tbody tr th:only-of-type {\n",
       "        vertical-align: middle;\n",
       "    }\n",
       "\n",
       "    .dataframe tbody tr th {\n",
       "        vertical-align: top;\n",
       "    }\n",
       "\n",
       "    .dataframe thead th {\n",
       "        text-align: right;\n",
       "    }\n",
       "</style>\n",
       "<table border=\"1\" class=\"dataframe\">\n",
       "  <thead>\n",
       "    <tr style=\"text-align: right;\">\n",
       "      <th></th>\n",
       "      <th>free</th>\n",
       "      <th>games</th>\n",
       "      <th>in</th>\n",
       "      <th>live</th>\n",
       "      <th>love</th>\n",
       "      <th>my</th>\n",
       "      <th>oreo</th>\n",
       "      <th>play</th>\n",
       "      <th>thyme</th>\n",
       "      <th>time</th>\n",
       "      <th>to</th>\n",
       "      <th>video</th>\n",
       "    </tr>\n",
       "  </thead>\n",
       "  <tbody>\n",
       "    <tr>\n",
       "      <th>0</th>\n",
       "      <td>1</td>\n",
       "      <td>1</td>\n",
       "      <td>1</td>\n",
       "      <td>0</td>\n",
       "      <td>1</td>\n",
       "      <td>1</td>\n",
       "      <td>0</td>\n",
       "      <td>1</td>\n",
       "      <td>1</td>\n",
       "      <td>0</td>\n",
       "      <td>1</td>\n",
       "      <td>1</td>\n",
       "    </tr>\n",
       "    <tr>\n",
       "      <th>1</th>\n",
       "      <td>1</td>\n",
       "      <td>1</td>\n",
       "      <td>1</td>\n",
       "      <td>1</td>\n",
       "      <td>0</td>\n",
       "      <td>1</td>\n",
       "      <td>1</td>\n",
       "      <td>1</td>\n",
       "      <td>0</td>\n",
       "      <td>1</td>\n",
       "      <td>1</td>\n",
       "      <td>0</td>\n",
       "    </tr>\n",
       "  </tbody>\n",
       "</table>\n",
       "</div>"
      ],
      "text/plain": [
       "   free  games  in  live  love  my  oreo  play  thyme  time  to  video\n",
       "0     1      1   1     0     1   1     0     1      1     0   1      1\n",
       "1     1      1   1     1     0   1     1     1      0     1   1      0"
      ]
     },
     "execution_count": 15,
     "metadata": {},
     "output_type": "execute_result"
    }
   ],
   "source": [
    "# Bag of Words\n",
    "# Create a CountVectorizer object\n",
    "count_vectorizer = CountVectorizer()\n",
    "\n",
    "# Fit and transform the processed titles\n",
    "count_train = count_vectorizer.fit_transform([sentence1, sentence2])\n",
    "\n",
    "# Visualise the sparse matrix\n",
    "count_df = pd.DataFrame(count_train.A, columns=count_vectorizer.get_feature_names_out())\n",
    "count_df"
   ]
  },
  {
   "cell_type": "code",
   "execution_count": 16,
   "metadata": {},
   "outputs": [
    {
     "data": {
      "text/plain": [
       "['live', 'love', 'oreo', 'thyme', 'time', 'video']"
      ]
     },
     "execution_count": 16,
     "metadata": {},
     "output_type": "execute_result"
    }
   ],
   "source": [
    "# getting the uncommon parts\n",
    "uncommon_words = count_df.loc[:, (count_df.sum(axis=0) < 2)].columns.tolist()\n",
    "uncommon_words"
   ]
  },
  {
   "cell_type": "code",
   "execution_count": 17,
   "metadata": {},
   "outputs": [
    {
     "data": {
      "text/plain": [
       "('I [MASK] to play [MASK] games in my free [MASK]',\n",
       " 'I [MASK] to play [MASK] games in my free [MASK]',\n",
       " True)"
      ]
     },
     "execution_count": 17,
     "metadata": {},
     "output_type": "execute_result"
    }
   ],
   "source": [
    "# masking the uncommon words\n",
    "big_regex = re.compile('|'.join(map(re.escape, uncommon_words)))\n",
    "masked_sentence1 = big_regex.sub(\"[MASK]\", sentence1)\n",
    "masked_sentence2 = big_regex.sub(\"[MASK]\", sentence2)\n",
    "masked_sentence1, masked_sentence2, masked_sentence1 == masked_sentence1"
   ]
  },
  {
   "attachments": {},
   "cell_type": "markdown",
   "metadata": {},
   "source": [
    "### 2) Using Masked Language Model with BERT"
   ]
  },
  {
   "cell_type": "code",
   "execution_count": 18,
   "metadata": {},
   "outputs": [
    {
     "data": {
      "text/plain": [
       "[[{'score': 0.24123285710811615,\n",
       "   'token': 2109,\n",
       "   'token_str': 'used',\n",
       "   'sequence': '[CLS] i used to play [MASK] games in my free [MASK] [SEP]'},\n",
       "  {'score': 0.11024598032236099,\n",
       "   'token': 2066,\n",
       "   'token_str': 'like',\n",
       "   'sequence': '[CLS] i like to play [MASK] games in my free [MASK] [SEP]'},\n",
       "  {'score': 0.09037332981824875,\n",
       "   'token': 2018,\n",
       "   'token_str': 'had',\n",
       "   'sequence': '[CLS] i had to play [MASK] games in my free [MASK] [SEP]'},\n",
       "  {'score': 0.07627112418413162,\n",
       "   'token': 2359,\n",
       "   'token_str': 'wanted',\n",
       "   'sequence': '[CLS] i wanted to play [MASK] games in my free [MASK] [SEP]'},\n",
       "  {'score': 0.04367785528302193,\n",
       "   'token': 4669,\n",
       "   'token_str': 'liked',\n",
       "   'sequence': '[CLS] i liked to play [MASK] games in my free [MASK] [SEP]'}],\n",
       " [{'score': 0.26360970735549927,\n",
       "   'token': 2678,\n",
       "   'token_str': 'video',\n",
       "   'sequence': '[CLS] i [MASK] to play video games in my free [MASK] [SEP]'},\n",
       "  {'score': 0.07980097830295563,\n",
       "   'token': 2070,\n",
       "   'token_str': 'some',\n",
       "   'sequence': '[CLS] i [MASK] to play some games in my free [MASK] [SEP]'},\n",
       "  {'score': 0.06840812414884567,\n",
       "   'token': 1996,\n",
       "   'token_str': 'the',\n",
       "   'sequence': '[CLS] i [MASK] to play the games in my free [MASK] [SEP]'},\n",
       "  {'score': 0.04666844382882118,\n",
       "   'token': 2026,\n",
       "   'token_str': 'my',\n",
       "   'sequence': '[CLS] i [MASK] to play my games in my free [MASK] [SEP]'},\n",
       "  {'score': 0.03182198852300644,\n",
       "   'token': 2122,\n",
       "   'token_str': 'these',\n",
       "   'sequence': '[CLS] i [MASK] to play these games in my free [MASK] [SEP]'}],\n",
       " [{'score': 0.9844174385070801,\n",
       "   'token': 1012,\n",
       "   'token_str': '.',\n",
       "   'sequence': '[CLS] i [MASK] to play [MASK] games in my free. [SEP]'},\n",
       "  {'score': 0.009318863041698933,\n",
       "   'token': 1025,\n",
       "   'token_str': ';',\n",
       "   'sequence': '[CLS] i [MASK] to play [MASK] games in my free ; [SEP]'},\n",
       "  {'score': 0.004309209994971752,\n",
       "   'token': 999,\n",
       "   'token_str': '!',\n",
       "   'sequence': '[CLS] i [MASK] to play [MASK] games in my free! [SEP]'},\n",
       "  {'score': 0.0017250184901058674,\n",
       "   'token': 1029,\n",
       "   'token_str': '?',\n",
       "   'sequence': '[CLS] i [MASK] to play [MASK] games in my free? [SEP]'},\n",
       "  {'score': 5.844629049533978e-05,\n",
       "   'token': 2051,\n",
       "   'token_str': 'time',\n",
       "   'sequence': '[CLS] i [MASK] to play [MASK] games in my free time [SEP]'}]]"
      ]
     },
     "execution_count": 18,
     "metadata": {},
     "output_type": "execute_result"
    }
   ],
   "source": [
    "fill_mask = pipeline(\"fill-mask\", model=\"bert-base-uncased\")\n",
    "pred = fill_mask(masked_sentence1)\n",
    "pred"
   ]
  },
  {
   "attachments": {},
   "cell_type": "markdown",
   "metadata": {},
   "source": [
    "## 3) Combining the sentences using semantic similarity with word embeddings"
   ]
  },
  {
   "cell_type": "code",
   "execution_count": 19,
   "metadata": {},
   "outputs": [],
   "source": [
    "# get the uncommon words in the two sentences ordered by their appearance in sentence1  and sentence2\n",
    "def get_uncommon_words(sentence1, sentence2):\n",
    "    # get the words in sentence1 and sentence2\n",
    "    words1 = sentence1.split()\n",
    "    words2 = sentence2.split()\n",
    "    # get the uncommon words in the two sentences ordered by their appearance in sentence1  and sentence2\n",
    "    uncommon_words = [[word for word in words1 if word not in words2], [word for word in words2 if word not in words1]]\n",
    "    return uncommon_words"
   ]
  },
  {
   "cell_type": "code",
   "execution_count": 20,
   "metadata": {},
   "outputs": [],
   "source": [
    "nlp = spacy.load(\"en_core_web_md\")  # Load pre-trained word embeddings\n",
    "uncommon_words = get_uncommon_words(sentence1, sentence2)\n",
    "selected_words = []\n",
    "for i in range(len(pred)):\n",
    "    df1 = pd.DataFrame(pred[i])\n",
    "    word_list = df1[\"token_str\"].tolist()\n",
    "    string1 = uncommon_words[0][i]\n",
    "    string2 = uncommon_words[1][i]\n",
    "\n",
    "    # Calculate the semantic similarity between each string and the words in the list\n",
    "    similarity1 = np.mean([nlp(w).similarity(nlp(string1)) for w in word_list])\n",
    "    similarity2 = np.mean([nlp(w).similarity(nlp(string2)) for w in word_list])\n",
    "\n",
    "    if similarity1 > similarity2:\n",
    "        selected_words.append(string1)\n",
    "    else:\n",
    "        selected_words.append(string2)\n",
    "\n",
    "combined_sentence = masked_sentence1\n",
    "for index in range(len(selected_words)):\n",
    "    combined_sentence = combined_sentence.replace(\"[MASK]\", selected_words[index], 1)"
   ]
  },
  {
   "attachments": {},
   "cell_type": "markdown",
   "metadata": {},
   "source": [
    "## 4) Full function"
   ]
  },
  {
   "cell_type": "code",
   "execution_count": 21,
   "metadata": {},
   "outputs": [
    {
     "name": "stdout",
     "output_type": "stream",
     "text": [
      "Original Sentence 1:  I love to play video games in my free thyme\n",
      "Original Sentence 2:  I live to play oreo games in my free time\n",
      "Combined Sentence:  I love to play video games in my free time\n"
     ]
    }
   ],
   "source": [
    "def text_combining(sentence1, sentence2):\n",
    "    count_vectorizer = CountVectorizer()\n",
    "    count_train = count_vectorizer.fit_transform([sentence1, sentence2])\n",
    "    count_df = pd.DataFrame(count_train.A, columns=count_vectorizer.get_feature_names_out())\n",
    "\n",
    "    uncommon_words = count_df.loc[:, (count_df.sum(axis=0) < 2)].columns.tolist()\n",
    "\n",
    "    big_regex = re.compile('|'.join(map(re.escape, uncommon_words)))\n",
    "    masked_sentence = big_regex.sub(\"[MASK]\", sentence1)\n",
    "    \n",
    "    fill_mask = pipeline(\"fill-mask\", model=\"bert-base-uncased\")\n",
    "    pred = fill_mask(masked_sentence)\n",
    "\n",
    "    nlp = spacy.load(\"en_core_web_md\")  \n",
    "    uncommon_words_per_sentence = get_uncommon_words(sentence1, sentence2)\n",
    "    selected_words = []\n",
    "    for i in range(len(pred)):\n",
    "        df1 = pd.DataFrame(pred[i])\n",
    "        word_list = df1[\"token_str\"].tolist()\n",
    "        string1 = uncommon_words_per_sentence[0][i]\n",
    "        string2 = uncommon_words_per_sentence[1][i]\n",
    "\n",
    "        similarity1 = np.mean([nlp(w).similarity(nlp(string1)) for w in word_list])\n",
    "        similarity2 = np.mean([nlp(w).similarity(nlp(string2)) for w in word_list])\n",
    "\n",
    "        if similarity1 > similarity2:\n",
    "            selected_words.append(string1)\n",
    "        else:\n",
    "            selected_words.append(string2)\n",
    "\n",
    "    combined_sentence = masked_sentence\n",
    "    for index in range(len(selected_words)):\n",
    "        combined_sentence = combined_sentence.replace(\"[MASK]\", selected_words[index], 1)\n",
    "\n",
    "    print(\"Original Sentence 1: \", sentence1)\n",
    "    print(\"Original Sentence 2: \", sentence2)\n",
    "    print(\"Combined Sentence: \", combined_sentence)\n",
    "\n",
    "text_combining(sentence1, sentence2)"
   ]
  }
 ],
 "metadata": {
  "kernelspec": {
   "display_name": "PFE",
   "language": "python",
   "name": "python3"
  },
  "language_info": {
   "codemirror_mode": {
    "name": "ipython",
    "version": 3
   },
   "file_extension": ".py",
   "mimetype": "text/x-python",
   "name": "python",
   "nbconvert_exporter": "python",
   "pygments_lexer": "ipython3",
   "version": "3.8.16"
  },
  "orig_nbformat": 4,
  "vscode": {
   "interpreter": {
    "hash": "b2a1b4fd6911b04e406963c399e35b474a766f02ed3e2753bf1a3fe01dba319e"
   }
  }
 },
 "nbformat": 4,
 "nbformat_minor": 2
}
