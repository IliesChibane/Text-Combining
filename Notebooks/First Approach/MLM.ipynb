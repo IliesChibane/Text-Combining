{
 "cells": [
  {
   "cell_type": "code",
   "execution_count": 1,
   "metadata": {},
   "outputs": [],
   "source": [
    "import numpy as np\n",
    "import pandas as pd\n",
    "import transformers\n",
    "from transformers import pipeline\n",
    "# import warnings\n",
    "# from transformers import logging\n",
    "# logging.set_verbosity_error()\n",
    "# warnings.filterwarnings('ignore')"
   ]
  },
  {
   "cell_type": "code",
   "execution_count": 4,
   "metadata": {},
   "outputs": [],
   "source": [
    "masked_sentence = \"I love to [MASK] video games\""
   ]
  },
  {
   "cell_type": "code",
   "execution_count": 6,
   "metadata": {},
   "outputs": [
    {
     "data": {
      "text/plain": [
       "['play', 'watch', 'make', 'enjoy', 'read']"
      ]
     },
     "execution_count": 6,
     "metadata": {},
     "output_type": "execute_result"
    }
   ],
   "source": [
    "fill_mask = pipeline(\"fill-mask\", model=\"bert-base-uncased\")\n",
    "pred = fill_mask(\"I love to [MASK] video games\")\n",
    "df = pd.DataFrame(pred)\n",
    "word_list = df[\"token_str\"].tolist()\n",
    "word_list"
   ]
  },
  {
   "cell_type": "code",
   "execution_count": 5,
   "metadata": {},
   "outputs": [
    {
     "data": {
      "text/plain": [
       "[' play', ' make', ' watch', ' collect', ' beat']"
      ]
     },
     "execution_count": 5,
     "metadata": {},
     "output_type": "execute_result"
    }
   ],
   "source": [
    "fill_mask = pipeline(\"fill-mask\", model=\"roberta-base\")\n",
    "pred = fill_mask(\"I love to <mask> video games\")\n",
    "df = pd.DataFrame(pred)\n",
    "word_list = df[\"token_str\"].tolist()\n",
    "word_list"
   ]
  },
  {
   "cell_type": "code",
   "execution_count": 4,
   "metadata": {},
   "outputs": [
    {
     "data": {
      "text/plain": [
       "['watch', 'make', 'write', 'spend', 'tell']"
      ]
     },
     "execution_count": 4,
     "metadata": {},
     "output_type": "execute_result"
    }
   ],
   "source": [
    "fill_mask = pipeline(\"fill-mask\", model=\"albert-base-v2\")\n",
    "pred = fill_mask(\"I love to [MASK] video games\")\n",
    "df = pd.DataFrame(pred)\n",
    "word_list = df[\"token_str\"].tolist()\n",
    "word_list"
   ]
  },
  {
   "cell_type": "code",
   "execution_count": 6,
   "metadata": {},
   "outputs": [
    {
     "name": "stderr",
     "output_type": "stream",
     "text": [
      "No model was supplied, defaulted to distilroberta-base and revision ec58a5b (https://huggingface.co/distilroberta-base).\n",
      "Using a pipeline without specifying a model name and revision in production is not recommended.\n"
     ]
    },
    {
     "data": {
      "text/plain": [
       "[' play', ' watch', ' love', ' make', ' enjoy']"
      ]
     },
     "execution_count": 6,
     "metadata": {},
     "output_type": "execute_result"
    }
   ],
   "source": [
    "fill_mask = pipeline(\"fill-mask\", model=\"distilroberta-base\")\n",
    "pred = fill_mask(\"I love to <mask> video games\")\n",
    "df = pd.DataFrame(pred)\n",
    "word_list = df[\"token_str\"].tolist()\n",
    "word_list"
   ]
  },
  {
   "cell_type": "code",
   "execution_count": 8,
   "metadata": {},
   "outputs": [
    {
     "data": {
      "text/plain": [
       "['watch', 'play', 'read', 'write', 'shoot']"
      ]
     },
     "execution_count": 8,
     "metadata": {},
     "output_type": "execute_result"
    }
   ],
   "source": [
    "fill_mask = pipeline(\"fill-mask\", model=\"distilbert-base-uncased\")\n",
    "pred = fill_mask(\"I love to [MASK] video games\")\n",
    "df = pd.DataFrame(pred)\n",
    "word_list = df[\"token_str\"].tolist()\n",
    "word_list"
   ]
  }
 ],
 "metadata": {
  "kernelspec": {
   "display_name": "PFE",
   "language": "python",
   "name": "python3"
  },
  "language_info": {
   "codemirror_mode": {
    "name": "ipython",
    "version": 3
   },
   "file_extension": ".py",
   "mimetype": "text/x-python",
   "name": "python",
   "nbconvert_exporter": "python",
   "pygments_lexer": "ipython3",
   "version": "3.8.16"
  },
  "orig_nbformat": 4
 },
 "nbformat": 4,
 "nbformat_minor": 2
}
