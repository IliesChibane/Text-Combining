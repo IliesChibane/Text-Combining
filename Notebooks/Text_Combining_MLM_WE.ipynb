{
 "cells": [
  {
   "attachments": {},
   "cell_type": "markdown",
   "metadata": {},
   "source": [
    "<center><h1>First method</h1></center>\n",
    "<center><h1>Text combining using MLM and Word embeddings</h1></center>"
   ]
  },
  {
   "attachments": {},
   "cell_type": "markdown",
   "metadata": {},
   "source": [
    "## 0) Import the libraries"
   ]
  },
  {
   "cell_type": "code",
   "execution_count": 99,
   "metadata": {},
   "outputs": [],
   "source": [
    "import numpy as np\n",
    "import pandas as pd\n",
    "import sklearn as sk\n",
    "from sklearn.feature_extraction.text import CountVectorizer\n",
    "import re\n",
    "import spacy\n",
    "import transformers\n",
    "from transformers import pipeline\n",
    "import warnings\n",
    "from transformers import logging\n",
    "logging.set_verbosity_error()\n",
    "warnings.filterwarnings('ignore')"
   ]
  },
  {
   "cell_type": "code",
   "execution_count": 91,
   "metadata": {},
   "outputs": [
    {
     "name": "stdout",
     "output_type": "stream",
     "text": [
      "numpy version : 1.24.1\n",
      "pandas version : 1.5.3\n",
      "sklearn version : 1.2.1\n",
      "spacy version : 3.5.0\n",
      "transformers version : 4.26.1\n"
     ]
    }
   ],
   "source": [
    "print(\"numpy version : \"+np.__version__)\n",
    "print(\"pandas version : \"+pd.__version__)\n",
    "print(\"sklearn version : \"+sk.__version__)\n",
    "print(\"spacy version : \"+spacy.__version__)\n",
    "print(\"transformers version : \"+transformers.__version__)"
   ]
  },
  {
   "attachments": {},
   "cell_type": "markdown",
   "metadata": {},
   "source": [
    "## 1) Text Data representation and preprocessing"
   ]
  },
  {
   "cell_type": "code",
   "execution_count": 95,
   "metadata": {},
   "outputs": [
    {
     "data": {
      "text/plain": [
       "('I love to play video games in my free thyme',\n",
       " 'I live to play oreo games in my free time')"
      ]
     },
     "execution_count": 95,
     "metadata": {},
     "output_type": "execute_result"
    }
   ],
   "source": [
    "sentence1 = \"I love to play video games in my free thyme\"\n",
    "sentence2 = \"I live to play oreo games in my free time\"\n",
    "sentence1, sentence2"
   ]
  },
  {
   "cell_type": "code",
   "execution_count": 9,
   "metadata": {},
   "outputs": [
    {
     "data": {
      "text/html": [
       "<div>\n",
       "<style scoped>\n",
       "    .dataframe tbody tr th:only-of-type {\n",
       "        vertical-align: middle;\n",
       "    }\n",
       "\n",
       "    .dataframe tbody tr th {\n",
       "        vertical-align: top;\n",
       "    }\n",
       "\n",
       "    .dataframe thead th {\n",
       "        text-align: right;\n",
       "    }\n",
       "</style>\n",
       "<table border=\"1\" class=\"dataframe\">\n",
       "  <thead>\n",
       "    <tr style=\"text-align: right;\">\n",
       "      <th></th>\n",
       "      <th>free</th>\n",
       "      <th>games</th>\n",
       "      <th>in</th>\n",
       "      <th>live</th>\n",
       "      <th>love</th>\n",
       "      <th>my</th>\n",
       "      <th>oreo</th>\n",
       "      <th>play</th>\n",
       "      <th>thyme</th>\n",
       "      <th>time</th>\n",
       "      <th>to</th>\n",
       "      <th>video</th>\n",
       "    </tr>\n",
       "  </thead>\n",
       "  <tbody>\n",
       "    <tr>\n",
       "      <th>0</th>\n",
       "      <td>1</td>\n",
       "      <td>1</td>\n",
       "      <td>1</td>\n",
       "      <td>0</td>\n",
       "      <td>1</td>\n",
       "      <td>1</td>\n",
       "      <td>0</td>\n",
       "      <td>1</td>\n",
       "      <td>1</td>\n",
       "      <td>0</td>\n",
       "      <td>1</td>\n",
       "      <td>1</td>\n",
       "    </tr>\n",
       "    <tr>\n",
       "      <th>1</th>\n",
       "      <td>1</td>\n",
       "      <td>1</td>\n",
       "      <td>1</td>\n",
       "      <td>1</td>\n",
       "      <td>0</td>\n",
       "      <td>1</td>\n",
       "      <td>1</td>\n",
       "      <td>1</td>\n",
       "      <td>0</td>\n",
       "      <td>1</td>\n",
       "      <td>1</td>\n",
       "      <td>0</td>\n",
       "    </tr>\n",
       "  </tbody>\n",
       "</table>\n",
       "</div>"
      ],
      "text/plain": [
       "   free  games  in  live  love  my  oreo  play  thyme  time  to  video\n",
       "0     1      1   1     0     1   1     0     1      1     0   1      1\n",
       "1     1      1   1     1     0   1     1     1      0     1   1      0"
      ]
     },
     "execution_count": 9,
     "metadata": {},
     "output_type": "execute_result"
    }
   ],
   "source": [
    "# Bag of Words\n",
    "# Create a CountVectorizer object\n",
    "count_vectorizer = CountVectorizer()\n",
    "\n",
    "# Fit and transform the processed titles\n",
    "count_train = count_vectorizer.fit_transform([sentence1, sentence2])\n",
    "\n",
    "# Visualise the sparse matrix\n",
    "count_df = pd.DataFrame(count_train.A, columns=count_vectorizer.get_feature_names_out())\n",
    "count_df"
   ]
  },
  {
   "cell_type": "code",
   "execution_count": 74,
   "metadata": {},
   "outputs": [
    {
     "data": {
      "text/plain": [
       "['live', 'love', 'oreo', 'thyme', 'time', 'video']"
      ]
     },
     "execution_count": 74,
     "metadata": {},
     "output_type": "execute_result"
    }
   ],
   "source": [
    "# getting the uncommon parts\n",
    "uncommon_words = count_df.loc[:, (count_df.sum(axis=0) < 2)].columns.tolist()\n",
    "uncommon_words"
   ]
  },
  {
   "cell_type": "code",
   "execution_count": 75,
   "metadata": {},
   "outputs": [
    {
     "data": {
      "text/plain": [
       "('I [MASK] to play [MASK] games in my free [MASK]',\n",
       " 'I [MASK] to play [MASK] games in my free [MASK]',\n",
       " True)"
      ]
     },
     "execution_count": 75,
     "metadata": {},
     "output_type": "execute_result"
    }
   ],
   "source": [
    "# masking the uncommon words\n",
    "big_regex = re.compile('|'.join(map(re.escape, uncommon_words)))\n",
    "masked_sentence1 = big_regex.sub(\"[MASK]\", sentence1)\n",
    "masked_sentence2 = big_regex.sub(\"[MASK]\", sentence2)\n",
    "masked_sentence1, masked_sentence2, masked_sentence1 == masked_sentence1"
   ]
  },
  {
   "attachments": {},
   "cell_type": "markdown",
   "metadata": {},
   "source": [
    "### 2) Using Masked Language Model with BERT"
   ]
  },
  {
   "cell_type": "code",
   "execution_count": 26,
   "metadata": {},
   "outputs": [
    {
     "name": "stderr",
     "output_type": "stream",
     "text": [
      "Downloading (…)lve/main/config.json: 100%|██████████| 570/570 [00:00<00:00, 47.2kB/s]\n",
      "e:\\anaconda3\\envs\\PFE\\lib\\site-packages\\huggingface_hub\\file_download.py:133: UserWarning: `huggingface_hub` cache-system uses symlinks by default to efficiently store duplicated files but your machine does not support them in C:\\Users\\РА\\.cache\\huggingface\\hub. Caching files will still work but in a degraded version that might require more space on your disk. This warning can be disabled by setting the `HF_HUB_DISABLE_SYMLINKS_WARNING` environment variable. For more details, see https://huggingface.co/docs/huggingface_hub/how-to-cache#limitations.\n",
      "To support symlinks on Windows, you either need to activate Developer Mode or to run Python as an administrator. In order to see activate developer mode, see this article: https://docs.microsoft.com/en-us/windows/apps/get-started/enable-your-device-for-development\n",
      "  warnings.warn(message)\n",
      "Downloading pytorch_model.bin: 100%|██████████| 440M/440M [12:27<00:00, 589kB/s] \n",
      "Some weights of the model checkpoint at bert-base-uncased were not used when initializing BertForMaskedLM: ['cls.seq_relationship.bias', 'cls.seq_relationship.weight']\n",
      "- This IS expected if you are initializing BertForMaskedLM from the checkpoint of a model trained on another task or with another architecture (e.g. initializing a BertForSequenceClassification model from a BertForPreTraining model).\n",
      "- This IS NOT expected if you are initializing BertForMaskedLM from the checkpoint of a model that you expect to be exactly identical (initializing a BertForSequenceClassification model from a BertForSequenceClassification model).\n",
      "Downloading (…)okenizer_config.json: 100%|██████████| 28.0/28.0 [00:00<00:00, 2.79kB/s]\n",
      "Downloading (…)solve/main/vocab.txt: 100%|██████████| 232k/232k [00:00<00:00, 448kB/s]\n",
      "Downloading (…)/main/tokenizer.json: 100%|██████████| 466k/466k [00:00<00:00, 507kB/s]\n"
     ]
    },
    {
     "data": {
      "text/plain": [
       "[[{'score': 0.2295495718717575,\n",
       "   'token': 2109,\n",
       "   'token_str': 'used',\n",
       "   'sequence': '[CLS] i used to play [MASK] games in my free [MASK]. [SEP]'},\n",
       "  {'score': 0.09675238281488419,\n",
       "   'token': 2359,\n",
       "   'token_str': 'wanted',\n",
       "   'sequence': '[CLS] i wanted to play [MASK] games in my free [MASK]. [SEP]'},\n",
       "  {'score': 0.09212862700223923,\n",
       "   'token': 2018,\n",
       "   'token_str': 'had',\n",
       "   'sequence': '[CLS] i had to play [MASK] games in my free [MASK]. [SEP]'},\n",
       "  {'score': 0.07942536473274231,\n",
       "   'token': 2066,\n",
       "   'token_str': 'like',\n",
       "   'sequence': '[CLS] i like to play [MASK] games in my free [MASK]. [SEP]'},\n",
       "  {'score': 0.0750826895236969,\n",
       "   'token': 4669,\n",
       "   'token_str': 'liked',\n",
       "   'sequence': '[CLS] i liked to play [MASK] games in my free [MASK]. [SEP]'}],\n",
       " [{'score': 0.354796439409256,\n",
       "   'token': 2678,\n",
       "   'token_str': 'video',\n",
       "   'sequence': '[CLS] i [MASK] to play video games in my free [MASK]. [SEP]'},\n",
       "  {'score': 0.038730133324861526,\n",
       "   'token': 3274,\n",
       "   'token_str': 'computer',\n",
       "   'sequence': '[CLS] i [MASK] to play computer games in my free [MASK]. [SEP]'},\n",
       "  {'score': 0.03609278053045273,\n",
       "   'token': 2070,\n",
       "   'token_str': 'some',\n",
       "   'sequence': '[CLS] i [MASK] to play some games in my free [MASK]. [SEP]'},\n",
       "  {'score': 0.02959781140089035,\n",
       "   'token': 2026,\n",
       "   'token_str': 'my',\n",
       "   'sequence': '[CLS] i [MASK] to play my games in my free [MASK]. [SEP]'},\n",
       "  {'score': 0.028058532625436783,\n",
       "   'token': 1996,\n",
       "   'token_str': 'the',\n",
       "   'sequence': '[CLS] i [MASK] to play the games in my free [MASK]. [SEP]'}],\n",
       " [{'score': 0.9962500929832458,\n",
       "   'token': 2051,\n",
       "   'token_str': 'time',\n",
       "   'sequence': '[CLS] i [MASK] to play [MASK] games in my free time. [SEP]'},\n",
       "  {'score': 0.00046169490087777376,\n",
       "   'token': 2192,\n",
       "   'token_str': 'hand',\n",
       "   'sequence': '[CLS] i [MASK] to play [MASK] games in my free hand. [SEP]'},\n",
       "  {'score': 0.0003018291317857802,\n",
       "   'token': 2097,\n",
       "   'token_str': 'will',\n",
       "   'sequence': '[CLS] i [MASK] to play [MASK] games in my free will. [SEP]'},\n",
       "  {'score': 0.0002800446527544409,\n",
       "   'token': 2781,\n",
       "   'token_str': 'minutes',\n",
       "   'sequence': '[CLS] i [MASK] to play [MASK] games in my free minutes. [SEP]'},\n",
       "  {'score': 0.0001950216683326289,\n",
       "   'token': 2991,\n",
       "   'token_str': 'fall',\n",
       "   'sequence': '[CLS] i [MASK] to play [MASK] games in my free fall. [SEP]'}]]"
      ]
     },
     "execution_count": 26,
     "metadata": {},
     "output_type": "execute_result"
    }
   ],
   "source": [
    "fill_mask = pipeline(\"fill-mask\", model=\"bert-base-uncased\")\n",
    "pred = fill_mask(masked_sentence1)\n",
    "pred"
   ]
  },
  {
   "attachments": {},
   "cell_type": "markdown",
   "metadata": {},
   "source": [
    "## 3) Combining the sentences using semantic similarity with word embeddings"
   ]
  },
  {
   "cell_type": "code",
   "execution_count": 65,
   "metadata": {},
   "outputs": [],
   "source": [
    "# get the uncommon words in the two sentences ordered by their appearance in sentence1  and sentence2\n",
    "def get_uncommon_words(sentence1, sentence2):\n",
    "    # get the words in sentence1 and sentence2\n",
    "    words1 = sentence1.split()\n",
    "    words2 = sentence2.split()\n",
    "    # get the uncommon words in the two sentences ordered by their appearance in sentence1  and sentence2\n",
    "    uncommon_words = [[word for word in words1 if word not in words2], [word for word in words2 if word not in words1]]\n",
    "    return uncommon_words"
   ]
  },
  {
   "cell_type": "code",
   "execution_count": 92,
   "metadata": {},
   "outputs": [],
   "source": [
    "nlp = spacy.load(\"en_core_web_md\")  # Load pre-trained word embeddings\n",
    "uncommon_words = get_uncommon_words(sentence1, sentence2)\n",
    "selected_words = []\n",
    "for i in range(len(pred)):\n",
    "    df1 = pd.DataFrame(pred[i])\n",
    "    word_list = df1[\"token_str\"].tolist()\n",
    "    string1 = uncommon_words[0][i]\n",
    "    string2 = uncommon_words[1][i]\n",
    "\n",
    "    # Calculate the semantic similarity between each string and the words in the list\n",
    "    similarity1 = np.mean([nlp(w).similarity(nlp(string1)) for w in word_list])\n",
    "    similarity2 = np.mean([nlp(w).similarity(nlp(string2)) for w in word_list])\n",
    "\n",
    "    if similarity1 > similarity2:\n",
    "        selected_words.append(string1)\n",
    "    else:\n",
    "        selected_words.append(string2)\n",
    "\n",
    "combined_sentence = masked_sentence1\n",
    "for index in range(len(selected_words)):\n",
    "    combined_sentence = combined_sentence.replace(\"[MASK]\", selected_words[index], 1)"
   ]
  },
  {
   "attachments": {},
   "cell_type": "markdown",
   "metadata": {},
   "source": [
    "## 4) Full function"
   ]
  },
  {
   "cell_type": "code",
   "execution_count": 100,
   "metadata": {},
   "outputs": [
    {
     "name": "stdout",
     "output_type": "stream",
     "text": [
      "Original Sentence 1:  I love to play video games in my free thyme\n",
      "Original Sentence 2:  I live to play oreo games in my free time\n",
      "Combined Sentence:  I love to play video games in my free time\n"
     ]
    }
   ],
   "source": [
    "def text_combining(sentence1, sentence2):\n",
    "    count_vectorizer = CountVectorizer()\n",
    "    count_train = count_vectorizer.fit_transform([sentence1, sentence2])\n",
    "    count_df = pd.DataFrame(count_train.A, columns=count_vectorizer.get_feature_names_out())\n",
    "\n",
    "    uncommon_words = count_df.loc[:, (count_df.sum(axis=0) < 2)].columns.tolist()\n",
    "\n",
    "    big_regex = re.compile('|'.join(map(re.escape, uncommon_words)))\n",
    "    masked_sentence = big_regex.sub(\"[MASK]\", sentence1)\n",
    "    \n",
    "    fill_mask = pipeline(\"fill-mask\", model=\"bert-base-uncased\")\n",
    "    pred = fill_mask(masked_sentence)\n",
    "\n",
    "    nlp = spacy.load(\"en_core_web_md\")  \n",
    "    uncommon_words_per_sentence = get_uncommon_words(sentence1, sentence2)\n",
    "    selected_words = []\n",
    "    for i in range(len(pred)):\n",
    "        df1 = pd.DataFrame(pred[i])\n",
    "        word_list = df1[\"token_str\"].tolist()\n",
    "        string1 = uncommon_words_per_sentence[0][i]\n",
    "        string2 = uncommon_words_per_sentence[1][i]\n",
    "\n",
    "        similarity1 = np.mean([nlp(w).similarity(nlp(string1)) for w in word_list])\n",
    "        similarity2 = np.mean([nlp(w).similarity(nlp(string2)) for w in word_list])\n",
    "\n",
    "        if similarity1 > similarity2:\n",
    "            selected_words.append(string1)\n",
    "        else:\n",
    "            selected_words.append(string2)\n",
    "\n",
    "    combined_sentence = masked_sentence\n",
    "    for index in range(len(selected_words)):\n",
    "        combined_sentence = combined_sentence.replace(\"[MASK]\", selected_words[index], 1)\n",
    "\n",
    "    print(\"Original Sentence 1: \", sentence1)\n",
    "    print(\"Original Sentence 2: \", sentence2)\n",
    "    print(\"Combined Sentence: \", combined_sentence)\n",
    "\n",
    "text_combining(sentence1, sentence2)"
   ]
  }
 ],
 "metadata": {
  "kernelspec": {
   "display_name": "PFE",
   "language": "python",
   "name": "python3"
  },
  "language_info": {
   "codemirror_mode": {
    "name": "ipython",
    "version": 3
   },
   "file_extension": ".py",
   "mimetype": "text/x-python",
   "name": "python",
   "nbconvert_exporter": "python",
   "pygments_lexer": "ipython3",
   "version": "3.8.16"
  },
  "orig_nbformat": 4,
  "vscode": {
   "interpreter": {
    "hash": "b2a1b4fd6911b04e406963c399e35b474a766f02ed3e2753bf1a3fe01dba319e"
   }
  }
 },
 "nbformat": 4,
 "nbformat_minor": 2
}
